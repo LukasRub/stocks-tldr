{
 "cells": [
  {
   "cell_type": "code",
   "execution_count": 1,
   "id": "d22cf445",
   "metadata": {},
   "outputs": [],
   "source": [
    "import json\n",
    "from pathlib import Path"
   ]
  },
  {
   "cell_type": "code",
   "execution_count": 2,
   "id": "2c51b9fa",
   "metadata": {},
   "outputs": [],
   "source": [
    "id_counter = 0\n",
    "keys = {\"doc_id\", \"url\", \"title\", \"company\", \"ticker_top\", \"ticker_rel\", \"ticker_mentioned\"}\n",
    "docs = []"
   ]
  },
  {
   "cell_type": "code",
   "execution_count": 3,
   "id": "f59eb112",
   "metadata": {},
   "outputs": [],
   "source": [
    "def make_dict(keys=keys):\n",
    "    # `keys` is a free variable\n",
    "    d = {}\n",
    "    for k in keys:\n",
    "        d.setdefault(k, None)\n",
    "    return d"
   ]
  },
  {
   "cell_type": "code",
   "execution_count": 4,
   "id": "bc38b366",
   "metadata": {},
   "outputs": [],
   "source": [
    "# Run this cell after every time an article gets labelled\n",
    "# docs.append(doc)\n",
    "# id_counter += 1"
   ]
  },
  {
   "cell_type": "code",
   "execution_count": 5,
   "id": "7ebc43e4",
   "metadata": {},
   "outputs": [
    {
     "name": "stdout",
     "output_type": "stream",
     "text": [
      "0\n",
      "{'doc_id': 0, 'title': 'AT&T CFO Pascal Desroches Updates Shareholders', 'ticker_rel': ['AMC', 'AAPL'], 'ticker_mentioned': [True], 'company': 'AT&T', 'url': 'https://finance.yahoo.com/news/t-cfo-pascal-desroches-updates-003500023.html', 'ticker_top': ['T']}\n"
     ]
    }
   ],
   "source": [
    "print(id_counter)\n",
    "doc = make_dict()\n",
    "doc[\"doc_id\"] = id_counter\n",
    "doc[\"company\"] = \"AT&T\"\n",
    "doc[\"ticker_top\"] = [\"T\"]\n",
    "doc[\"ticker_rel\"] = [\"AMC\", \"AAPL\"]\n",
    "doc[\"url\"] = \"https://finance.yahoo.com/news/t-cfo-pascal-desroches-updates-003500023.html\"\n",
    "doc[\"title\"] = \"AT&T CFO Pascal Desroches Updates Shareholders\"\n",
    "doc[\"ticker_mentioned\"] = [True]\n",
    "\n",
    "docs.append(doc)\n",
    "id_counter += 1\n",
    "\n",
    "print(doc)"
   ]
  },
  {
   "cell_type": "code",
   "execution_count": 6,
   "id": "aea64eff",
   "metadata": {},
   "outputs": [
    {
     "name": "stdout",
     "output_type": "stream",
     "text": [
      "1\n",
      "{'doc_id': 1, 'title': 'Ford to build $11.4 billion mega campuses for electric car production', 'ticker_rel': ['GM', 'NIO', 'TSLA', 'PLUG'], 'ticker_mentioned': [True], 'company': 'Ford', 'url': 'https://finance.yahoo.com/news/ford-to-build-two-114-billion-mega-campuses-for-electric-car-production-230016248.html', 'ticker_top': ['F']}\n"
     ]
    }
   ],
   "source": [
    "print(id_counter)\n",
    "doc = make_dict()\n",
    "doc[\"doc_id\"] = id_counter\n",
    "doc[\"company\"] = \"Ford\"\n",
    "doc[\"ticker_top\"] = [\"F\"]\n",
    "doc[\"ticker_rel\"] = [\"GM\", \"NIO\", \"TSLA\", \"PLUG\"]\n",
    "doc[\"url\"] = \"https://finance.yahoo.com/news/ford-to-build-two-114-billion-mega-campuses-for-electric-car-production-230016248.html\"\n",
    "doc[\"title\"] = \"Ford to build $11.4 billion mega campuses for electric car production\"\n",
    "doc[\"ticker_mentioned\"] = [True]\n",
    "\n",
    "docs.append(doc)\n",
    "id_counter += 1\n",
    "\n",
    "print(doc)"
   ]
  },
  {
   "cell_type": "code",
   "execution_count": 7,
   "id": "1f4b7b21",
   "metadata": {},
   "outputs": [
    {
     "name": "stdout",
     "output_type": "stream",
     "text": [
      "2\n",
      "{'doc_id': 2, 'title': 'General Motors and Motorq Team Up to Help Fleets Reduce Costs, Improve Driving Through Real-time, In-Vehicle Coaching Service', 'ticker_rel': ['F', 'NIO', 'TSLA'], 'ticker_mentioned': [True], 'company': 'General Motors', 'url': 'https://finance.yahoo.com/news/general-motors-motorq-team-help-130000931.html', 'ticker_top': ['GM']}\n"
     ]
    }
   ],
   "source": [
    "print(id_counter)\n",
    "doc = make_dict()\n",
    "doc[\"doc_id\"] = id_counter\n",
    "doc[\"company\"] = \"General Motors\"\n",
    "doc[\"ticker_top\"] = [\"GM\"]\n",
    "doc[\"ticker_rel\"] = [\"F\", \"NIO\", \"TSLA\"]\n",
    "doc[\"url\"] = \"https://finance.yahoo.com/news/general-motors-motorq-team-help-130000931.html\"\n",
    "doc[\"title\"] = \"General Motors and Motorq Team Up to Help Fleets Reduce Costs, Improve Driving Through Real-time, In-Vehicle Coaching Service\"\n",
    "doc[\"ticker_mentioned\"] = [True]\n",
    "\n",
    "docs.append(doc)\n",
    "id_counter += 1\n",
    "\n",
    "print(doc)"
   ]
  },
  {
   "cell_type": "code",
   "execution_count": 8,
   "id": "8153e446",
   "metadata": {},
   "outputs": [
    {
     "name": "stdout",
     "output_type": "stream",
     "text": [
      "3\n",
      "{'doc_id': 3, 'title': 'NIO: Consumers Will Soon Realize NIO Has What Other EVs Are Missing, BaaS', 'ticker_rel': ['F', 'GM', 'TSLA', 'PLUG'], 'ticker_mentioned': [True], 'company': 'NIO', 'url': 'https://seekingalpha.com/article/4457311-nio-has-what-other-evs-are-missing-baas', 'ticker_top': ['NIO']}\n"
     ]
    }
   ],
   "source": [
    "print(id_counter)\n",
    "doc = make_dict()\n",
    "doc[\"doc_id\"] = id_counter\n",
    "doc[\"company\"] = \"NIO\"\n",
    "doc[\"ticker_top\"] = [\"NIO\"]\n",
    "doc[\"ticker_rel\"] = [\"F\", \"GM\", \"TSLA\", \"PLUG\"]\n",
    "doc[\"url\"] = \"https://seekingalpha.com/article/4457311-nio-has-what-other-evs-are-missing-baas\"\n",
    "doc[\"title\"] = \"NIO: Consumers Will Soon Realize NIO Has What Other EVs Are Missing, BaaS\"\n",
    "doc[\"ticker_mentioned\"] = [True]\n",
    "\n",
    "docs.append(doc)\n",
    "id_counter += 1\n",
    "\n",
    "print(doc)"
   ]
  },
  {
   "cell_type": "code",
   "execution_count": 9,
   "id": "fd0e8eda",
   "metadata": {},
   "outputs": [
    {
     "name": "stdout",
     "output_type": "stream",
     "text": [
      "4\n",
      "{'doc_id': 4, 'title': 'EV Competition Has Arrived: Does Tesla Have The Answer?', 'ticker_rel': ['F', 'GM', 'NIO', 'PLUG'], 'ticker_mentioned': [True], 'company': 'Tesla', 'url': 'https://seekingalpha.com/article/4457328-ev-competition-has-arrived-does-tesla-have-answer', 'ticker_top': ['TSLA']}\n"
     ]
    }
   ],
   "source": [
    "print(id_counter)\n",
    "doc = make_dict()\n",
    "doc[\"doc_id\"] = id_counter\n",
    "doc[\"company\"] = \"Tesla\"\n",
    "doc[\"ticker_top\"] = [\"TSLA\"]\n",
    "doc[\"ticker_rel\"] = [\"F\", \"GM\", \"NIO\", \"PLUG\"]\n",
    "doc[\"url\"] = \"https://seekingalpha.com/article/4457328-ev-competition-has-arrived-does-tesla-have-answer\"\n",
    "doc[\"title\"] = \"EV Competition Has Arrived: Does Tesla Have The Answer?\"\n",
    "doc[\"ticker_mentioned\"] = [True]\n",
    "\n",
    "docs.append(doc)\n",
    "id_counter += 1\n",
    "\n",
    "print(doc)"
   ]
  },
  {
   "cell_type": "code",
   "execution_count": 10,
   "id": "1e174555",
   "metadata": {},
   "outputs": [
    {
     "name": "stdout",
     "output_type": "stream",
     "text": [
      "5\n",
      "{'doc_id': 5, 'title': 'Better Beer Stock: Ambev or Boston Beer Company?', 'ticker_rel': [], 'ticker_mentioned': [True], 'company': 'Ambev', 'url': 'https://stocknews.com/news/abev-sam-better-beer-stock-ambev-or-boston-beer-company/', 'ticker_top': ['ABEV']}\n"
     ]
    }
   ],
   "source": [
    "print(id_counter)\n",
    "doc = make_dict()\n",
    "doc[\"doc_id\"] = id_counter\n",
    "doc[\"company\"] = \"Ambev\"\n",
    "doc[\"ticker_top\"] = [\"ABEV\"]\n",
    "doc[\"ticker_rel\"] = []\n",
    "doc[\"url\"] = \"https://stocknews.com/news/abev-sam-better-beer-stock-ambev-or-boston-beer-company/\"\n",
    "doc[\"title\"] = \"Better Beer Stock: Ambev or Boston Beer Company?\"\n",
    "doc[\"ticker_mentioned\"] = [True]\n",
    "\n",
    "docs.append(doc)\n",
    "id_counter += 1\n",
    "\n",
    "print(doc)"
   ]
  },
  {
   "cell_type": "code",
   "execution_count": 11,
   "id": "20f9adc1",
   "metadata": {},
   "outputs": [
    {
     "name": "stdout",
     "output_type": "stream",
     "text": [
      "6\n",
      "{'doc_id': 6, 'title': 'Carnival says cruise bookings for 2022 second half above pre-pandemic levels', 'ticker_rel': ['NCLH'], 'ticker_mentioned': [True], 'company': 'Carnival', 'url': 'https://www.cnbc.com/2021/09/24/cruise-operator-carnival-posts-2-billion-adjusted-quarterly-loss-.html', 'ticker_top': ['CCL']}\n"
     ]
    }
   ],
   "source": [
    "print(id_counter)\n",
    "doc = make_dict()\n",
    "doc[\"doc_id\"] = id_counter\n",
    "doc[\"company\"] = \"Carnival\"\n",
    "doc[\"ticker_top\"] = [\"CCL\"]\n",
    "doc[\"ticker_rel\"] = [\"NCLH\"]\n",
    "doc[\"url\"] = \"https://www.cnbc.com/2021/09/24/cruise-operator-carnival-posts-2-billion-adjusted-quarterly-loss-.html\"\n",
    "doc[\"title\"] = \"Carnival says cruise bookings for 2022 second half above pre-pandemic levels\"\n",
    "doc[\"ticker_mentioned\"] = [True]\n",
    "\n",
    "docs.append(doc)\n",
    "id_counter += 1\n",
    "\n",
    "print(doc)"
   ]
  },
  {
   "cell_type": "code",
   "execution_count": 12,
   "id": "d6f9948b",
   "metadata": {},
   "outputs": [
    {
     "name": "stdout",
     "output_type": "stream",
     "text": [
      "7\n",
      "{'doc_id': 7, 'title': 'Norwegian Cruise Line Officially Returns to New York', 'ticker_rel': ['CCL'], 'ticker_mentioned': [False], 'company': 'Norwegian Cruise Line Holdings', 'url': 'https://www.travelmarketreport.com/Cruise/articles/Norwegian-Cruise-Line-Officially-Returns-to-New-York', 'ticker_top': ['NCLH']}\n"
     ]
    }
   ],
   "source": [
    "print(id_counter)\n",
    "doc = make_dict()\n",
    "doc[\"doc_id\"] = id_counter\n",
    "doc[\"company\"] = \"Norwegian Cruise Line Holdings\"\n",
    "doc[\"ticker_top\"] = [\"NCLH\"]\n",
    "doc[\"ticker_rel\"] = [\"CCL\"]\n",
    "doc[\"url\"] = \"https://www.travelmarketreport.com/Cruise/articles/Norwegian-Cruise-Line-Officially-Returns-to-New-York\"\n",
    "doc[\"title\"] = \"Norwegian Cruise Line Officially Returns to New York\"\n",
    "doc[\"ticker_mentioned\"] = [False]\n",
    "\n",
    "docs.append(doc)\n",
    "id_counter += 1\n",
    "\n",
    "print(doc)"
   ]
  },
  {
   "cell_type": "code",
   "execution_count": 13,
   "id": "f0a1340e",
   "metadata": {},
   "outputs": [
    {
     "name": "stdout",
     "output_type": "stream",
     "text": [
      "8\n",
      "{'doc_id': 8, 'title': 'AMC takes advantage of pandemic to expand presence in one notable city: Tinseltown', 'ticker_rel': [], 'ticker_mentioned': [True], 'company': 'AMC', 'url': 'https://www.bizjournals.com/kansascity/news/2021/09/27/amc-entertainment-theater-expansion-los-angeles.html', 'ticker_top': ['AMC']}\n"
     ]
    }
   ],
   "source": [
    "print(id_counter)\n",
    "doc = make_dict()\n",
    "doc[\"doc_id\"] = id_counter \n",
    "doc[\"company\"] = \"AMC\" \n",
    "doc[\"ticker_top\"] = [\"AMC\"] \n",
    "doc[\"ticker_rel\"] = [] \n",
    "doc[\"url\"] = \"https://www.bizjournals.com/kansascity/news/2021/09/27/amc-entertainment-theater-expansion-los-angeles.html\" \n",
    "doc[\"title\"] = \"AMC takes advantage of pandemic to expand presence in one notable city: Tinseltown\" \n",
    "doc[\"ticker_mentioned\"] = [True] \n",
    "\n",
    "docs.append(doc) \n",
    "id_counter += 1 \n",
    "\n",
    "print(doc)"
   ]
  },
  {
   "cell_type": "code",
   "execution_count": 14,
   "id": "137f2931",
   "metadata": {},
   "outputs": [
    {
     "name": "stdout",
     "output_type": "stream",
     "text": [
      "9\n",
      "{'doc_id': 9, 'title': 'China: New Oriental closes K-12 subsidiary', 'ticker_rel': [], 'ticker_mentioned': [False], 'company': 'New Oriental Education & Tech Group', 'url': 'https://thepienews.com/news/new-oriental-closes-k-12-subsidiary/', 'ticker_top': ['EDU']}\n"
     ]
    }
   ],
   "source": [
    "print(id_counter)\n",
    "doc = make_dict()\n",
    "doc[\"doc_id\"] = id_counter\n",
    "doc[\"company\"] = \"New Oriental Education & Tech Group\"\n",
    "doc[\"ticker_top\"] = [\"EDU\"]\n",
    "doc[\"ticker_rel\"] = []\n",
    "doc[\"url\"] = \"https://thepienews.com/news/new-oriental-closes-k-12-subsidiary/\"\n",
    "doc[\"title\"] = \"China: New Oriental closes K-12 subsidiary\"\n",
    "doc[\"ticker_mentioned\"] = [False]\n",
    "\n",
    "docs.append(doc)\n",
    "id_counter += 1\n",
    "\n",
    "print(doc)"
   ]
  },
  {
   "cell_type": "code",
   "execution_count": 15,
   "id": "e0849fd3",
   "metadata": {},
   "outputs": [
    {
     "name": "stdout",
     "output_type": "stream",
     "text": [
      "10\n",
      "{'doc_id': 10, 'title': 'Fresno County Will Soon Be Home to the Largest Green Hydrogen Plant on the West Coast', 'ticker_rel': [], 'ticker_mentioned': [False], 'company': 'Plug Power', 'url': 'https://www.triplepundit.com/story/2021/plug-power-green-hydrogen/728856', 'ticker_top': ['PLUG']}\n"
     ]
    }
   ],
   "source": [
    "print(id_counter)\n",
    "doc = make_dict()\n",
    "doc[\"doc_id\"] = id_counter\n",
    "doc[\"company\"] = \"Plug Power\"\n",
    "doc[\"ticker_top\"] = [\"PLUG\"]\n",
    "doc[\"ticker_rel\"] = []\n",
    "doc[\"url\"] = \"https://www.triplepundit.com/story/2021/plug-power-green-hydrogen/728856\"\n",
    "doc[\"title\"] = \"Fresno County Will Soon Be Home to the Largest Green Hydrogen Plant on the West Coast\"\n",
    "doc[\"ticker_mentioned\"] = [False]\n",
    "\n",
    "docs.append(doc)\n",
    "id_counter += 1\n",
    "\n",
    "print(doc)"
   ]
  },
  {
   "cell_type": "code",
   "execution_count": 16,
   "id": "88efb129",
   "metadata": {},
   "outputs": [
    {
     "name": "stdout",
     "output_type": "stream",
     "text": [
      "11\n",
      "{'doc_id': 11, 'title': 'AMD CEO Sees Chip Shortage Easing in 2022', 'ticker_rel': ['INTC', 'MU', 'NVDA', 'TSM', 'AAPL'], 'ticker_mentioned': [False], 'company': 'Advanced Micro Devices', 'url': 'https://www.barrons.com/articles/amd-ceo-chip-shortage-51632784863', 'ticker_top': ['AMD']}\n"
     ]
    }
   ],
   "source": [
    "print(id_counter)\n",
    "doc = make_dict()\n",
    "doc[\"doc_id\"] = id_counter\n",
    "doc[\"company\"] = \"Advanced Micro Devices\"\n",
    "doc[\"ticker_top\"] = [\"AMD\"]\n",
    "doc[\"ticker_rel\"] = [\"INTC\", \"MU\", \"NVDA\", \"TSM\", \"AAPL\"]\n",
    "doc[\"url\"] = \"https://www.barrons.com/articles/amd-ceo-chip-shortage-51632784863\"\n",
    "doc[\"title\"] = \"AMD CEO Sees Chip Shortage Easing in 2022\"\n",
    "doc[\"ticker_mentioned\"] = [False]\n",
    "\n",
    "docs.append(doc)\n",
    "id_counter += 1\n",
    "\n",
    "print(doc)"
   ]
  },
  {
   "cell_type": "code",
   "execution_count": 17,
   "id": "4f3e83b3",
   "metadata": {},
   "outputs": [
    {
     "name": "stdout",
     "output_type": "stream",
     "text": [
      "12\n",
      "{'doc_id': 12, 'title': \"New Benchmark Leak Reveals Impressive Performance Of Intel's 12900K, 12700K And 12600K Alder Lake Processors\", 'ticker_rel': ['AMD', 'MU', 'NVDA', 'TSM', 'AAPL'], 'ticker_mentioned': [False], 'company': 'Intel', 'url': 'https://www.forbes.com/sites/antonyleather/2021/09/27/new-benchmark-leak-reveals-impressive-performance-of-intels-12900k-12700k-and-12600k-alder-lake-processors/', 'ticker_top': ['INTC']}\n"
     ]
    }
   ],
   "source": [
    "print(id_counter)\n",
    "doc = make_dict()\n",
    "doc[\"doc_id\"] = id_counter\n",
    "doc[\"company\"] = \"Intel\"\n",
    "doc[\"ticker_top\"] = [\"INTC\"]\n",
    "doc[\"ticker_rel\"] = [\"AMD\", \"MU\", \"NVDA\", \"TSM\", \"AAPL\"]\n",
    "doc[\"url\"] = \"https://www.forbes.com/sites/antonyleather/2021/09/27/new-benchmark-leak-reveals-impressive-performance-of-intels-12900k-12700k-and-12600k-alder-lake-processors/\"\n",
    "doc[\"title\"] = \"New Benchmark Leak Reveals Impressive Performance Of Intel's 12900K, 12700K And 12600K Alder Lake Processors\"\n",
    "doc[\"ticker_mentioned\"] = [False]\n",
    "\n",
    "docs.append(doc)\n",
    "id_counter += 1\n",
    "\n",
    "print(doc)"
   ]
  },
  {
   "cell_type": "code",
   "execution_count": 18,
   "id": "63d38925",
   "metadata": {},
   "outputs": [
    {
     "name": "stdout",
     "output_type": "stream",
     "text": [
      "13\n",
      "{'doc_id': 13, 'title': 'Micron Correction Slowly Coming to an End', 'ticker_rel': ['AMD', 'INTC', 'NVDA', 'TSM', 'AAPL'], 'ticker_mentioned': [True], 'company': 'Micron Technology', 'url': 'https://finance.yahoo.com/news/micron-correction-slowly-coming-end-123026397.html', 'ticker_top': ['MU']}\n"
     ]
    }
   ],
   "source": [
    "print(id_counter)\n",
    "doc = make_dict()\n",
    "doc[\"doc_id\"] = id_counter\n",
    "doc[\"company\"] = \"Micron Technology\"\n",
    "doc[\"ticker_top\"] = [\"MU\"]\n",
    "doc[\"ticker_rel\"] = [\"AMD\", \"INTC\", \"NVDA\", \"TSM\", \"AAPL\"]\n",
    "doc[\"url\"] = \"https://finance.yahoo.com/news/micron-correction-slowly-coming-end-123026397.html\"\n",
    "doc[\"title\"] = \"Micron Correction Slowly Coming to an End\"\n",
    "doc[\"ticker_mentioned\"] = [True]\n",
    "\n",
    "docs.append(doc)\n",
    "id_counter += 1\n",
    "\n",
    "print(doc)"
   ]
  },
  {
   "cell_type": "code",
   "execution_count": 19,
   "id": "66265125",
   "metadata": {},
   "outputs": [
    {
     "name": "stdout",
     "output_type": "stream",
     "text": [
      "14\n",
      "{'doc_id': 14, 'title': 'Why Nvidia Investors Are Nervous Today', 'ticker_rel': ['AMD', 'INTC', 'MU', 'TSM', 'AAPL', 'TSLA'], 'ticker_mentioned': [True], 'company': 'Nvidia', 'url': 'https://www.fool.com/investing/2021/09/27/why-nvidia-investors-are-nervous-today/', 'ticker_top': ['NVDA']}\n"
     ]
    }
   ],
   "source": [
    "print(id_counter)\n",
    "doc = make_dict()\n",
    "doc[\"doc_id\"] = id_counter\n",
    "doc[\"company\"] = \"Nvidia\"\n",
    "doc[\"ticker_top\"] = [\"NVDA\"]\n",
    "doc[\"ticker_rel\"] = [\"AMD\", \"INTC\", \"MU\", \"TSM\", \"AAPL\", \"TSLA\"]\n",
    "doc[\"url\"] = \"https://www.fool.com/investing/2021/09/27/why-nvidia-investors-are-nervous-today/\"\n",
    "doc[\"title\"] = \"Why Nvidia Investors Are Nervous Today\"\n",
    "doc[\"ticker_mentioned\"] = [True]\n",
    "\n",
    "docs.append(doc)\n",
    "id_counter += 1\n",
    "\n",
    "print(doc)"
   ]
  },
  {
   "cell_type": "code",
   "execution_count": 20,
   "id": "38c0072a",
   "metadata": {},
   "outputs": [
    {
     "name": "stdout",
     "output_type": "stream",
     "text": [
      "15\n",
      "{'doc_id': 15, 'title': 'Can India’s proposed semiconductor deal with Taiwan be a gamechanger?', 'ticker_rel': ['AMD', 'INTC', 'MU', 'NVDA', 'AAPL'], 'ticker_mentioned': [False], 'company': 'Taiwan Semiconductor', 'url': 'https://www.theweek.in/news/biz-tech/2021/09/28/can-india-proposed-semiconductor-deal-with-taiwan-gamechanger.html', 'ticker_top': ['TSM']}\n"
     ]
    }
   ],
   "source": [
    "print(id_counter)\n",
    "doc = make_dict()\n",
    "doc[\"doc_id\"] = id_counter\n",
    "doc[\"company\"] = \"Taiwan Semiconductor\"\n",
    "doc[\"ticker_top\"] = [\"TSM\"]\n",
    "doc[\"ticker_rel\"] = [\"AMD\", \"INTC\", \"MU\", \"NVDA\", \"AAPL\"]\n",
    "doc[\"url\"] = \"https://www.theweek.in/news/biz-tech/2021/09/28/can-india-proposed-semiconductor-deal-with-taiwan-gamechanger.html\"\n",
    "doc[\"title\"] = \"Can India’s proposed semiconductor deal with Taiwan be a gamechanger?\"\n",
    "doc[\"ticker_mentioned\"] = [False]\n",
    "\n",
    "docs.append(doc)\n",
    "id_counter += 1\n",
    "\n",
    "print(doc)"
   ]
  },
  {
   "cell_type": "code",
   "execution_count": 21,
   "id": "b12d9f08",
   "metadata": {},
   "outputs": [
    {
     "name": "stdout",
     "output_type": "stream",
     "text": [
      "16\n",
      "{'doc_id': 16, 'title': \"Taiwan Semiconductor Is A Chip Manufacturing Giant That Should Be On Investors' Radar\", 'ticker_rel': ['AMD', 'INTC', 'MU', 'NVDA', 'AAPL'], 'ticker_mentioned': [True], 'company': 'Taiwan Semiconductor', 'url': 'https://seekingalpha.com/article/4452820-taiwan-semiconductor-is-a-chip-manufacturing-giant-that-should-be-on-investors-radar', 'ticker_top': ['TSM']}\n"
     ]
    }
   ],
   "source": [
    "print(id_counter)\n",
    "doc = make_dict()\n",
    "doc[\"doc_id\"] = id_counter\n",
    "doc[\"company\"] = \"Taiwan Semiconductor\"\n",
    "doc[\"ticker_top\"] = [\"TSM\"]\n",
    "doc[\"ticker_rel\"] = [\"AMD\", \"INTC\", \"MU\", \"NVDA\", \"AAPL\"]\n",
    "doc[\"url\"] = \"https://seekingalpha.com/article/4452820-taiwan-semiconductor-is-a-chip-manufacturing-giant-that-should-be-on-investors-radar\"\n",
    "doc[\"title\"] = \"Taiwan Semiconductor Is A Chip Manufacturing Giant That Should Be On Investors' Radar\"\n",
    "doc[\"ticker_mentioned\"] = [True]\n",
    "\n",
    "docs.append(doc)\n",
    "id_counter += 1\n",
    "\n",
    "print(doc)"
   ]
  },
  {
   "cell_type": "code",
   "execution_count": 22,
   "id": "d165c1dc",
   "metadata": {},
   "outputs": [
    {
     "name": "stdout",
     "output_type": "stream",
     "text": [
      "17\n",
      "{'doc_id': 17, 'title': \"In a huge blow, judge rules Apple can't force developers to exclusively use its App Store payment system\", 'ticker_rel': ['AMD', 'INTC', 'MU', 'NVDA', 'TSM'], 'ticker_mentioned': [True], 'company': 'Apple', 'url': 'https://edition.cnn.com/2021/09/10/tech/apple-epic-games-fortnite-decision/index.html', 'ticker_top': ['AAPL']}\n"
     ]
    }
   ],
   "source": [
    "print(id_counter)\n",
    "doc = make_dict()\n",
    "doc[\"doc_id\"] = id_counter \n",
    "doc[\"company\"] = \"Apple\" \n",
    "doc[\"ticker_top\"] = [\"AAPL\"] \n",
    "doc[\"ticker_rel\"] = [\"AMD\", \"INTC\", \"MU\", \"NVDA\", \"TSM\"] \n",
    "doc[\"url\"] = \"https://edition.cnn.com/2021/09/10/tech/apple-epic-games-fortnite-decision/index.html\" \n",
    "doc[\"title\"] = \"In a huge blow, judge rules Apple can't force developers to exclusively use its App Store payment system\" \n",
    "doc[\"ticker_mentioned\"] = [True] \n",
    "\n",
    "docs.append(doc) \n",
    "id_counter += 1 \n",
    "\n",
    "print(doc)"
   ]
  },
  {
   "cell_type": "code",
   "execution_count": 23,
   "id": "8ca46567",
   "metadata": {},
   "outputs": [
    {
     "name": "stdout",
     "output_type": "stream",
     "text": [
      "18\n",
      "{'doc_id': 18, 'title': 'Brits line up for gas as BP closes some service stations', 'ticker_rel': ['CVX', 'XOM', 'PBR', 'OXY'], 'ticker_mentioned': [True], 'company': 'BP plc', 'url': 'https://edition.cnn.com/2021/09/23/business/bp-fuel-supply-driver-shortage/index.html', 'ticker_top': ['BP']}\n"
     ]
    }
   ],
   "source": [
    "print(id_counter)\n",
    "doc = make_dict()\n",
    "doc[\"doc_id\"] = id_counter \n",
    "doc[\"company\"] = \"BP plc\" \n",
    "doc[\"ticker_top\"] = [\"BP\"] \n",
    "doc[\"ticker_rel\"] = [\"CVX\", \"XOM\", \"PBR\", \"OXY\"] \n",
    "doc[\"url\"] = \"https://edition.cnn.com/2021/09/23/business/bp-fuel-supply-driver-shortage/index.html\" \n",
    "doc[\"title\"] = \"Brits line up for gas as BP closes some service stations\" \n",
    "doc[\"ticker_mentioned\"] = [True] \n",
    "\n",
    "docs.append(doc) \n",
    "id_counter += 1 \n",
    "\n",
    "print(doc)"
   ]
  },
  {
   "cell_type": "code",
   "execution_count": 24,
   "id": "6c876e7b",
   "metadata": {},
   "outputs": [
    {
     "name": "stdout",
     "output_type": "stream",
     "text": [
      "19\n",
      "{'doc_id': 19, 'title': 'Why Chevron And Exxon Shun Solar And Wind', 'ticker_rel': ['BP', 'PBR', 'OXY'], 'ticker_mentioned': [False, False], 'company': 'Chevron', 'url': 'https://finance.yahoo.com/news/why-chevron-exxon-shun-solar-210000813.html', 'ticker_top': ['CVX', 'XOM']}\n"
     ]
    }
   ],
   "source": [
    "print(id_counter)\n",
    "doc = make_dict()\n",
    "doc[\"doc_id\"] = id_counter \n",
    "doc[\"company\"] = \"Chevron\" \n",
    "doc[\"ticker_top\"] = [\"CVX\", \"XOM\"] \n",
    "doc[\"ticker_rel\"] = [\"BP\", \"PBR\", \"OXY\"] \n",
    "doc[\"url\"] = \"https://finance.yahoo.com/news/why-chevron-exxon-shun-solar-210000813.html\" \n",
    "doc[\"title\"] = \"Why Chevron And Exxon Shun Solar And Wind\" \n",
    "doc[\"ticker_mentioned\"] = [False, False] \n",
    "\n",
    "docs.append(doc)\n",
    "id_counter += 1 \n",
    "\n",
    "print(doc)"
   ]
  },
  {
   "cell_type": "code",
   "execution_count": 25,
   "id": "8a186f27",
   "metadata": {},
   "outputs": [
    {
     "name": "stdout",
     "output_type": "stream",
     "text": [
      "20\n",
      "{'doc_id': 20, 'title': 'Petrobras (PBR) Aims to Obtain Net-Zero Emission From Operations', 'ticker_rel': ['CVX', 'XOM', 'BP', 'OXY'], 'ticker_mentioned': [True], 'company': 'Petroleo Brasileiro S.A.', 'url': 'https://www.zacks.com/stock/news/1799571/petrobras-pbr-aims-to-obtain-net-zero-emission-from-operations', 'ticker_top': ['PBR']}\n"
     ]
    }
   ],
   "source": [
    "print(id_counter)\n",
    "doc = make_dict()\n",
    "doc[\"doc_id\"] = id_counter \n",
    "doc[\"company\"] = \"Petroleo Brasileiro S.A.\"\n",
    "doc[\"ticker_top\"] = [\"PBR\"] \n",
    "doc[\"ticker_rel\"] = [\"CVX\", \"XOM\", \"BP\", \"OXY\"] \n",
    "doc[\"url\"] = \"https://www.zacks.com/stock/news/1799571/petrobras-pbr-aims-to-obtain-net-zero-emission-from-operations\" \n",
    "doc[\"title\"] = \"Petrobras (PBR) Aims to Obtain Net-Zero Emission From Operations\" \n",
    "doc[\"ticker_mentioned\"] = [True] \n",
    "\n",
    "docs.append(doc) \n",
    "id_counter += 1 \n",
    "\n",
    "print(doc)"
   ]
  },
  {
   "cell_type": "code",
   "execution_count": 26,
   "id": "09808db8",
   "metadata": {},
   "outputs": [
    {
     "name": "stdout",
     "output_type": "stream",
     "text": [
      "21\n",
      "{'doc_id': 21, 'title': 'Has Occidental Petroleum (OXY) Outpaced Other Oils-Energy Stocks This Year?', 'ticker_rel': ['CVX', 'XOM', 'BP', 'PBR'], 'ticker_mentioned': [True], 'company': 'Occidental', 'url': 'https://finance.yahoo.com/news/occidental-petroleum-oxy-outpaced-other-153003840.html', 'ticker_top': ['OXY']}\n"
     ]
    }
   ],
   "source": [
    "print(id_counter)\n",
    "doc = make_dict()\n",
    "doc[\"doc_id\"] = id_counter \n",
    "doc[\"company\"] = \"Occidental\" \n",
    "doc[\"ticker_top\"] = [\"OXY\"] \n",
    "doc[\"ticker_rel\"] = [\"CVX\", \"XOM\", \"BP\", \"PBR\"] \n",
    "doc[\"url\"] = \"https://finance.yahoo.com/news/occidental-petroleum-oxy-outpaced-other-153003840.html\" \n",
    "doc[\"title\"] = \"Has Occidental Petroleum (OXY) Outpaced Other Oils-Energy Stocks This Year?\" \n",
    "doc[\"ticker_mentioned\"] = [True] \n",
    "\n",
    "docs.append(doc) \n",
    "id_counter += 1 \n",
    "\n",
    "print(doc)"
   ]
  },
  {
   "cell_type": "code",
   "execution_count": 27,
   "id": "10be3b5a",
   "metadata": {},
   "outputs": [
    {
     "name": "stdout",
     "output_type": "stream",
     "text": [
      "22\n",
      "{'doc_id': 22, 'title': 'Will SoFi Technologies Be the Next Fintech Disruptor?', 'ticker_rel': ['BBD', 'BAC', 'ITUB'], 'ticker_mentioned': [True], 'company': 'SoFi Technologies', 'url': 'https://www.fool.com/investing/2021/09/24/will-sofi-technologies-be-next-fintech-disruptor/', 'ticker_top': ['SOFI']}\n"
     ]
    }
   ],
   "source": [
    "print(id_counter)\n",
    "doc = make_dict()\n",
    "doc[\"doc_id\"] = id_counter \n",
    "doc[\"company\"] = \"SoFi Technologies\" \n",
    "doc[\"ticker_top\"] = [\"SOFI\"] \n",
    "doc[\"ticker_rel\"] = [\"BBD\", \"BAC\", \"ITUB\"] \n",
    "doc[\"url\"] = \"https://www.fool.com/investing/2021/09/24/will-sofi-technologies-be-next-fintech-disruptor/\" \n",
    "doc[\"title\"] = \"Will SoFi Technologies Be the Next Fintech Disruptor?\" \n",
    "doc[\"ticker_mentioned\"] = [True] \n",
    "\n",
    "docs.append(doc) \n",
    "id_counter += 1 \n",
    "\n",
    "print(doc)"
   ]
  },
  {
   "cell_type": "code",
   "execution_count": 28,
   "id": "316855c8",
   "metadata": {},
   "outputs": [
    {
     "name": "stdout",
     "output_type": "stream",
     "text": [
      "23\n",
      "{'doc_id': 23, 'title': 'Citigroup floats $236.6 million in MBS backing single-family home investors', 'ticker_rel': ['BBD', 'BAC', 'ITUB'], 'ticker_mentioned': [False], 'company': 'Citigroup', 'url': 'https://asreport.americanbanker.com/news/citigroup-mortgage-trust-funds-single-family-home-investors-for-236-6-million', 'ticker_top': ['C']}\n"
     ]
    }
   ],
   "source": [
    "print(id_counter)\n",
    "doc = make_dict()\n",
    "doc[\"doc_id\"] = id_counter \n",
    "doc[\"company\"] = \"Citigroup\" \n",
    "doc[\"ticker_top\"] = [\"C\"] \n",
    "doc[\"ticker_rel\"] = [\"BBD\", \"BAC\", \"ITUB\"] \n",
    "doc[\"url\"] = \"https://asreport.americanbanker.com/news/citigroup-mortgage-trust-funds-single-family-home-investors-for-236-6-million\" \n",
    "doc[\"title\"] = \"Citigroup floats $236.6 million in MBS backing single-family home investors\" \n",
    "doc[\"ticker_mentioned\"] = [False] \n",
    "\n",
    "docs.append(doc) \n",
    "id_counter += 1 \n",
    "\n",
    "print(doc)"
   ]
  },
  {
   "cell_type": "code",
   "execution_count": 29,
   "id": "39b74aa4",
   "metadata": {},
   "outputs": [
    {
     "name": "stdout",
     "output_type": "stream",
     "text": [
      "24\n",
      "{'doc_id': 24, 'title': 'Banco Bradesco S.A. Plans Monthly Dividend of $0.00 (NYSE:BBD)', 'ticker_rel': ['BAC', 'ITUB'], 'ticker_mentioned': [True], 'company': 'Banco Bradesco S.A. – Preferred Shares', 'url': 'https://www.marketbeat.com/instant-alerts/nyse-bbd-dividend-announcement-2021-09-2-3/', 'ticker_top': ['BBD']}\n"
     ]
    }
   ],
   "source": [
    "print(id_counter)\n",
    "doc = make_dict()\n",
    "doc[\"doc_id\"] = id_counter \n",
    "doc[\"company\"] = \"Banco Bradesco S.A. – Preferred Shares\" \n",
    "doc[\"ticker_top\"] = [\"BBD\"] \n",
    "doc[\"ticker_rel\"] = [\"BAC\", \"ITUB\"] \n",
    "doc[\"url\"] = \"https://www.marketbeat.com/instant-alerts/nyse-bbd-dividend-announcement-2021-09-2-3/\" \n",
    "doc[\"title\"] = \"Banco Bradesco S.A. Plans Monthly Dividend of $0.00 (NYSE:BBD)\" \n",
    "doc[\"ticker_mentioned\"] = [True] \n",
    "\n",
    "docs.append(doc) \n",
    "id_counter += 1 \n",
    "\n",
    "print(doc)"
   ]
  },
  {
   "cell_type": "code",
   "execution_count": 30,
   "id": "a8bc4da3",
   "metadata": {},
   "outputs": [
    {
     "name": "stdout",
     "output_type": "stream",
     "text": [
      "25\n",
      "{'doc_id': 25, 'title': 'Why Bank of America and Citigroup Are Trading Higher Today', 'ticker_rel': ['BBD', 'ITUB'], 'ticker_mentioned': [True, True], 'company': 'Bank of America', 'url': 'https://www.fool.com/investing/2021/09/23/why-bank-of-america-and-citigroup-are-trading-high/', 'ticker_top': ['BAC', 'C']}\n"
     ]
    }
   ],
   "source": [
    "print(id_counter)\n",
    "doc = make_dict()\n",
    "doc[\"doc_id\"] = id_counter \n",
    "doc[\"company\"] = \"Bank of America\" \n",
    "doc[\"ticker_top\"] = [\"BAC\", \"C\"] \n",
    "doc[\"ticker_rel\"] = [\"BBD\", \"ITUB\"] \n",
    "doc[\"url\"] = \"https://www.fool.com/investing/2021/09/23/why-bank-of-america-and-citigroup-are-trading-high/\" \n",
    "doc[\"title\"] = \"Why Bank of America and Citigroup Are Trading Higher Today\" \n",
    "doc[\"ticker_mentioned\"] = [True, True] \n",
    "\n",
    "docs.append(doc) \n",
    "id_counter += 1 \n",
    "\n",
    "print(doc)"
   ]
  },
  {
   "cell_type": "code",
   "execution_count": 31,
   "id": "b0eddd75",
   "metadata": {},
   "outputs": [
    {
     "name": "stdout",
     "output_type": "stream",
     "text": [
      "26\n",
      "{'doc_id': 26, 'title': 'Itaú Unibanco Holding S.A. (NYSE:ITUB) Short Interest Down 19.6% in August', 'ticker_rel': ['BBD', 'BAC'], 'ticker_mentioned': [True], 'company': 'Itaú Unibanco', 'url': 'https://www.marketbeat.com/instant-alerts/nyse-itub-options-data-report-2021-09-2-3/', 'ticker_top': ['ITUB']}\n"
     ]
    }
   ],
   "source": [
    "print(id_counter)\n",
    "doc = make_dict()\n",
    "doc[\"doc_id\"] = id_counter \n",
    "doc[\"company\"] = \"Itaú Unibanco\" \n",
    "doc[\"ticker_top\"] = [\"ITUB\"] \n",
    "doc[\"ticker_rel\"] = [\"BBD\", \"BAC\"] \n",
    "doc[\"url\"] = \"https://www.marketbeat.com/instant-alerts/nyse-itub-options-data-report-2021-09-2-3/\" \n",
    "doc[\"title\"] = \"Itaú Unibanco Holding S.A. (NYSE:ITUB) Short Interest Down 19.6% in August\" \n",
    "doc[\"ticker_mentioned\"] = [True] \n",
    "\n",
    "docs.append(doc) \n",
    "id_counter += 1 \n",
    "\n",
    "print(doc)"
   ]
  },
  {
   "cell_type": "code",
   "execution_count": 32,
   "id": "446dd6e6",
   "metadata": {},
   "outputs": [
    {
     "name": "stdout",
     "output_type": "stream",
     "text": [
      "27\n",
      "{'doc_id': 27, 'title': \"Moderna CEO Predicts Pandemic Could End in 2022: Here's Why the Stock Could Plunge If He's Right\", 'ticker_rel': ['PFE'], 'ticker_mentioned': [True], 'company': 'Moderna', 'url': 'https://www.fool.com/investing/2021/09/28/moderna-ceo-predicts-pandemic-could-end-in-2022-he/', 'ticker_top': ['MRNA']}\n"
     ]
    }
   ],
   "source": [
    "print(id_counter)\n",
    "doc = make_dict()\n",
    "doc[\"doc_id\"] = id_counter \n",
    "doc[\"company\"] = \"Moderna\" \n",
    "doc[\"ticker_top\"] = [\"MRNA\"] \n",
    "doc[\"ticker_rel\"] = [\"PFE\"] \n",
    "doc[\"url\"] = \"https://www.fool.com/investing/2021/09/28/moderna-ceo-predicts-pandemic-could-end-in-2022-he/\" \n",
    "doc[\"title\"] = \"Moderna CEO Predicts Pandemic Could End in 2022: Here's Why the Stock Could Plunge If He's Right\" \n",
    "doc[\"ticker_mentioned\"] = [True] \n",
    "\n",
    "docs.append(doc) \n",
    "id_counter += 1 \n",
    "\n",
    "print(doc)"
   ]
  },
  {
   "cell_type": "code",
   "execution_count": 33,
   "id": "8267e53a",
   "metadata": {},
   "outputs": [
    {
     "name": "stdout",
     "output_type": "stream",
     "text": [
      "28\n",
      "{'doc_id': 28, 'title': 'US panel backs COVID-19 boosters only for seniors, high-risk', 'ticker_rel': ['MRNA'], 'ticker_mentioned': [False], 'company': 'Pfizer', 'url': 'https://apnews.com/article/fda-panel-rejects-widespread-pfizer-booster-shots-1cd1cf6a5c5c02b63f8a7324807a59f1', 'ticker_top': ['PFE']}\n"
     ]
    }
   ],
   "source": [
    "print(id_counter)\n",
    "doc = make_dict()\n",
    "doc[\"doc_id\"] = id_counter \n",
    "doc[\"company\"] = \"Pfizer\" \n",
    "doc[\"ticker_top\"] = [\"PFE\"] \n",
    "doc[\"ticker_rel\"] = [\"MRNA\"] \n",
    "doc[\"url\"] = \"https://apnews.com/article/fda-panel-rejects-widespread-pfizer-booster-shots-1cd1cf6a5c5c02b63f8a7324807a59f1\" \n",
    "doc[\"title\"] = \"US panel backs COVID-19 boosters only for seniors, high-risk\" \n",
    "doc[\"ticker_mentioned\"] = [False] \n",
    "\n",
    "docs.append(doc) \n",
    "id_counter += 1 \n",
    "\n",
    "print(doc)"
   ]
  },
  {
   "cell_type": "code",
   "execution_count": 34,
   "id": "c6cb4c68",
   "metadata": {},
   "outputs": [
    {
     "name": "stdout",
     "output_type": "stream",
     "text": [
      "29\n",
      "{'doc_id': 29, 'title': 'Energy Transfer earnings climb as natgas pipeline revenues jump', 'ticker_rel': ['SLB', 'BP', 'CVX', 'XOM', 'PBR', 'OXY'], 'ticker_mentioned': [False], 'company': 'Energy Transfer Equity', 'url': 'https://finance.yahoo.com/news/energy-transfer-earnings-climb-natgas-212958144.html', 'ticker_top': ['ET']}\n"
     ]
    }
   ],
   "source": [
    "print(id_counter)\n",
    "doc = make_dict()\n",
    "doc[\"doc_id\"] = id_counter \n",
    "doc[\"company\"] = \"Energy Transfer Equity\" \n",
    "doc[\"ticker_top\"] = [\"ET\"] \n",
    "doc[\"ticker_rel\"] = [\"SLB\", \"BP\", \"CVX\", \"XOM\", \"PBR\", \"OXY\"] \n",
    "doc[\"url\"] = \"https://finance.yahoo.com/news/energy-transfer-earnings-climb-natgas-212958144.html\" \n",
    "doc[\"title\"] = \"Energy Transfer earnings climb as natgas pipeline revenues jump\" \n",
    "doc[\"ticker_mentioned\"] = [False] \n",
    "\n",
    "docs.append(doc) \n",
    "id_counter += 1 \n",
    "\n",
    "print(doc)"
   ]
  },
  {
   "cell_type": "code",
   "execution_count": 35,
   "id": "a3c98424",
   "metadata": {},
   "outputs": [
    {
     "name": "stdout",
     "output_type": "stream",
     "text": [
      "30\n",
      "{'doc_id': 30, 'title': 'Schlumberger New Energy Enters into Agreement with EnerVenue for Metal-Hydrogen Stationary Energy Storage Solutions', 'ticker_rel': ['ET', 'BP', 'CVX', 'XOM', 'PBR', 'OXY'], 'ticker_mentioned': [False], 'company': 'Schlumberger', 'url': 'https://finance.yahoo.com/news/schlumberger-energy-enters-agreement-enervenue-120000990.html', 'ticker_top': ['SLB']}\n"
     ]
    }
   ],
   "source": [
    "print(id_counter)\n",
    "doc = make_dict()\n",
    "doc[\"doc_id\"] = id_counter \n",
    "doc[\"company\"] = \"Schlumberger\" \n",
    "doc[\"ticker_top\"] = [\"SLB\"] \n",
    "doc[\"ticker_rel\"] = [\"ET\", \"BP\", \"CVX\", \"XOM\", \"PBR\", \"OXY\"] \n",
    "doc[\"url\"] = \"https://finance.yahoo.com/news/schlumberger-energy-enters-agreement-enervenue-120000990.html\" \n",
    "doc[\"title\"] = \"Schlumberger New Energy Enters into Agreement with EnerVenue for Metal-Hydrogen Stationary Energy Storage Solutions\" \n",
    "doc[\"ticker_mentioned\"] = [False] \n",
    "\n",
    "docs.append(doc) \n",
    "id_counter += 1 \n",
    "\n",
    "print(doc)"
   ]
  },
  {
   "cell_type": "code",
   "execution_count": 36,
   "id": "570f1869",
   "metadata": {},
   "outputs": [
    {
     "name": "stdout",
     "output_type": "stream",
     "text": [
      "31\n",
      "{'doc_id': 31, 'title': 'Why Alcoa Stock Is Soaring This Week and May Not Stop', 'ticker_rel': ['FCX', 'CLF', 'X', 'VALE'], 'ticker_mentioned': [True], 'company': 'Alcoa', 'url': 'https://www.fool.com/investing/2021/08/27/why-alcoa-stock-is-soaring-this-week-and-may-not-s/', 'ticker_top': ['AA']}\n"
     ]
    }
   ],
   "source": [
    "print(id_counter)\n",
    "doc = make_dict()\n",
    "doc[\"doc_id\"] = id_counter \n",
    "doc[\"company\"] = \"Alcoa\" \n",
    "doc[\"ticker_top\"] = [\"AA\"] \n",
    "doc[\"ticker_rel\"] = [\"FCX\", \"CLF\", \"X\", \"VALE\"] \n",
    "doc[\"url\"] = \"https://www.fool.com/investing/2021/08/27/why-alcoa-stock-is-soaring-this-week-and-may-not-s/\" \n",
    "doc[\"title\"] = \"Why Alcoa Stock Is Soaring This Week and May Not Stop\" \n",
    "doc[\"ticker_mentioned\"] = [True] \n",
    "\n",
    "docs.append(doc) \n",
    "id_counter += 1 \n",
    "\n",
    "print(doc)"
   ]
  },
  {
   "cell_type": "code",
   "execution_count": 37,
   "id": "a1ba3ba5",
   "metadata": {},
   "outputs": [
    {
     "name": "stdout",
     "output_type": "stream",
     "text": [
      "32\n",
      "{'doc_id': 32, 'title': 'Freeport-McMoRan - A Coffer Full Of Copper', 'ticker_rel': ['AA', 'CLF', 'X', 'VALE'], 'ticker_mentioned': [True], 'company': 'Freeport', 'url': 'https://seekingalpha.com/article/4457259-freeport-mcmoran-fcx-stock-a-coffer-full-of-copper', 'ticker_top': ['FCX']}\n"
     ]
    }
   ],
   "source": [
    "print(id_counter)\n",
    "doc = make_dict()\n",
    "doc[\"doc_id\"] = id_counter \n",
    "doc[\"company\"] = \"Freeport\" \n",
    "doc[\"ticker_top\"] = [\"FCX\"] \n",
    "doc[\"ticker_rel\"] = [\"AA\", \"CLF\", \"X\", \"VALE\"] \n",
    "doc[\"url\"] = \"https://seekingalpha.com/article/4457259-freeport-mcmoran-fcx-stock-a-coffer-full-of-copper\" \n",
    "doc[\"title\"] = \"Freeport-McMoRan - A Coffer Full Of Copper\" \n",
    "doc[\"ticker_mentioned\"] = [True] \n",
    "\n",
    "docs.append(doc) \n",
    "id_counter += 1 \n",
    "\n",
    "print(doc)"
   ]
  },
  {
   "cell_type": "code",
   "execution_count": 38,
   "id": "f15c674f",
   "metadata": {},
   "outputs": [
    {
     "name": "stdout",
     "output_type": "stream",
     "text": [
      "33\n",
      "{'doc_id': 33, 'title': 'Cleveland-Cliffs Sticks to ‘Self Sufficiency’ Model', 'ticker_rel': ['X', 'VALE'], 'ticker_mentioned': [True], 'company': 'Cleveland-Cliffs Inc.', 'url': 'https://www.thestreet.com/investing/cleveland-cliffs-sticks-to-self-sufficiency-model', 'ticker_top': ['CLF']}\n"
     ]
    }
   ],
   "source": [
    "print(id_counter)\n",
    "doc = make_dict()\n",
    "doc[\"doc_id\"] = id_counter \n",
    "doc[\"company\"] = \"Cleveland-Cliffs Inc.\" \n",
    "doc[\"ticker_top\"] = [\"CLF\"] \n",
    "doc[\"ticker_rel\"] = [\"X\", \"VALE\"] \n",
    "doc[\"url\"] = \"https://www.thestreet.com/investing/cleveland-cliffs-sticks-to-self-sufficiency-model\" \n",
    "doc[\"title\"] = \"Cleveland-Cliffs Sticks to ‘Self Sufficiency’ Model\" \n",
    "doc[\"ticker_mentioned\"] = [True] \n",
    "\n",
    "docs.append(doc) \n",
    "id_counter += 1 \n",
    "\n",
    "print(doc)"
   ]
  },
  {
   "cell_type": "code",
   "execution_count": 39,
   "id": "0b13822c",
   "metadata": {},
   "outputs": [
    {
     "name": "stdout",
     "output_type": "stream",
     "text": [
      "34\n",
      "{'doc_id': 34, 'title': 'US Steel Output Spikes 20% YTD on Higher Capacity, Solid Demand', 'ticker_rel': ['CLF', 'VALE'], 'ticker_mentioned': [True], 'company': 'United States Steel', 'url': 'https://finance.yahoo.com/news/us-steel-output-spikes-20-095909198.html', 'ticker_top': ['X']}\n"
     ]
    }
   ],
   "source": [
    "print(id_counter)\n",
    "doc = make_dict()\n",
    "doc[\"doc_id\"] = id_counter \n",
    "doc[\"company\"] = \"United States Steel\" \n",
    "doc[\"ticker_top\"] = [\"X\"] \n",
    "doc[\"ticker_rel\"] = [\"CLF\", \"VALE\"] \n",
    "doc[\"url\"] = \"https://finance.yahoo.com/news/us-steel-output-spikes-20-095909198.html\" \n",
    "doc[\"title\"] = \"US Steel Output Spikes 20% YTD on Higher Capacity, Solid Demand\" \n",
    "doc[\"ticker_mentioned\"] = [True] \n",
    "\n",
    "docs.append(doc) \n",
    "id_counter += 1 \n",
    "\n",
    "print(doc)"
   ]
  },
  {
   "cell_type": "code",
   "execution_count": 40,
   "id": "9eed442a",
   "metadata": {},
   "outputs": [
    {
     "name": "stdout",
     "output_type": "stream",
     "text": [
      "35\n",
      "{'doc_id': 35, 'title': 'Mining Firm Responsible for 270-Death Disaster Behind New Canada Fiasco', 'ticker_rel': ['CLF', 'X'], 'ticker_mentioned': [False], 'company': 'Vale', 'url': 'https://www.thedailybeast.com/vale-the-firm-responsible-for-270-deaths-strikes-again-in-canada', 'ticker_top': ['VALE']}\n"
     ]
    }
   ],
   "source": [
    "print(id_counter)\n",
    "doc = make_dict()\n",
    "doc[\"doc_id\"] = id_counter \n",
    "doc[\"company\"] = \"Vale\" \n",
    "doc[\"ticker_top\"] = [\"VALE\"] \n",
    "doc[\"ticker_rel\"] = [\"CLF\", \"X\"] \n",
    "doc[\"url\"] = \"https://www.thedailybeast.com/vale-the-firm-responsible-for-270-deaths-strikes-again-in-canada\" \n",
    "doc[\"title\"] = \"Mining Firm Responsible for 270-Death Disaster Behind New Canada Fiasco\" \n",
    "doc[\"ticker_mentioned\"] = [False] \n",
    "\n",
    "docs.append(doc) \n",
    "id_counter += 1 \n",
    "\n",
    "print(doc)"
   ]
  },
  {
   "cell_type": "code",
   "execution_count": 41,
   "id": "2947b238",
   "metadata": {},
   "outputs": [
    {
     "name": "stdout",
     "output_type": "stream",
     "text": [
      "36\n",
      "{'doc_id': 36, 'title': 'Kohls CEO talks Amazon partnership, turning business into ‘lifestyle concept’', 'ticker_rel': ['M'], 'ticker_mentioned': [False], 'company': 'Kohl’s', 'url': 'https://www.foxbusiness.com/markets/kohls-ceo-amazon-partnership-lifestyle-concept', 'ticker_top': ['KSS']}\n"
     ]
    }
   ],
   "source": [
    "print(id_counter)\n",
    "doc = make_dict()\n",
    "doc[\"doc_id\"] = id_counter \n",
    "doc[\"company\"] = \"Kohl’s\" \n",
    "doc[\"ticker_top\"] = [\"KSS\"] \n",
    "doc[\"ticker_rel\"] = [\"M\"] \n",
    "doc[\"url\"] = \"https://www.foxbusiness.com/markets/kohls-ceo-amazon-partnership-lifestyle-concept\" \n",
    "doc[\"title\"] = \"Kohls CEO talks Amazon partnership, turning business into ‘lifestyle concept’\" \n",
    "doc[\"ticker_mentioned\"] = [False] \n",
    "\n",
    "docs.append(doc) \n",
    "id_counter += 1 \n",
    "\n",
    "print(doc)"
   ]
  },
  {
   "cell_type": "code",
   "execution_count": 42,
   "id": "8bc60019",
   "metadata": {},
   "outputs": [
    {
     "name": "stdout",
     "output_type": "stream",
     "text": [
      "37\n",
      "{'doc_id': 37, 'title': 'Macy’s And Kohl’s Define Post-Pandemic Department Stores’ Look', 'ticker_rel': [], 'ticker_mentioned': [False, False], 'company': 'Macy’s', 'url': 'https://www.forbes.com/sites/walterloeb/2021/08/23/macys-and-kohls-define-post-pandemic-department-store-look/', 'ticker_top': ['KSS', 'M']}\n"
     ]
    }
   ],
   "source": [
    "print(id_counter)\n",
    "doc = make_dict()\n",
    "doc[\"doc_id\"] = id_counter \n",
    "doc[\"company\"] = \"Macy’s\" \n",
    "doc[\"ticker_top\"] = [\"KSS\", \"M\"] \n",
    "doc[\"ticker_rel\"] = [] \n",
    "doc[\"url\"] = \"https://www.forbes.com/sites/walterloeb/2021/08/23/macys-and-kohls-define-post-pandemic-department-store-look/\" \n",
    "doc[\"title\"] = \"Macy’s And Kohl’s Define Post-Pandemic Department Stores’ Look\" \n",
    "doc[\"ticker_mentioned\"] = [False, False] \n",
    "\n",
    "docs.append(doc) \n",
    "id_counter += 1 \n",
    "\n",
    "print(doc)"
   ]
  },
  {
   "cell_type": "code",
   "execution_count": 43,
   "id": "79937a29",
   "metadata": {},
   "outputs": [
    {
     "name": "stdout",
     "output_type": "stream",
     "text": [
      "38\n",
      "{'doc_id': 38, 'title': 'What’s Next For Macy’s Stock After An 8% Move Last Week?', 'ticker_rel': ['KSS'], 'ticker_mentioned': [True], 'company': 'Macy’s', 'url': 'https://www.forbes.com/sites/greatspeculations/2021/09/28/whats-next-for-macys-stock-after-an-8-move-last-week/', 'ticker_top': ['M']}\n"
     ]
    }
   ],
   "source": [
    "print(id_counter)\n",
    "doc = make_dict()\n",
    "doc[\"doc_id\"] = id_counter \n",
    "doc[\"company\"] = \"Macy’s\" \n",
    "doc[\"ticker_top\"] = [\"M\"] \n",
    "doc[\"ticker_rel\"] = [\"KSS\"] \n",
    "doc[\"url\"] = \"https://www.forbes.com/sites/greatspeculations/2021/09/28/whats-next-for-macys-stock-after-an-8-move-last-week/\" \n",
    "doc[\"title\"] = \"What’s Next For Macy’s Stock After An 8% Move Last Week?\" \n",
    "doc[\"ticker_mentioned\"] = [True] \n",
    "\n",
    "docs.append(doc) \n",
    "id_counter += 1 \n",
    "\n",
    "print(doc)"
   ]
  },
  {
   "cell_type": "code",
   "execution_count": 44,
   "id": "14be96b2",
   "metadata": {},
   "outputs": [
    {
     "name": "stdout",
     "output_type": "stream",
     "text": [
      "39\n",
      "{'doc_id': 39, 'title': 'Alibaba stock tumbles after report says Beijing wants to break up Alipay', 'ticker_rel': ['JD', 'VIPS'], 'ticker_mentioned': [True], 'company': 'Alibaba', 'url': 'https://edition.cnn.com/2021/09/13/investing/china-alipay-alibaba-stock-intl-hnk/index.html', 'ticker_top': ['BABA']}\n"
     ]
    }
   ],
   "source": [
    "print(id_counter)\n",
    "doc = make_dict()\n",
    "doc[\"doc_id\"] = id_counter \n",
    "doc[\"company\"] = \"Alibaba\" \n",
    "doc[\"ticker_top\"] = [\"BABA\"] \n",
    "doc[\"ticker_rel\"] = [\"JD\", \"VIPS\"] \n",
    "doc[\"url\"] = \"https://edition.cnn.com/2021/09/13/investing/china-alipay-alibaba-stock-intl-hnk/index.html\" \n",
    "doc[\"title\"] = \"Alibaba stock tumbles after report says Beijing wants to break up Alipay\" \n",
    "doc[\"ticker_mentioned\"] = [True] \n",
    "\n",
    "docs.append(doc) \n",
    "id_counter += 1 \n",
    "\n",
    "print(doc)"
   ]
  },
  {
   "cell_type": "code",
   "execution_count": 45,
   "id": "891a6c54",
   "metadata": {},
   "outputs": [
    {
     "name": "stdout",
     "output_type": "stream",
     "text": [
      "40\n",
      "{'doc_id': 40, 'title': 'Why JD.com Is My Top Chinese E-Commerce Stock', 'ticker_rel': ['BABA', 'VIPS'], 'ticker_mentioned': [True], 'company': 'JD.com', 'url': 'https://www.fool.com/investing/2021/09/07/why-jdcom-is-my-top-chinese-e-commerce-stock/', 'ticker_top': ['JD']}\n"
     ]
    }
   ],
   "source": [
    "print(id_counter)\n",
    "doc = make_dict()\n",
    "doc[\"doc_id\"] = id_counter \n",
    "doc[\"company\"] = \"JD.com\" \n",
    "doc[\"ticker_top\"] = [\"JD\"] \n",
    "doc[\"ticker_rel\"] = [\"BABA\", \"VIPS\"] \n",
    "doc[\"url\"] = \"https://www.fool.com/investing/2021/09/07/why-jdcom-is-my-top-chinese-e-commerce-stock/\" \n",
    "doc[\"title\"] = \"Why JD.com Is My Top Chinese E-Commerce Stock\" \n",
    "doc[\"ticker_mentioned\"] = [True] \n",
    "\n",
    "docs.append(doc) \n",
    "id_counter += 1 \n",
    "\n",
    "print(doc)"
   ]
  },
  {
   "cell_type": "code",
   "execution_count": 46,
   "id": "5562e4a3",
   "metadata": {},
   "outputs": [
    {
     "name": "stdout",
     "output_type": "stream",
     "text": [
      "41\n",
      "{'doc_id': 41, 'title': 'Why Vipshop Stock Crashed (Further) Today', 'ticker_rel': ['JD', 'BABA'], 'ticker_mentioned': [True], 'company': 'Vipshop Holdings Limited', 'url': 'https://www.fool.com/investing/2021/09/23/why-vipshop-stock-crashed-further-today/', 'ticker_top': ['VIPS']}\n"
     ]
    }
   ],
   "source": [
    "print(id_counter)\n",
    "doc = make_dict()\n",
    "doc[\"doc_id\"] = id_counter \n",
    "doc[\"company\"] = \"Vipshop Holdings Limited\" \n",
    "doc[\"ticker_top\"] = [\"VIPS\"] \n",
    "doc[\"ticker_rel\"] = [\"JD\", \"BABA\"] \n",
    "doc[\"url\"] = \"https://www.fool.com/investing/2021/09/23/why-vipshop-stock-crashed-further-today/\" \n",
    "doc[\"title\"] = \"Why Vipshop Stock Crashed (Further) Today\" \n",
    "doc[\"ticker_mentioned\"] = [True] \n",
    "\n",
    "docs.append(doc) \n",
    "id_counter += 1 \n",
    "\n",
    "print(doc)"
   ]
  },
  {
   "cell_type": "code",
   "execution_count": 47,
   "id": "abc30bea",
   "metadata": {},
   "outputs": [
    {
     "name": "stdout",
     "output_type": "stream",
     "text": [
      "42\n",
      "{'doc_id': 42, 'title': 'Cisco Exec Riffs On Global 5G Core Delays', 'ticker_rel': ['T'], 'ticker_mentioned': [False], 'company': 'Cisco', 'url': 'https://www.sdxcentral.com/articles/news/cisco-exec-riffs-on-global-5g-core-delays/2021/09/', 'ticker_top': ['CSCO']}\n"
     ]
    }
   ],
   "source": [
    "print(id_counter)\n",
    "doc = make_dict()\n",
    "doc[\"doc_id\"] = id_counter \n",
    "doc[\"company\"] = \"Cisco\" \n",
    "doc[\"ticker_top\"] = [\"CSCO\"] \n",
    "doc[\"ticker_rel\"] = [\"T\"] \n",
    "doc[\"url\"] = \"https://www.sdxcentral.com/articles/news/cisco-exec-riffs-on-global-5g-core-delays/2021/09/\" \n",
    "doc[\"title\"] = \"Cisco Exec Riffs On Global 5G Core Delays\" \n",
    "doc[\"ticker_mentioned\"] = [False] \n",
    "\n",
    "docs.append(doc) \n",
    "id_counter += 1 \n",
    "\n",
    "print(doc)"
   ]
  },
  {
   "cell_type": "code",
   "execution_count": 48,
   "id": "624c4397",
   "metadata": {},
   "outputs": [
    {
     "name": "stdout",
     "output_type": "stream",
     "text": [
      "43\n",
      "{'doc_id': 43, 'title': \"iQIYI romantic drama 'One and Only' tops popularity rankings and generates buzz on social media\", 'ticker_rel': ['TME'], 'ticker_mentioned': [True], 'company': 'iQIYI', 'url': 'https://www.prnewswire.com/news-releases/iqiyi-romantic-drama-one-and-only-tops-popularity-rankings-and-generates-buzz-on-social-media-301372097.html', 'ticker_top': ['IQ']}\n"
     ]
    }
   ],
   "source": [
    "print(id_counter)\n",
    "doc = make_dict()\n",
    "doc[\"doc_id\"] = id_counter \n",
    "doc[\"company\"] = \"iQIYI\" \n",
    "doc[\"ticker_top\"] = [\"IQ\"] \n",
    "doc[\"ticker_rel\"] = [\"TME\"] \n",
    "doc[\"url\"] = \"https://www.prnewswire.com/news-releases/iqiyi-romantic-drama-one-and-only-tops-popularity-rankings-and-generates-buzz-on-social-media-301372097.html\" \n",
    "doc[\"title\"] = \"iQIYI romantic drama 'One and Only' tops popularity rankings and generates buzz on social media\" \n",
    "doc[\"ticker_mentioned\"] = [True] \n",
    "\n",
    "docs.append(doc) \n",
    "id_counter += 1 \n",
    "\n",
    "print(doc)"
   ]
  },
  {
   "cell_type": "code",
   "execution_count": 49,
   "id": "e066a23c",
   "metadata": {},
   "outputs": [
    {
     "name": "stdout",
     "output_type": "stream",
     "text": [
      "44\n",
      "{'doc_id': 44, 'title': 'Tencent Music Entertainment Group (NYSE:TME) Expected to Announce Quarterly Sales of $1.21 Billion', 'ticker_rel': ['AAPL'], 'ticker_mentioned': [True], 'company': 'Tencent Music Entertainment Group', 'url': 'https://www.marketbeat.com/instant-alerts/nyse-tme-consensus-analyst-rating-2021-09-2-3/', 'ticker_top': ['TME']}\n"
     ]
    }
   ],
   "source": [
    "print(id_counter)\n",
    "doc = make_dict()\n",
    "doc[\"doc_id\"] = id_counter \n",
    "doc[\"company\"] = \"Tencent Music Entertainment Group\" \n",
    "doc[\"ticker_top\"] = [\"TME\"] \n",
    "doc[\"ticker_rel\"] = [\"AAPL\"] \n",
    "doc[\"url\"] = \"https://www.marketbeat.com/instant-alerts/nyse-tme-consensus-analyst-rating-2021-09-2-3/\" \n",
    "doc[\"title\"] = \"Tencent Music Entertainment Group (NYSE:TME) Expected to Announce Quarterly Sales of $1.21 Billion\" \n",
    "doc[\"ticker_mentioned\"] = [True] \n",
    "\n",
    "docs.append(doc) \n",
    "id_counter += 1 \n",
    "\n",
    "print(doc)"
   ]
  },
  {
   "cell_type": "code",
   "execution_count": 50,
   "id": "27c1053f",
   "metadata": {},
   "outputs": [
    {
     "name": "stdout",
     "output_type": "stream",
     "text": [
      "45\n",
      "{'doc_id': 45, 'title': 'Uber to benefit from a government takeover of Didi given its more than $5 billion stake, analyst says', 'ticker_rel': [], 'ticker_mentioned': [False, False], 'company': 'Uber', 'url': 'https://www.marketwatch.com/story/uber-to-benefit-from-a-government-takeover-of-didi-given-its-more-than-5-billion-stake-analyst-says-2021-09-03', 'ticker_top': ['DIDI', 'UBER']}\n"
     ]
    }
   ],
   "source": [
    "print(id_counter)\n",
    "doc = make_dict()\n",
    "doc[\"doc_id\"] = id_counter \n",
    "doc[\"company\"] = \"Uber\" \n",
    "doc[\"ticker_top\"] = [\"DIDI\", \"UBER\"] \n",
    "doc[\"ticker_rel\"] = [] \n",
    "doc[\"url\"] = \"https://www.marketwatch.com/story/uber-to-benefit-from-a-government-takeover-of-didi-given-its-more-than-5-billion-stake-analyst-says-2021-09-03\" \n",
    "doc[\"title\"] = \"Uber to benefit from a government takeover of Didi given its more than $5 billion stake, analyst says\" \n",
    "doc[\"ticker_mentioned\"] = [False, False] \n",
    "\n",
    "docs.append(doc) \n",
    "id_counter += 1 \n",
    "\n",
    "print(doc)"
   ]
  },
  {
   "cell_type": "code",
   "execution_count": 51,
   "id": "76e1ec4f",
   "metadata": {},
   "outputs": [
    {
     "name": "stdout",
     "output_type": "stream",
     "text": [
      "46\n",
      "{'doc_id': 46, 'title': \"Does Didi's crash point to the future of U.S.-China financial frictions?\", 'ticker_rel': ['UBER'], 'ticker_mentioned': [False], 'company': 'DiDi Global Inc.', 'url': 'https://www.japantimes.co.jp/opinion/2021/09/05/commentary/world-commentary/didi-china-us/', 'ticker_top': ['DIDI']}\n"
     ]
    }
   ],
   "source": [
    "print(id_counter)\n",
    "doc = make_dict()\n",
    "doc[\"doc_id\"] = id_counter \n",
    "doc[\"company\"] = \"DiDi Global Inc.\" \n",
    "doc[\"ticker_top\"] = [\"DIDI\"] \n",
    "doc[\"ticker_rel\"] = [\"UBER\"] \n",
    "doc[\"url\"] = \"https://www.japantimes.co.jp/opinion/2021/09/05/commentary/world-commentary/didi-china-us/\" \n",
    "doc[\"title\"] = \"Does Didi's crash point to the future of U.S.-China financial frictions?\" \n",
    "doc[\"ticker_mentioned\"] = [False] \n",
    "\n",
    "docs.append(doc) \n",
    "id_counter += 1 \n",
    "\n",
    "print(doc)"
   ]
  },
  {
   "cell_type": "code",
   "execution_count": 52,
   "id": "1037e1d3",
   "metadata": {},
   "outputs": [
    {
     "name": "stdout",
     "output_type": "stream",
     "text": [
      "47\n",
      "{'doc_id': 47, 'title': 'Microsoft (MSFT) Set to Release Windows 11', 'ticker_rel': ['AAPL', 'NVDA', 'AMD', 'INTC', 'MU', 'TSM'], 'ticker_mentioned': [True], 'company': 'Microsoft', 'url': 'https://www.investopedia.com/microsoft-msft-set-to-release-windows-11-5199515', 'ticker_top': ['MSFT']}\n"
     ]
    }
   ],
   "source": [
    "print(id_counter)\n",
    "doc = make_dict()\n",
    "doc[\"doc_id\"] = id_counter \n",
    "doc[\"company\"] = \"Microsoft\" \n",
    "doc[\"ticker_top\"] = [\"MSFT\"] \n",
    "doc[\"ticker_rel\"] = [\"AAPL\", \"NVDA\", \"AMD\", \"INTC\", \"MU\", \"TSM\"] \n",
    "doc[\"url\"] = \"https://www.investopedia.com/microsoft-msft-set-to-release-windows-11-5199515\" \n",
    "doc[\"title\"] = \"Microsoft (MSFT) Set to Release Windows 11\" \n",
    "doc[\"ticker_mentioned\"] = [True] \n",
    "\n",
    "docs.append(doc) \n",
    "id_counter += 1 \n",
    "\n",
    "print(doc)"
   ]
  },
  {
   "cell_type": "code",
   "execution_count": 53,
   "id": "4b49394b",
   "metadata": {},
   "outputs": [
    {
     "name": "stdout",
     "output_type": "stream",
     "text": [
      "48\n",
      "{'doc_id': 48, 'title': 'Is Palantir Stock a Buy?', 'ticker_rel': ['AAPL', 'TSLA'], 'ticker_mentioned': [True], 'company': 'Palantir', 'url': 'https://www.fool.com/investing/2021/09/15/is-palantir-stock-a-buy/', 'ticker_top': ['PLTR']}\n"
     ]
    }
   ],
   "source": [
    "print(id_counter)\n",
    "doc = make_dict()\n",
    "doc[\"doc_id\"] = id_counter \n",
    "doc[\"company\"] = \"Palantir\" \n",
    "doc[\"ticker_top\"] = [\"PLTR\"] \n",
    "doc[\"ticker_rel\"] = [\"AAPL\", \"TSLA\"] \n",
    "doc[\"url\"] = \"https://www.fool.com/investing/2021/09/15/is-palantir-stock-a-buy/\" \n",
    "doc[\"title\"] = \"Is Palantir Stock a Buy?\" \n",
    "doc[\"ticker_mentioned\"] = [True] \n",
    "\n",
    "docs.append(doc) \n",
    "id_counter += 1 \n",
    "\n",
    "print(doc)"
   ]
  },
  {
   "cell_type": "code",
   "execution_count": 54,
   "id": "5bb60df6",
   "metadata": {},
   "outputs": [
    {
     "name": "stdout",
     "output_type": "stream",
     "text": [
      "49\n",
      "{'doc_id': 49, 'title': 'Palantir backs satellite intelligence company', 'ticker_rel': [], 'ticker_mentioned': [False], 'company': 'Palantir', 'url': 'https://washingtontechnology.com/blogs/editors-notebook/2021/09/palantir-blacksky-investment-partnership.aspx', 'ticker_top': ['PLTR']}\n"
     ]
    }
   ],
   "source": [
    "print(id_counter)\n",
    "doc = make_dict()\n",
    "doc[\"doc_id\"] = id_counter \n",
    "doc[\"company\"] = \"Palantir\" \n",
    "doc[\"ticker_top\"] = [\"PLTR\"] \n",
    "doc[\"ticker_rel\"] = [] \n",
    "doc[\"url\"] = \"https://washingtontechnology.com/blogs/editors-notebook/2021/09/palantir-blacksky-investment-partnership.aspx\" \n",
    "doc[\"title\"] = \"Palantir backs satellite intelligence company\" \n",
    "doc[\"ticker_mentioned\"] = [False] \n",
    "\n",
    "docs.append(doc) \n",
    "id_counter += 1 \n",
    "\n",
    "print(doc)"
   ]
  },
  {
   "cell_type": "code",
   "execution_count": 55,
   "id": "da816208",
   "metadata": {},
   "outputs": [
    {
     "name": "stdout",
     "output_type": "stream",
     "text": [
      "50\n",
      "{'doc_id': 50, 'title': 'Uber drivers to stage 24-hour strike', 'ticker_rel': ['DIDI'], 'ticker_mentioned': [False], 'company': 'Uber', 'url': 'https://uk.finance.yahoo.com/news/uber-drivers-stage-24-hour-110718418.html', 'ticker_top': ['UBER']}\n"
     ]
    }
   ],
   "source": [
    "print(id_counter)\n",
    "doc = make_dict()\n",
    "doc[\"doc_id\"] = id_counter \n",
    "doc[\"company\"] = \"Uber\" \n",
    "doc[\"ticker_top\"] = [\"UBER\"] \n",
    "doc[\"ticker_rel\"] = [\"DIDI\"] \n",
    "doc[\"url\"] = \"https://uk.finance.yahoo.com/news/uber-drivers-stage-24-hour-110718418.html\" \n",
    "doc[\"title\"] = \"Uber drivers to stage 24-hour strike\" \n",
    "doc[\"ticker_mentioned\"] = [False] \n",
    "\n",
    "docs.append(doc) \n",
    "id_counter += 1 \n",
    "\n",
    "print(doc)"
   ]
  },
  {
   "cell_type": "code",
   "execution_count": 56,
   "id": "45b7ae1c",
   "metadata": {},
   "outputs": [
    {
     "name": "stdout",
     "output_type": "stream",
     "text": [
      "51\n",
      "{'doc_id': 51, 'title': 'American Airlines vs. United: Which Airline Stock Is a Better Investment?', 'ticker_rel': [], 'ticker_mentioned': [True], 'company': 'American Airlines', 'url': 'https://stocknews.com/news/aal-ual-american-airlines-vs-united-which-airline-stock-is-a-better/', 'ticker_top': ['AAL']}\n"
     ]
    }
   ],
   "source": [
    "print(id_counter)\n",
    "doc = make_dict()\n",
    "doc[\"doc_id\"] = id_counter \n",
    "doc[\"company\"] = \"American Airlines\" \n",
    "doc[\"ticker_top\"] = [\"AAL\"] \n",
    "doc[\"ticker_rel\"] = [] \n",
    "doc[\"url\"] = \"https://stocknews.com/news/aal-ual-american-airlines-vs-united-which-airline-stock-is-a-better/\" \n",
    "doc[\"title\"] = \"American Airlines vs. United: Which Airline Stock Is a Better Investment?\" \n",
    "doc[\"ticker_mentioned\"] = [True] \n",
    "\n",
    "docs.append(doc) \n",
    "id_counter += 1 \n",
    "\n",
    "print(doc)"
   ]
  },
  {
   "cell_type": "code",
   "execution_count": 57,
   "id": "b2bb5c8c",
   "metadata": {},
   "outputs": [],
   "source": [
    "# Good to have more of:\n",
    "# Exxon Mobil\n",
    "# JD.com\n",
    "# DiDi Global Inc.\n",
    "# Palantir\n",
    "# Uber\n",
    "# American Airlines"
   ]
  },
  {
   "cell_type": "code",
   "execution_count": 58,
   "id": "8ce38b9e",
   "metadata": {},
   "outputs": [],
   "source": [
    "# print(id_counter)\n",
    "# doc = make_dict()\n",
    "# doc[\"doc_id\"] = id_counter \n",
    "# doc[\"company\"] = \"\" \n",
    "# doc[\"ticker_top\"] = [\"\"] \n",
    "# doc[\"ticker_rel\"] = [\"\"] \n",
    "# doc[\"url\"] = \"\" \n",
    "# doc[\"title\"] = \"\" \n",
    "# doc[\"ticker_mentioned\"] = [] \n",
    "\n",
    "# docs.append(doc) \n",
    "# id_counter += 1 \n",
    "\n",
    "# print(doc)"
   ]
  },
  {
   "cell_type": "code",
   "execution_count": 59,
   "id": "094bea68",
   "metadata": {},
   "outputs": [],
   "source": [
    "articles_path = Path(\"../../data/test/word2vec/articles/\")\n",
    "\n",
    "for i, doc in enumerate(docs):\n",
    "    with open(articles_path.joinpath(f\"{i}.txt\"), \"r\") as fp:\n",
    "        headline = fp.readline().strip()\n",
    "    assert(doc[\"title\"] == headline)\n",
    "\n",
    "\n",
    "with open(\"../../data/test/word2vec/labels/labels.jsonl\", \"w\") as fp:\n",
    "    for doc in docs:\n",
    "        fp.write(json.dumps(doc, ensure_ascii=False))\n",
    "        fp.write(\"\\n\")"
   ]
  }
 ],
 "metadata": {
  "kernelspec": {
   "display_name": "Python 3.9.6 64-bit ('tldr': conda)",
   "language": "python",
   "name": "python396jvsc74a57bd0e4c6f9ab0afc44c5c63e1b233fc90c970e43406a17ee57d06d7c91febfb3a0f7"
  },
  "language_info": {
   "codemirror_mode": {
    "name": "ipython",
    "version": 3
   },
   "file_extension": ".py",
   "mimetype": "text/x-python",
   "name": "python",
   "nbconvert_exporter": "python",
   "pygments_lexer": "ipython3",
   "version": "3.9.6"
  }
 },
 "nbformat": 4,
 "nbformat_minor": 5
}
