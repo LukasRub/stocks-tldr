{
 "cells": [
  {
   "cell_type": "code",
   "execution_count": 1,
   "id": "d22cf445",
   "metadata": {},
   "outputs": [],
   "source": [
    "import json\n",
    "from pathlib import Path"
   ]
  },
  {
   "cell_type": "code",
   "execution_count": 2,
   "id": "2c51b9fa",
   "metadata": {},
   "outputs": [],
   "source": [
    "id_counter = 0\n",
    "keys = {\"doc_id\", \"url\", \"title\", \"company\", \"ticker_top\", \"ticker_rel\", \"ticker_mentioned\"}\n",
    "docs = []"
   ]
  },
  {
   "cell_type": "code",
   "execution_count": 3,
   "id": "f59eb112",
   "metadata": {},
   "outputs": [],
   "source": [
    "def make_dict(keys=keys):\n",
    "    # `keys` is a free variable\n",
    "    d = {}\n",
    "    for k in keys:\n",
    "        d.setdefault(k, None)\n",
    "    return d"
   ]
  },
  {
   "cell_type": "code",
   "execution_count": 4,
   "id": "bc38b366",
   "metadata": {},
   "outputs": [],
   "source": [
    "# Run this cell after every time an article gets labelled\n",
    "# docs.append(doc)\n",
    "# id_counter += 1"
   ]
  },
  {
   "cell_type": "code",
   "execution_count": 5,
   "id": "7ebc43e4",
   "metadata": {},
   "outputs": [
    {
     "name": "stdout",
     "output_type": "stream",
     "text": [
      "0\n",
      "{'url': 'https://finance.yahoo.com/news/t-cfo-pascal-desroches-updates-003500023.html', 'ticker_mentioned': [True], 'ticker_top': ['T'], 'ticker_rel': ['AMC', 'AAPL'], 'doc_id': 0, 'company': 'AT&T', 'title': 'AT&T CFO Pascal Desroches Updates Shareholders'}\n"
     ]
    }
   ],
   "source": [
    "print(id_counter)\n",
    "doc = make_dict()\n",
    "doc[\"doc_id\"] = id_counter\n",
    "doc[\"company\"] = \"AT&T\"\n",
    "doc[\"ticker_top\"] = [\"T\"]\n",
    "doc[\"ticker_rel\"] = [\"AMC\", \"AAPL\"]\n",
    "doc[\"url\"] = \"https://finance.yahoo.com/news/t-cfo-pascal-desroches-updates-003500023.html\"\n",
    "doc[\"title\"] = \"AT&T CFO Pascal Desroches Updates Shareholders\"\n",
    "doc[\"ticker_mentioned\"] = [True]\n",
    "\n",
    "docs.append(doc)\n",
    "id_counter += 1\n",
    "\n",
    "print(doc)"
   ]
  },
  {
   "cell_type": "code",
   "execution_count": 6,
   "id": "aea64eff",
   "metadata": {},
   "outputs": [
    {
     "name": "stdout",
     "output_type": "stream",
     "text": [
      "1\n",
      "{'url': 'https://finance.yahoo.com/news/ford-to-build-two-114-billion-mega-campuses-for-electric-car-production-230016248.html', 'ticker_mentioned': [True], 'ticker_top': ['F'], 'ticker_rel': ['GM', 'NIO', 'TSLA', 'PLUG'], 'doc_id': 1, 'company': 'Ford', 'title': 'Ford to build $11.4 billion mega campuses for electric car production'}\n"
     ]
    }
   ],
   "source": [
    "print(id_counter)\n",
    "doc = make_dict()\n",
    "doc[\"doc_id\"] = id_counter\n",
    "doc[\"company\"] = \"Ford\"\n",
    "doc[\"ticker_top\"] = [\"F\"]\n",
    "doc[\"ticker_rel\"] = [\"GM\", \"NIO\", \"TSLA\", \"PLUG\"]\n",
    "doc[\"url\"] = \"https://finance.yahoo.com/news/ford-to-build-two-114-billion-mega-campuses-for-electric-car-production-230016248.html\"\n",
    "doc[\"title\"] = \"Ford to build $11.4 billion mega campuses for electric car production\"\n",
    "doc[\"ticker_mentioned\"] = [True]\n",
    "\n",
    "docs.append(doc)\n",
    "id_counter += 1\n",
    "\n",
    "print(doc)"
   ]
  },
  {
   "cell_type": "code",
   "execution_count": 7,
   "id": "1f4b7b21",
   "metadata": {},
   "outputs": [
    {
     "name": "stdout",
     "output_type": "stream",
     "text": [
      "2\n",
      "{'url': 'https://finance.yahoo.com/news/general-motors-motorq-team-help-130000931.html', 'ticker_mentioned': [True], 'ticker_top': ['GM'], 'ticker_rel': ['F', 'NIO', 'TSLA'], 'doc_id': 2, 'company': 'General Motors', 'title': 'General Motors and Motorq Team Up to Help Fleets Reduce Costs, Improve Driving Through Real-time, In-Vehicle Coaching Service'}\n"
     ]
    }
   ],
   "source": [
    "print(id_counter)\n",
    "doc = make_dict()\n",
    "doc[\"doc_id\"] = id_counter\n",
    "doc[\"company\"] = \"General Motors\"\n",
    "doc[\"ticker_top\"] = [\"GM\"]\n",
    "doc[\"ticker_rel\"] = [\"F\", \"NIO\", \"TSLA\"]\n",
    "doc[\"url\"] = \"https://finance.yahoo.com/news/general-motors-motorq-team-help-130000931.html\"\n",
    "doc[\"title\"] = \"General Motors and Motorq Team Up to Help Fleets Reduce Costs, Improve Driving Through Real-time, In-Vehicle Coaching Service\"\n",
    "doc[\"ticker_mentioned\"] = [True]\n",
    "\n",
    "docs.append(doc)\n",
    "id_counter += 1\n",
    "\n",
    "print(doc)"
   ]
  },
  {
   "cell_type": "code",
   "execution_count": 8,
   "id": "8153e446",
   "metadata": {},
   "outputs": [
    {
     "name": "stdout",
     "output_type": "stream",
     "text": [
      "3\n",
      "{'url': 'https://seekingalpha.com/article/4457311-nio-has-what-other-evs-are-missing-baas', 'ticker_mentioned': [True], 'ticker_top': ['NIO'], 'ticker_rel': ['F', 'GM', 'TSLA', 'PLUG'], 'doc_id': 3, 'company': 'NIO', 'title': 'NIO: Consumers Will Soon Realize NIO Has What Other EVs Are Missing, BaaS'}\n"
     ]
    }
   ],
   "source": [
    "print(id_counter)\n",
    "doc = make_dict()\n",
    "doc[\"doc_id\"] = id_counter\n",
    "doc[\"company\"] = \"NIO\"\n",
    "doc[\"ticker_top\"] = [\"NIO\"]\n",
    "doc[\"ticker_rel\"] = [\"F\", \"GM\", \"TSLA\", \"PLUG\"]\n",
    "doc[\"url\"] = \"https://seekingalpha.com/article/4457311-nio-has-what-other-evs-are-missing-baas\"\n",
    "doc[\"title\"] = \"NIO: Consumers Will Soon Realize NIO Has What Other EVs Are Missing, BaaS\"\n",
    "doc[\"ticker_mentioned\"] = [True]\n",
    "\n",
    "docs.append(doc)\n",
    "id_counter += 1\n",
    "\n",
    "print(doc)"
   ]
  },
  {
   "cell_type": "code",
   "execution_count": 9,
   "id": "fd0e8eda",
   "metadata": {},
   "outputs": [
    {
     "name": "stdout",
     "output_type": "stream",
     "text": [
      "4\n",
      "{'url': 'https://seekingalpha.com/article/4457328-ev-competition-has-arrived-does-tesla-have-answer', 'ticker_mentioned': [True], 'ticker_top': ['TSLA'], 'ticker_rel': ['F', 'GM', 'NIO', 'PLUG'], 'doc_id': 4, 'company': 'Tesla', 'title': 'EV Competition Has Arrived: Does Tesla Have The Answer?'}\n"
     ]
    }
   ],
   "source": [
    "print(id_counter)\n",
    "doc = make_dict()\n",
    "doc[\"doc_id\"] = id_counter\n",
    "doc[\"company\"] = \"Tesla\"\n",
    "doc[\"ticker_top\"] = [\"TSLA\"]\n",
    "doc[\"ticker_rel\"] = [\"F\", \"GM\", \"NIO\", \"PLUG\"]\n",
    "doc[\"url\"] = \"https://seekingalpha.com/article/4457328-ev-competition-has-arrived-does-tesla-have-answer\"\n",
    "doc[\"title\"] = \"EV Competition Has Arrived: Does Tesla Have The Answer?\"\n",
    "doc[\"ticker_mentioned\"] = [True]\n",
    "\n",
    "docs.append(doc)\n",
    "id_counter += 1\n",
    "\n",
    "print(doc)"
   ]
  },
  {
   "cell_type": "code",
   "execution_count": 10,
   "id": "1e174555",
   "metadata": {},
   "outputs": [
    {
     "name": "stdout",
     "output_type": "stream",
     "text": [
      "5\n",
      "{'url': 'https://stocknews.com/news/abev-sam-better-beer-stock-ambev-or-boston-beer-company/', 'ticker_mentioned': [True], 'ticker_top': ['ABEV'], 'ticker_rel': [], 'doc_id': 5, 'company': 'Ambev', 'title': 'Better Beer Stock: Ambev or Boston Beer Company?'}\n"
     ]
    }
   ],
   "source": [
    "print(id_counter)\n",
    "doc = make_dict()\n",
    "doc[\"doc_id\"] = id_counter\n",
    "doc[\"company\"] = \"Ambev\"\n",
    "doc[\"ticker_top\"] = [\"ABEV\"]\n",
    "doc[\"ticker_rel\"] = []\n",
    "doc[\"url\"] = \"https://stocknews.com/news/abev-sam-better-beer-stock-ambev-or-boston-beer-company/\"\n",
    "doc[\"title\"] = \"Better Beer Stock: Ambev or Boston Beer Company?\"\n",
    "doc[\"ticker_mentioned\"] = [True]\n",
    "\n",
    "docs.append(doc)\n",
    "id_counter += 1\n",
    "\n",
    "print(doc)"
   ]
  },
  {
   "cell_type": "code",
   "execution_count": 11,
   "id": "20f9adc1",
   "metadata": {},
   "outputs": [
    {
     "name": "stdout",
     "output_type": "stream",
     "text": [
      "6\n",
      "{'url': 'https://www.cnbc.com/2021/09/24/cruise-operator-carnival-posts-2-billion-adjusted-quarterly-loss-.html', 'ticker_mentioned': [True], 'ticker_top': ['CCL'], 'ticker_rel': ['NCLH'], 'doc_id': 6, 'company': 'Carnival', 'title': 'Carnival says cruise bookings for 2022 second half above pre-pandemic levels'}\n"
     ]
    }
   ],
   "source": [
    "print(id_counter)\n",
    "doc = make_dict()\n",
    "doc[\"doc_id\"] = id_counter\n",
    "doc[\"company\"] = \"Carnival\"\n",
    "doc[\"ticker_top\"] = [\"CCL\"]\n",
    "doc[\"ticker_rel\"] = [\"NCLH\"]\n",
    "doc[\"url\"] = \"https://www.cnbc.com/2021/09/24/cruise-operator-carnival-posts-2-billion-adjusted-quarterly-loss-.html\"\n",
    "doc[\"title\"] = \"Carnival says cruise bookings for 2022 second half above pre-pandemic levels\"\n",
    "doc[\"ticker_mentioned\"] = [True]\n",
    "\n",
    "docs.append(doc)\n",
    "id_counter += 1\n",
    "\n",
    "print(doc)"
   ]
  },
  {
   "cell_type": "code",
   "execution_count": 12,
   "id": "d6f9948b",
   "metadata": {},
   "outputs": [
    {
     "name": "stdout",
     "output_type": "stream",
     "text": [
      "7\n",
      "{'url': 'https://www.travelmarketreport.com/Cruise/articles/Norwegian-Cruise-Line-Officially-Returns-to-New-York', 'ticker_mentioned': [False], 'ticker_top': ['NCLH'], 'ticker_rel': ['CCL'], 'doc_id': 7, 'company': 'Norwegian Cruise Line Holdings', 'title': 'Norwegian Cruise Line Officially Returns to New York'}\n"
     ]
    }
   ],
   "source": [
    "print(id_counter)\n",
    "doc = make_dict()\n",
    "doc[\"doc_id\"] = id_counter\n",
    "doc[\"company\"] = \"Norwegian Cruise Line Holdings\"\n",
    "doc[\"ticker_top\"] = [\"NCLH\"]\n",
    "doc[\"ticker_rel\"] = [\"CCL\"]\n",
    "doc[\"url\"] = \"https://www.travelmarketreport.com/Cruise/articles/Norwegian-Cruise-Line-Officially-Returns-to-New-York\"\n",
    "doc[\"title\"] = \"Norwegian Cruise Line Officially Returns to New York\"\n",
    "doc[\"ticker_mentioned\"] = [False]\n",
    "\n",
    "docs.append(doc)\n",
    "id_counter += 1\n",
    "\n",
    "print(doc)"
   ]
  },
  {
   "cell_type": "code",
   "execution_count": 13,
   "id": "f0a1340e",
   "metadata": {},
   "outputs": [
    {
     "name": "stdout",
     "output_type": "stream",
     "text": [
      "8\n",
      "{'url': 'https://www.bizjournals.com/kansascity/news/2021/09/27/amc-entertainment-theater-expansion-los-angeles.html', 'ticker_mentioned': [True], 'ticker_top': ['AMC'], 'ticker_rel': [], 'doc_id': 8, 'company': 'AMC', 'title': 'AMC takes advantage of pandemic to expand presence in one notable city: Tinseltown'}\n"
     ]
    }
   ],
   "source": [
    "print(id_counter)\n",
    "doc = make_dict()\n",
    "doc[\"doc_id\"] = id_counter \n",
    "doc[\"company\"] = \"AMC\" \n",
    "doc[\"ticker_top\"] = [\"AMC\"] \n",
    "doc[\"ticker_rel\"] = [] \n",
    "doc[\"url\"] = \"https://www.bizjournals.com/kansascity/news/2021/09/27/amc-entertainment-theater-expansion-los-angeles.html\" \n",
    "doc[\"title\"] = \"AMC takes advantage of pandemic to expand presence in one notable city: Tinseltown\" \n",
    "doc[\"ticker_mentioned\"] = [True] \n",
    "\n",
    "docs.append(doc) \n",
    "id_counter += 1 \n",
    "\n",
    "print(doc)"
   ]
  },
  {
   "cell_type": "code",
   "execution_count": 14,
   "id": "137f2931",
   "metadata": {},
   "outputs": [
    {
     "name": "stdout",
     "output_type": "stream",
     "text": [
      "9\n",
      "{'url': 'https://thepienews.com/news/new-oriental-closes-k-12-subsidiary/', 'ticker_mentioned': [False], 'ticker_top': ['EDU'], 'ticker_rel': [], 'doc_id': 9, 'company': 'New Oriental Education & Tech Group', 'title': 'China: New Oriental closes K-12 subsidiary'}\n"
     ]
    }
   ],
   "source": [
    "print(id_counter)\n",
    "doc = make_dict()\n",
    "doc[\"doc_id\"] = id_counter\n",
    "doc[\"company\"] = \"New Oriental Education & Tech Group\"\n",
    "doc[\"ticker_top\"] = [\"EDU\"]\n",
    "doc[\"ticker_rel\"] = []\n",
    "doc[\"url\"] = \"https://thepienews.com/news/new-oriental-closes-k-12-subsidiary/\"\n",
    "doc[\"title\"] = \"China: New Oriental closes K-12 subsidiary\"\n",
    "doc[\"ticker_mentioned\"] = [False]\n",
    "\n",
    "docs.append(doc)\n",
    "id_counter += 1\n",
    "\n",
    "print(doc)"
   ]
  },
  {
   "cell_type": "code",
   "execution_count": 15,
   "id": "e0849fd3",
   "metadata": {},
   "outputs": [
    {
     "name": "stdout",
     "output_type": "stream",
     "text": [
      "10\n",
      "{'url': 'https://www.triplepundit.com/story/2021/plug-power-green-hydrogen/728856', 'ticker_mentioned': [False], 'ticker_top': ['PLUG'], 'ticker_rel': [], 'doc_id': 10, 'company': 'Plug Power', 'title': 'Fresno County Will Soon Be Home to the Largest Green Hydrogen Plant on the West Coast'}\n"
     ]
    }
   ],
   "source": [
    "print(id_counter)\n",
    "doc = make_dict()\n",
    "doc[\"doc_id\"] = id_counter\n",
    "doc[\"company\"] = \"Plug Power\"\n",
    "doc[\"ticker_top\"] = [\"PLUG\"]\n",
    "doc[\"ticker_rel\"] = []\n",
    "doc[\"url\"] = \"https://www.triplepundit.com/story/2021/plug-power-green-hydrogen/728856\"\n",
    "doc[\"title\"] = \"Fresno County Will Soon Be Home to the Largest Green Hydrogen Plant on the West Coast\"\n",
    "doc[\"ticker_mentioned\"] = [False]\n",
    "\n",
    "docs.append(doc)\n",
    "id_counter += 1\n",
    "\n",
    "print(doc)"
   ]
  },
  {
   "cell_type": "code",
   "execution_count": 16,
   "id": "88efb129",
   "metadata": {},
   "outputs": [
    {
     "name": "stdout",
     "output_type": "stream",
     "text": [
      "11\n",
      "{'url': 'https://www.barrons.com/articles/amd-ceo-chip-shortage-51632784863', 'ticker_mentioned': [False], 'ticker_top': ['AMD'], 'ticker_rel': ['INTC', 'MU', 'NVDA', 'TSM', 'AAPL'], 'doc_id': 11, 'company': 'Advanced Micro Devices', 'title': 'AMD CEO Sees Chip Shortage Easing in 2022'}\n"
     ]
    }
   ],
   "source": [
    "print(id_counter)\n",
    "doc = make_dict()\n",
    "doc[\"doc_id\"] = id_counter\n",
    "doc[\"company\"] = \"Advanced Micro Devices\"\n",
    "doc[\"ticker_top\"] = [\"AMD\"]\n",
    "doc[\"ticker_rel\"] = [\"INTC\", \"MU\", \"NVDA\", \"TSM\", \"AAPL\"]\n",
    "doc[\"url\"] = \"https://www.barrons.com/articles/amd-ceo-chip-shortage-51632784863\"\n",
    "doc[\"title\"] = \"AMD CEO Sees Chip Shortage Easing in 2022\"\n",
    "doc[\"ticker_mentioned\"] = [False]\n",
    "\n",
    "docs.append(doc)\n",
    "id_counter += 1\n",
    "\n",
    "print(doc)"
   ]
  },
  {
   "cell_type": "code",
   "execution_count": 17,
   "id": "4f3e83b3",
   "metadata": {},
   "outputs": [
    {
     "name": "stdout",
     "output_type": "stream",
     "text": [
      "12\n",
      "{'url': 'https://www.forbes.com/sites/antonyleather/2021/09/27/new-benchmark-leak-reveals-impressive-performance-of-intels-12900k-12700k-and-12600k-alder-lake-processors/', 'ticker_mentioned': [False], 'ticker_top': ['INTC'], 'ticker_rel': ['AMD', 'MU', 'NVDA', 'TSM', 'AAPL'], 'doc_id': 12, 'company': 'Intel', 'title': \"New Benchmark Leak Reveals Impressive Performance Of Intel's 12900K, 12700K And 12600K Alder Lake Processors\"}\n"
     ]
    }
   ],
   "source": [
    "print(id_counter)\n",
    "doc = make_dict()\n",
    "doc[\"doc_id\"] = id_counter\n",
    "doc[\"company\"] = \"Intel\"\n",
    "doc[\"ticker_top\"] = [\"INTC\"]\n",
    "doc[\"ticker_rel\"] = [\"AMD\", \"MU\", \"NVDA\", \"TSM\", \"AAPL\"]\n",
    "doc[\"url\"] = \"https://www.forbes.com/sites/antonyleather/2021/09/27/new-benchmark-leak-reveals-impressive-performance-of-intels-12900k-12700k-and-12600k-alder-lake-processors/\"\n",
    "doc[\"title\"] = \"New Benchmark Leak Reveals Impressive Performance Of Intel's 12900K, 12700K And 12600K Alder Lake Processors\"\n",
    "doc[\"ticker_mentioned\"] = [False]\n",
    "\n",
    "docs.append(doc)\n",
    "id_counter += 1\n",
    "\n",
    "print(doc)"
   ]
  },
  {
   "cell_type": "code",
   "execution_count": 18,
   "id": "63d38925",
   "metadata": {},
   "outputs": [
    {
     "name": "stdout",
     "output_type": "stream",
     "text": [
      "13\n",
      "{'url': 'https://finance.yahoo.com/news/micron-correction-slowly-coming-end-123026397.html', 'ticker_mentioned': [True], 'ticker_top': ['MU'], 'ticker_rel': ['AMD', 'INTC', 'NVDA', 'TSM', 'AAPL'], 'doc_id': 13, 'company': 'Micron Technology', 'title': 'Micron Correction Slowly Coming to an End'}\n"
     ]
    }
   ],
   "source": [
    "print(id_counter)\n",
    "doc = make_dict()\n",
    "doc[\"doc_id\"] = id_counter\n",
    "doc[\"company\"] = \"Micron Technology\"\n",
    "doc[\"ticker_top\"] = [\"MU\"]\n",
    "doc[\"ticker_rel\"] = [\"AMD\", \"INTC\", \"NVDA\", \"TSM\", \"AAPL\"]\n",
    "doc[\"url\"] = \"https://finance.yahoo.com/news/micron-correction-slowly-coming-end-123026397.html\"\n",
    "doc[\"title\"] = \"Micron Correction Slowly Coming to an End\"\n",
    "doc[\"ticker_mentioned\"] = [True]\n",
    "\n",
    "docs.append(doc)\n",
    "id_counter += 1\n",
    "\n",
    "print(doc)"
   ]
  },
  {
   "cell_type": "code",
   "execution_count": 19,
   "id": "66265125",
   "metadata": {},
   "outputs": [
    {
     "name": "stdout",
     "output_type": "stream",
     "text": [
      "14\n",
      "{'url': 'https://www.fool.com/investing/2021/09/27/why-nvidia-investors-are-nervous-today/', 'ticker_mentioned': [True], 'ticker_top': ['NVDA'], 'ticker_rel': ['AMD', 'INTC', 'MU', 'TSM', 'AAPL', 'TSLA'], 'doc_id': 14, 'company': 'Nvidia', 'title': 'Why Nvidia Investors Are Nervous Today'}\n"
     ]
    }
   ],
   "source": [
    "print(id_counter)\n",
    "doc = make_dict()\n",
    "doc[\"doc_id\"] = id_counter\n",
    "doc[\"company\"] = \"Nvidia\"\n",
    "doc[\"ticker_top\"] = [\"NVDA\"]\n",
    "doc[\"ticker_rel\"] = [\"AMD\", \"INTC\", \"MU\", \"TSM\", \"AAPL\", \"TSLA\"]\n",
    "doc[\"url\"] = \"https://www.fool.com/investing/2021/09/27/why-nvidia-investors-are-nervous-today/\"\n",
    "doc[\"title\"] = \"Why Nvidia Investors Are Nervous Today\"\n",
    "doc[\"ticker_mentioned\"] = [True]\n",
    "\n",
    "docs.append(doc)\n",
    "id_counter += 1\n",
    "\n",
    "print(doc)"
   ]
  },
  {
   "cell_type": "code",
   "execution_count": 20,
   "id": "38c0072a",
   "metadata": {},
   "outputs": [
    {
     "name": "stdout",
     "output_type": "stream",
     "text": [
      "15\n",
      "{'url': 'https://www.theweek.in/news/biz-tech/2021/09/28/can-india-proposed-semiconductor-deal-with-taiwan-gamechanger.html', 'ticker_mentioned': [False], 'ticker_top': ['TSM'], 'ticker_rel': ['AMD', 'INTC', 'MU', 'NVDA', 'AAPL'], 'doc_id': 15, 'company': 'Taiwan Semiconductor', 'title': 'Can India’s proposed semiconductor deal with Taiwan be a gamechanger?'}\n"
     ]
    }
   ],
   "source": [
    "print(id_counter)\n",
    "doc = make_dict()\n",
    "doc[\"doc_id\"] = id_counter\n",
    "doc[\"company\"] = \"Taiwan Semiconductor\"\n",
    "doc[\"ticker_top\"] = [\"TSM\"]\n",
    "doc[\"ticker_rel\"] = [\"AMD\", \"INTC\", \"MU\", \"NVDA\", \"AAPL\"]\n",
    "doc[\"url\"] = \"https://www.theweek.in/news/biz-tech/2021/09/28/can-india-proposed-semiconductor-deal-with-taiwan-gamechanger.html\"\n",
    "doc[\"title\"] = \"Can India’s proposed semiconductor deal with Taiwan be a gamechanger?\"\n",
    "doc[\"ticker_mentioned\"] = [False]\n",
    "\n",
    "docs.append(doc)\n",
    "id_counter += 1\n",
    "\n",
    "print(doc)"
   ]
  },
  {
   "cell_type": "code",
   "execution_count": 21,
   "id": "b12d9f08",
   "metadata": {},
   "outputs": [
    {
     "name": "stdout",
     "output_type": "stream",
     "text": [
      "16\n",
      "{'url': 'https://seekingalpha.com/article/4452820-taiwan-semiconductor-is-a-chip-manufacturing-giant-that-should-be-on-investors-radar', 'ticker_mentioned': [True], 'ticker_top': ['TSM'], 'ticker_rel': ['AMD', 'INTC', 'MU', 'NVDA', 'AAPL'], 'doc_id': 16, 'company': 'Taiwan Semiconductor', 'title': \"Taiwan Semiconductor Is A Chip Manufacturing Giant That Should Be On Investors' Radar\"}\n"
     ]
    }
   ],
   "source": [
    "print(id_counter)\n",
    "doc = make_dict()\n",
    "doc[\"doc_id\"] = id_counter\n",
    "doc[\"company\"] = \"Taiwan Semiconductor\"\n",
    "doc[\"ticker_top\"] = [\"TSM\"]\n",
    "doc[\"ticker_rel\"] = [\"AMD\", \"INTC\", \"MU\", \"NVDA\", \"AAPL\"]\n",
    "doc[\"url\"] = \"https://seekingalpha.com/article/4452820-taiwan-semiconductor-is-a-chip-manufacturing-giant-that-should-be-on-investors-radar\"\n",
    "doc[\"title\"] = \"Taiwan Semiconductor Is A Chip Manufacturing Giant That Should Be On Investors' Radar\"\n",
    "doc[\"ticker_mentioned\"] = [True]\n",
    "\n",
    "docs.append(doc)\n",
    "id_counter += 1\n",
    "\n",
    "print(doc)"
   ]
  },
  {
   "cell_type": "code",
   "execution_count": 22,
   "id": "d165c1dc",
   "metadata": {},
   "outputs": [
    {
     "name": "stdout",
     "output_type": "stream",
     "text": [
      "17\n",
      "{'url': 'https://edition.cnn.com/2021/09/10/tech/apple-epic-games-fortnite-decision/index.html', 'ticker_mentioned': [True], 'ticker_top': ['AAPL'], 'ticker_rel': ['AMD', 'INTC', 'MU', 'NVDA', 'TSM'], 'doc_id': 17, 'company': 'Apple', 'title': \"In a huge blow, judge rules Apple can't force developers to exclusively use its App Store payment system\"}\n"
     ]
    }
   ],
   "source": [
    "print(id_counter)\n",
    "doc = make_dict()\n",
    "doc[\"doc_id\"] = id_counter \n",
    "doc[\"company\"] = \"Apple\" \n",
    "doc[\"ticker_top\"] = [\"AAPL\"] \n",
    "doc[\"ticker_rel\"] = [\"AMD\", \"INTC\", \"MU\", \"NVDA\", \"TSM\"] \n",
    "doc[\"url\"] = \"https://edition.cnn.com/2021/09/10/tech/apple-epic-games-fortnite-decision/index.html\" \n",
    "doc[\"title\"] = \"In a huge blow, judge rules Apple can't force developers to exclusively use its App Store payment system\" \n",
    "doc[\"ticker_mentioned\"] = [True] \n",
    "\n",
    "docs.append(doc) \n",
    "id_counter += 1 \n",
    "\n",
    "print(doc)"
   ]
  },
  {
   "cell_type": "code",
   "execution_count": 23,
   "id": "8ca46567",
   "metadata": {},
   "outputs": [
    {
     "name": "stdout",
     "output_type": "stream",
     "text": [
      "18\n",
      "{'url': 'https://edition.cnn.com/2021/09/23/business/bp-fuel-supply-driver-shortage/index.html', 'ticker_mentioned': [True], 'ticker_top': ['BP'], 'ticker_rel': ['CVX', 'XOM', 'PBR', 'OXY'], 'doc_id': 18, 'company': 'BP plc', 'title': 'Brits line up for gas as BP closes some service stations'}\n"
     ]
    }
   ],
   "source": [
    "print(id_counter)\n",
    "doc = make_dict()\n",
    "doc[\"doc_id\"] = id_counter \n",
    "doc[\"company\"] = \"BP plc\" \n",
    "doc[\"ticker_top\"] = [\"BP\"] \n",
    "doc[\"ticker_rel\"] = [\"CVX\", \"XOM\", \"PBR\", \"OXY\"] \n",
    "doc[\"url\"] = \"https://edition.cnn.com/2021/09/23/business/bp-fuel-supply-driver-shortage/index.html\" \n",
    "doc[\"title\"] = \"Brits line up for gas as BP closes some service stations\" \n",
    "doc[\"ticker_mentioned\"] = [True] \n",
    "\n",
    "docs.append(doc) \n",
    "id_counter += 1 \n",
    "\n",
    "print(doc)"
   ]
  },
  {
   "cell_type": "code",
   "execution_count": 24,
   "id": "6c876e7b",
   "metadata": {},
   "outputs": [
    {
     "name": "stdout",
     "output_type": "stream",
     "text": [
      "19\n",
      "{'url': 'https://finance.yahoo.com/news/why-chevron-exxon-shun-solar-210000813.html', 'ticker_mentioned': [False, False], 'ticker_top': ['CVX', 'XOM'], 'ticker_rel': ['BP', 'PBR', 'OXY'], 'doc_id': 19, 'company': 'Chevron', 'title': 'Why Chevron And Exxon Shun Solar And Wind'}\n"
     ]
    }
   ],
   "source": [
    "print(id_counter)\n",
    "doc = make_dict()\n",
    "doc[\"doc_id\"] = id_counter \n",
    "doc[\"company\"] = \"Chevron\" \n",
    "doc[\"ticker_top\"] = [\"CVX\", \"XOM\"] \n",
    "doc[\"ticker_rel\"] = [\"BP\", \"PBR\", \"OXY\"] \n",
    "doc[\"url\"] = \"https://finance.yahoo.com/news/why-chevron-exxon-shun-solar-210000813.html\" \n",
    "doc[\"title\"] = \"Why Chevron And Exxon Shun Solar And Wind\" \n",
    "doc[\"ticker_mentioned\"] = [False, False] \n",
    "\n",
    "docs.append(doc)\n",
    "id_counter += 1 \n",
    "\n",
    "print(doc)"
   ]
  },
  {
   "cell_type": "code",
   "execution_count": 25,
   "id": "8a186f27",
   "metadata": {},
   "outputs": [
    {
     "name": "stdout",
     "output_type": "stream",
     "text": [
      "20\n",
      "{'url': 'https://www.zacks.com/stock/news/1799571/petrobras-pbr-aims-to-obtain-net-zero-emission-from-operations', 'ticker_mentioned': [True], 'ticker_top': ['PBR'], 'ticker_rel': ['CVX', 'XOM', 'BP', 'OXY'], 'doc_id': 20, 'company': 'Petroleo Brasileiro S.A.', 'title': 'Petrobras (PBR) Aims to Obtain Net-Zero Emission From Operations'}\n"
     ]
    }
   ],
   "source": [
    "print(id_counter)\n",
    "doc = make_dict()\n",
    "doc[\"doc_id\"] = id_counter \n",
    "doc[\"company\"] = \"Petroleo Brasileiro S.A.\"\n",
    "doc[\"ticker_top\"] = [\"PBR\"] \n",
    "doc[\"ticker_rel\"] = [\"CVX\", \"XOM\", \"BP\", \"OXY\"] \n",
    "doc[\"url\"] = \"https://www.zacks.com/stock/news/1799571/petrobras-pbr-aims-to-obtain-net-zero-emission-from-operations\" \n",
    "doc[\"title\"] = \"Petrobras (PBR) Aims to Obtain Net-Zero Emission From Operations\" \n",
    "doc[\"ticker_mentioned\"] = [True] \n",
    "\n",
    "docs.append(doc) \n",
    "id_counter += 1 \n",
    "\n",
    "print(doc)"
   ]
  },
  {
   "cell_type": "code",
   "execution_count": 26,
   "id": "09808db8",
   "metadata": {},
   "outputs": [
    {
     "name": "stdout",
     "output_type": "stream",
     "text": [
      "21\n",
      "{'url': 'https://finance.yahoo.com/news/occidental-petroleum-oxy-outpaced-other-153003840.html', 'ticker_mentioned': [True], 'ticker_top': ['OXY'], 'ticker_rel': ['CVX', 'XOM', 'BP', 'PBR'], 'doc_id': 21, 'company': 'Occidental', 'title': 'Has Occidental Petroleum (OXY) Outpaced Other Oils-Energy Stocks This Year?'}\n"
     ]
    }
   ],
   "source": [
    "print(id_counter)\n",
    "doc = make_dict()\n",
    "doc[\"doc_id\"] = id_counter \n",
    "doc[\"company\"] = \"Occidental\" \n",
    "doc[\"ticker_top\"] = [\"OXY\"] \n",
    "doc[\"ticker_rel\"] = [\"CVX\", \"XOM\", \"BP\", \"PBR\"] \n",
    "doc[\"url\"] = \"https://finance.yahoo.com/news/occidental-petroleum-oxy-outpaced-other-153003840.html\" \n",
    "doc[\"title\"] = \"Has Occidental Petroleum (OXY) Outpaced Other Oils-Energy Stocks This Year?\" \n",
    "doc[\"ticker_mentioned\"] = [True] \n",
    "\n",
    "docs.append(doc) \n",
    "id_counter += 1 \n",
    "\n",
    "print(doc)"
   ]
  },
  {
   "cell_type": "code",
   "execution_count": 27,
   "id": "10be3b5a",
   "metadata": {},
   "outputs": [
    {
     "name": "stdout",
     "output_type": "stream",
     "text": [
      "22\n",
      "{'url': 'https://www.fool.com/investing/2021/09/24/will-sofi-technologies-be-next-fintech-disruptor/', 'ticker_mentioned': [True], 'ticker_top': ['SOFI'], 'ticker_rel': ['BBD', 'BAC', 'ITUB'], 'doc_id': 22, 'company': 'SoFi Technologies', 'title': 'Will SoFi Technologies Be the Next Fintech Disruptor?'}\n"
     ]
    }
   ],
   "source": [
    "print(id_counter)\n",
    "doc = make_dict()\n",
    "doc[\"doc_id\"] = id_counter \n",
    "doc[\"company\"] = \"SoFi Technologies\" \n",
    "doc[\"ticker_top\"] = [\"SOFI\"] \n",
    "doc[\"ticker_rel\"] = [\"BBD\", \"BAC\", \"ITUB\"] \n",
    "doc[\"url\"] = \"https://www.fool.com/investing/2021/09/24/will-sofi-technologies-be-next-fintech-disruptor/\" \n",
    "doc[\"title\"] = \"Will SoFi Technologies Be the Next Fintech Disruptor?\" \n",
    "doc[\"ticker_mentioned\"] = [True] \n",
    "\n",
    "docs.append(doc) \n",
    "id_counter += 1 \n",
    "\n",
    "print(doc)"
   ]
  },
  {
   "cell_type": "code",
   "execution_count": 28,
   "id": "316855c8",
   "metadata": {},
   "outputs": [
    {
     "name": "stdout",
     "output_type": "stream",
     "text": [
      "23\n",
      "{'url': 'https://asreport.americanbanker.com/news/citigroup-mortgage-trust-funds-single-family-home-investors-for-236-6-million', 'ticker_mentioned': [False], 'ticker_top': ['C'], 'ticker_rel': ['BBD', 'BAC', 'ITUB'], 'doc_id': 23, 'company': 'Citigroup', 'title': 'Citigroup floats $236.6 million in MBS backing single-family home investors'}\n"
     ]
    }
   ],
   "source": [
    "print(id_counter)\n",
    "doc = make_dict()\n",
    "doc[\"doc_id\"] = id_counter \n",
    "doc[\"company\"] = \"Citigroup\" \n",
    "doc[\"ticker_top\"] = [\"C\"] \n",
    "doc[\"ticker_rel\"] = [\"BBD\", \"BAC\", \"ITUB\"] \n",
    "doc[\"url\"] = \"https://asreport.americanbanker.com/news/citigroup-mortgage-trust-funds-single-family-home-investors-for-236-6-million\" \n",
    "doc[\"title\"] = \"Citigroup floats $236.6 million in MBS backing single-family home investors\" \n",
    "doc[\"ticker_mentioned\"] = [False] \n",
    "\n",
    "docs.append(doc) \n",
    "id_counter += 1 \n",
    "\n",
    "print(doc)"
   ]
  },
  {
   "cell_type": "code",
   "execution_count": 29,
   "id": "39b74aa4",
   "metadata": {},
   "outputs": [
    {
     "name": "stdout",
     "output_type": "stream",
     "text": [
      "24\n",
      "{'url': 'https://www.marketbeat.com/instant-alerts/nyse-bbd-dividend-announcement-2021-09-2-3/', 'ticker_mentioned': [True], 'ticker_top': ['BBD'], 'ticker_rel': ['BAC', 'ITUB'], 'doc_id': 24, 'company': 'Banco Bradesco S.A. – Preferred Shares', 'title': 'Banco Bradesco S.A. Plans Monthly Dividend of $0.00 (NYSE:BBD)'}\n"
     ]
    }
   ],
   "source": [
    "print(id_counter)\n",
    "doc = make_dict()\n",
    "doc[\"doc_id\"] = id_counter \n",
    "doc[\"company\"] = \"Banco Bradesco S.A. – Preferred Shares\" \n",
    "doc[\"ticker_top\"] = [\"BBD\"] \n",
    "doc[\"ticker_rel\"] = [\"BAC\", \"ITUB\"] \n",
    "doc[\"url\"] = \"https://www.marketbeat.com/instant-alerts/nyse-bbd-dividend-announcement-2021-09-2-3/\" \n",
    "doc[\"title\"] = \"Banco Bradesco S.A. Plans Monthly Dividend of $0.00 (NYSE:BBD)\" \n",
    "doc[\"ticker_mentioned\"] = [True] \n",
    "\n",
    "docs.append(doc) \n",
    "id_counter += 1 \n",
    "\n",
    "print(doc)"
   ]
  },
  {
   "cell_type": "code",
   "execution_count": 30,
   "id": "a8bc4da3",
   "metadata": {},
   "outputs": [
    {
     "name": "stdout",
     "output_type": "stream",
     "text": [
      "25\n",
      "{'url': 'https://www.fool.com/investing/2021/09/23/why-bank-of-america-and-citigroup-are-trading-high/', 'ticker_mentioned': [True, True], 'ticker_top': ['BAC', 'C'], 'ticker_rel': ['BBD', 'ITUB'], 'doc_id': 25, 'company': 'Bank of America', 'title': 'Why Bank of America and Citigroup Are Trading Higher Today'}\n"
     ]
    }
   ],
   "source": [
    "print(id_counter)\n",
    "doc = make_dict()\n",
    "doc[\"doc_id\"] = id_counter \n",
    "doc[\"company\"] = \"Bank of America\" \n",
    "doc[\"ticker_top\"] = [\"BAC\", \"C\"] \n",
    "doc[\"ticker_rel\"] = [\"BBD\", \"ITUB\"] \n",
    "doc[\"url\"] = \"https://www.fool.com/investing/2021/09/23/why-bank-of-america-and-citigroup-are-trading-high/\" \n",
    "doc[\"title\"] = \"Why Bank of America and Citigroup Are Trading Higher Today\" \n",
    "doc[\"ticker_mentioned\"] = [True, True] \n",
    "\n",
    "docs.append(doc) \n",
    "id_counter += 1 \n",
    "\n",
    "print(doc)"
   ]
  },
  {
   "cell_type": "code",
   "execution_count": 31,
   "id": "b0eddd75",
   "metadata": {},
   "outputs": [
    {
     "name": "stdout",
     "output_type": "stream",
     "text": [
      "26\n",
      "{'url': 'https://www.marketbeat.com/instant-alerts/nyse-itub-options-data-report-2021-09-2-3/', 'ticker_mentioned': [True], 'ticker_top': ['ITUB'], 'ticker_rel': ['BBD', 'BAC'], 'doc_id': 26, 'company': 'Itaú Unibanco', 'title': 'Itaú Unibanco Holding S.A. (NYSE:ITUB) Short Interest Down 19.6% in August'}\n"
     ]
    }
   ],
   "source": [
    "print(id_counter)\n",
    "doc = make_dict()\n",
    "doc[\"doc_id\"] = id_counter \n",
    "doc[\"company\"] = \"Itaú Unibanco\" \n",
    "doc[\"ticker_top\"] = [\"ITUB\"] \n",
    "doc[\"ticker_rel\"] = [\"BBD\", \"BAC\"] \n",
    "doc[\"url\"] = \"https://www.marketbeat.com/instant-alerts/nyse-itub-options-data-report-2021-09-2-3/\" \n",
    "doc[\"title\"] = \"Itaú Unibanco Holding S.A. (NYSE:ITUB) Short Interest Down 19.6% in August\" \n",
    "doc[\"ticker_mentioned\"] = [True] \n",
    "\n",
    "docs.append(doc) \n",
    "id_counter += 1 \n",
    "\n",
    "print(doc)"
   ]
  },
  {
   "cell_type": "code",
   "execution_count": 32,
   "id": "446dd6e6",
   "metadata": {},
   "outputs": [
    {
     "name": "stdout",
     "output_type": "stream",
     "text": [
      "27\n",
      "{'url': 'https://www.fool.com/investing/2021/09/28/moderna-ceo-predicts-pandemic-could-end-in-2022-he/', 'ticker_mentioned': [True], 'ticker_top': ['MRNA'], 'ticker_rel': ['PFE'], 'doc_id': 27, 'company': 'Moderna', 'title': \"Moderna CEO Predicts Pandemic Could End in 2022: Here's Why the Stock Could Plunge If He's Right\"}\n"
     ]
    }
   ],
   "source": [
    "print(id_counter)\n",
    "doc = make_dict()\n",
    "doc[\"doc_id\"] = id_counter \n",
    "doc[\"company\"] = \"Moderna\" \n",
    "doc[\"ticker_top\"] = [\"MRNA\"] \n",
    "doc[\"ticker_rel\"] = [\"PFE\"] \n",
    "doc[\"url\"] = \"https://www.fool.com/investing/2021/09/28/moderna-ceo-predicts-pandemic-could-end-in-2022-he/\" \n",
    "doc[\"title\"] = \"Moderna CEO Predicts Pandemic Could End in 2022: Here's Why the Stock Could Plunge If He's Right\" \n",
    "doc[\"ticker_mentioned\"] = [True] \n",
    "\n",
    "docs.append(doc) \n",
    "id_counter += 1 \n",
    "\n",
    "print(doc)"
   ]
  },
  {
   "cell_type": "code",
   "execution_count": 33,
   "id": "8267e53a",
   "metadata": {},
   "outputs": [
    {
     "name": "stdout",
     "output_type": "stream",
     "text": [
      "28\n",
      "{'url': 'https://apnews.com/article/fda-panel-rejects-widespread-pfizer-booster-shots-1cd1cf6a5c5c02b63f8a7324807a59f1', 'ticker_mentioned': [False], 'ticker_top': ['PFE'], 'ticker_rel': ['MRNA'], 'doc_id': 28, 'company': 'Pfizer', 'title': 'US panel backs COVID-19 boosters only for seniors, high-risk'}\n"
     ]
    }
   ],
   "source": [
    "print(id_counter)\n",
    "doc = make_dict()\n",
    "doc[\"doc_id\"] = id_counter \n",
    "doc[\"company\"] = \"Pfizer\" \n",
    "doc[\"ticker_top\"] = [\"PFE\"] \n",
    "doc[\"ticker_rel\"] = [\"MRNA\"] \n",
    "doc[\"url\"] = \"https://apnews.com/article/fda-panel-rejects-widespread-pfizer-booster-shots-1cd1cf6a5c5c02b63f8a7324807a59f1\" \n",
    "doc[\"title\"] = \"US panel backs COVID-19 boosters only for seniors, high-risk\" \n",
    "doc[\"ticker_mentioned\"] = [False] \n",
    "\n",
    "docs.append(doc) \n",
    "id_counter += 1 \n",
    "\n",
    "print(doc)"
   ]
  },
  {
   "cell_type": "code",
   "execution_count": 34,
   "id": "c6cb4c68",
   "metadata": {},
   "outputs": [
    {
     "name": "stdout",
     "output_type": "stream",
     "text": [
      "29\n",
      "{'url': 'https://finance.yahoo.com/news/energy-transfer-earnings-climb-natgas-212958144.html', 'ticker_mentioned': [False], 'ticker_top': ['ET'], 'ticker_rel': ['SLB', 'BP', 'CVX', 'XOM', 'PBR', 'OXY'], 'doc_id': 29, 'company': 'Energy Transfer Equity', 'title': 'Energy Transfer earnings climb as natgas pipeline revenues jump'}\n"
     ]
    }
   ],
   "source": [
    "print(id_counter)\n",
    "doc = make_dict()\n",
    "doc[\"doc_id\"] = id_counter \n",
    "doc[\"company\"] = \"Energy Transfer Equity\" \n",
    "doc[\"ticker_top\"] = [\"ET\"] \n",
    "doc[\"ticker_rel\"] = [\"SLB\", \"BP\", \"CVX\", \"XOM\", \"PBR\", \"OXY\"] \n",
    "doc[\"url\"] = \"https://finance.yahoo.com/news/energy-transfer-earnings-climb-natgas-212958144.html\" \n",
    "doc[\"title\"] = \"Energy Transfer earnings climb as natgas pipeline revenues jump\" \n",
    "doc[\"ticker_mentioned\"] = [False] \n",
    "\n",
    "docs.append(doc) \n",
    "id_counter += 1 \n",
    "\n",
    "print(doc)"
   ]
  },
  {
   "cell_type": "code",
   "execution_count": 35,
   "id": "a3c98424",
   "metadata": {},
   "outputs": [
    {
     "name": "stdout",
     "output_type": "stream",
     "text": [
      "30\n",
      "{'url': 'https://finance.yahoo.com/news/schlumberger-energy-enters-agreement-enervenue-120000990.html', 'ticker_mentioned': [False], 'ticker_top': ['SLB'], 'ticker_rel': ['ET', 'BP', 'CVX', 'XOM', 'PBR', 'OXY'], 'doc_id': 30, 'company': 'Schlumberger', 'title': 'Schlumberger New Energy Enters into Agreement with EnerVenue for Metal-Hydrogen Stationary Energy Storage Solutions'}\n"
     ]
    }
   ],
   "source": [
    "print(id_counter)\n",
    "doc = make_dict()\n",
    "doc[\"doc_id\"] = id_counter \n",
    "doc[\"company\"] = \"Schlumberger\" \n",
    "doc[\"ticker_top\"] = [\"SLB\"] \n",
    "doc[\"ticker_rel\"] = [\"ET\", \"BP\", \"CVX\", \"XOM\", \"PBR\", \"OXY\"] \n",
    "doc[\"url\"] = \"https://finance.yahoo.com/news/schlumberger-energy-enters-agreement-enervenue-120000990.html\" \n",
    "doc[\"title\"] = \"Schlumberger New Energy Enters into Agreement with EnerVenue for Metal-Hydrogen Stationary Energy Storage Solutions\" \n",
    "doc[\"ticker_mentioned\"] = [False] \n",
    "\n",
    "docs.append(doc) \n",
    "id_counter += 1 \n",
    "\n",
    "print(doc)"
   ]
  },
  {
   "cell_type": "code",
   "execution_count": 36,
   "id": "570f1869",
   "metadata": {},
   "outputs": [
    {
     "name": "stdout",
     "output_type": "stream",
     "text": [
      "31\n",
      "{'url': 'https://www.fool.com/investing/2021/08/27/why-alcoa-stock-is-soaring-this-week-and-may-not-s/', 'ticker_mentioned': [True], 'ticker_top': ['AA'], 'ticker_rel': ['FCX', 'CLF', 'X', 'VALE'], 'doc_id': 31, 'company': 'Alcoa', 'title': 'Why Alcoa Stock Is Soaring This Week and May Not Stop'}\n"
     ]
    }
   ],
   "source": [
    "print(id_counter)\n",
    "doc = make_dict()\n",
    "doc[\"doc_id\"] = id_counter \n",
    "doc[\"company\"] = \"Alcoa\" \n",
    "doc[\"ticker_top\"] = [\"AA\"] \n",
    "doc[\"ticker_rel\"] = [\"FCX\", \"CLF\", \"X\", \"VALE\"] \n",
    "doc[\"url\"] = \"https://www.fool.com/investing/2021/08/27/why-alcoa-stock-is-soaring-this-week-and-may-not-s/\" \n",
    "doc[\"title\"] = \"Why Alcoa Stock Is Soaring This Week and May Not Stop\" \n",
    "doc[\"ticker_mentioned\"] = [True] \n",
    "\n",
    "docs.append(doc) \n",
    "id_counter += 1 \n",
    "\n",
    "print(doc)"
   ]
  },
  {
   "cell_type": "code",
   "execution_count": 37,
   "id": "a1ba3ba5",
   "metadata": {},
   "outputs": [
    {
     "name": "stdout",
     "output_type": "stream",
     "text": [
      "32\n",
      "{'url': 'https://seekingalpha.com/article/4457259-freeport-mcmoran-fcx-stock-a-coffer-full-of-copper', 'ticker_mentioned': [True], 'ticker_top': ['FCX'], 'ticker_rel': ['AA', 'CLF', 'X', 'VALE'], 'doc_id': 32, 'company': 'Freeport', 'title': 'Freeport-McMoRan - A Coffer Full Of Copper'}\n"
     ]
    }
   ],
   "source": [
    "print(id_counter)\n",
    "doc = make_dict()\n",
    "doc[\"doc_id\"] = id_counter \n",
    "doc[\"company\"] = \"Freeport\" \n",
    "doc[\"ticker_top\"] = [\"FCX\"] \n",
    "doc[\"ticker_rel\"] = [\"AA\", \"CLF\", \"X\", \"VALE\"] \n",
    "doc[\"url\"] = \"https://seekingalpha.com/article/4457259-freeport-mcmoran-fcx-stock-a-coffer-full-of-copper\" \n",
    "doc[\"title\"] = \"Freeport-McMoRan - A Coffer Full Of Copper\" \n",
    "doc[\"ticker_mentioned\"] = [True] \n",
    "\n",
    "docs.append(doc) \n",
    "id_counter += 1 \n",
    "\n",
    "print(doc)"
   ]
  },
  {
   "cell_type": "code",
   "execution_count": 38,
   "id": "f15c674f",
   "metadata": {},
   "outputs": [
    {
     "name": "stdout",
     "output_type": "stream",
     "text": [
      "33\n",
      "{'url': 'https://www.thestreet.com/investing/cleveland-cliffs-sticks-to-self-sufficiency-model', 'ticker_mentioned': [True], 'ticker_top': ['CLF'], 'ticker_rel': ['X', 'VALE'], 'doc_id': 33, 'company': 'Cleveland-Cliffs Inc.', 'title': 'Cleveland-Cliffs Sticks to ‘Self Sufficiency’ Model'}\n"
     ]
    }
   ],
   "source": [
    "print(id_counter)\n",
    "doc = make_dict()\n",
    "doc[\"doc_id\"] = id_counter \n",
    "doc[\"company\"] = \"Cleveland-Cliffs Inc.\" \n",
    "doc[\"ticker_top\"] = [\"CLF\"] \n",
    "doc[\"ticker_rel\"] = [\"X\", \"VALE\"] \n",
    "doc[\"url\"] = \"https://www.thestreet.com/investing/cleveland-cliffs-sticks-to-self-sufficiency-model\" \n",
    "doc[\"title\"] = \"Cleveland-Cliffs Sticks to ‘Self Sufficiency’ Model\" \n",
    "doc[\"ticker_mentioned\"] = [True] \n",
    "\n",
    "docs.append(doc) \n",
    "id_counter += 1 \n",
    "\n",
    "print(doc)"
   ]
  },
  {
   "cell_type": "code",
   "execution_count": 39,
   "id": "0b13822c",
   "metadata": {},
   "outputs": [
    {
     "name": "stdout",
     "output_type": "stream",
     "text": [
      "34\n",
      "{'url': 'https://finance.yahoo.com/news/us-steel-output-spikes-20-095909198.html', 'ticker_mentioned': [True], 'ticker_top': ['X'], 'ticker_rel': ['CLF', 'VALE'], 'doc_id': 34, 'company': 'United States Steel', 'title': 'US Steel Output Spikes 20% YTD on Higher Capacity, Solid Demand'}\n"
     ]
    }
   ],
   "source": [
    "print(id_counter)\n",
    "doc = make_dict()\n",
    "doc[\"doc_id\"] = id_counter \n",
    "doc[\"company\"] = \"United States Steel\" \n",
    "doc[\"ticker_top\"] = [\"X\"] \n",
    "doc[\"ticker_rel\"] = [\"CLF\", \"VALE\"] \n",
    "doc[\"url\"] = \"https://finance.yahoo.com/news/us-steel-output-spikes-20-095909198.html\" \n",
    "doc[\"title\"] = \"US Steel Output Spikes 20% YTD on Higher Capacity, Solid Demand\" \n",
    "doc[\"ticker_mentioned\"] = [True] \n",
    "\n",
    "docs.append(doc) \n",
    "id_counter += 1 \n",
    "\n",
    "print(doc)"
   ]
  },
  {
   "cell_type": "code",
   "execution_count": 40,
   "id": "9eed442a",
   "metadata": {},
   "outputs": [
    {
     "name": "stdout",
     "output_type": "stream",
     "text": [
      "35\n",
      "{'url': 'https://www.thedailybeast.com/vale-the-firm-responsible-for-270-deaths-strikes-again-in-canada', 'ticker_mentioned': [False], 'ticker_top': ['VALE'], 'ticker_rel': ['CLF', 'X'], 'doc_id': 35, 'company': 'Vale', 'title': 'Mining Firm Responsible for 270-Death Disaster Behind New Canada Fiasco'}\n"
     ]
    }
   ],
   "source": [
    "print(id_counter)\n",
    "doc = make_dict()\n",
    "doc[\"doc_id\"] = id_counter \n",
    "doc[\"company\"] = \"Vale\" \n",
    "doc[\"ticker_top\"] = [\"VALE\"] \n",
    "doc[\"ticker_rel\"] = [\"CLF\", \"X\"] \n",
    "doc[\"url\"] = \"https://www.thedailybeast.com/vale-the-firm-responsible-for-270-deaths-strikes-again-in-canada\" \n",
    "doc[\"title\"] = \"Mining Firm Responsible for 270-Death Disaster Behind New Canada Fiasco\" \n",
    "doc[\"ticker_mentioned\"] = [False] \n",
    "\n",
    "docs.append(doc) \n",
    "id_counter += 1 \n",
    "\n",
    "print(doc)"
   ]
  },
  {
   "cell_type": "code",
   "execution_count": 41,
   "id": "2947b238",
   "metadata": {},
   "outputs": [
    {
     "name": "stdout",
     "output_type": "stream",
     "text": [
      "36\n",
      "{'url': 'https://www.foxbusiness.com/markets/kohls-ceo-amazon-partnership-lifestyle-concept', 'ticker_mentioned': [False], 'ticker_top': ['KSS'], 'ticker_rel': ['M'], 'doc_id': 36, 'company': 'Kohl’s', 'title': 'Kohls CEO talks Amazon partnership, turning business into ‘lifestyle concept’'}\n"
     ]
    }
   ],
   "source": [
    "print(id_counter)\n",
    "doc = make_dict()\n",
    "doc[\"doc_id\"] = id_counter \n",
    "doc[\"company\"] = \"Kohl’s\" \n",
    "doc[\"ticker_top\"] = [\"KSS\"] \n",
    "doc[\"ticker_rel\"] = [\"M\"] \n",
    "doc[\"url\"] = \"https://www.foxbusiness.com/markets/kohls-ceo-amazon-partnership-lifestyle-concept\" \n",
    "doc[\"title\"] = \"Kohls CEO talks Amazon partnership, turning business into ‘lifestyle concept’\" \n",
    "doc[\"ticker_mentioned\"] = [False] \n",
    "\n",
    "docs.append(doc) \n",
    "id_counter += 1 \n",
    "\n",
    "print(doc)"
   ]
  },
  {
   "cell_type": "code",
   "execution_count": 42,
   "id": "8bc60019",
   "metadata": {},
   "outputs": [
    {
     "name": "stdout",
     "output_type": "stream",
     "text": [
      "37\n",
      "{'url': 'https://www.forbes.com/sites/walterloeb/2021/08/23/macys-and-kohls-define-post-pandemic-department-store-look/', 'ticker_mentioned': [False, False], 'ticker_top': ['KSS', 'M'], 'ticker_rel': [], 'doc_id': 37, 'company': 'Macy’s', 'title': 'Macy’s And Kohl’s Define Post-Pandemic Department Stores’ Look'}\n"
     ]
    }
   ],
   "source": [
    "print(id_counter)\n",
    "doc = make_dict()\n",
    "doc[\"doc_id\"] = id_counter \n",
    "doc[\"company\"] = \"Macy’s\" \n",
    "doc[\"ticker_top\"] = [\"KSS\", \"M\"] \n",
    "doc[\"ticker_rel\"] = [] \n",
    "doc[\"url\"] = \"https://www.forbes.com/sites/walterloeb/2021/08/23/macys-and-kohls-define-post-pandemic-department-store-look/\" \n",
    "doc[\"title\"] = \"Macy’s And Kohl’s Define Post-Pandemic Department Stores’ Look\" \n",
    "doc[\"ticker_mentioned\"] = [False, False] \n",
    "\n",
    "docs.append(doc) \n",
    "id_counter += 1 \n",
    "\n",
    "print(doc)"
   ]
  },
  {
   "cell_type": "code",
   "execution_count": 43,
   "id": "79937a29",
   "metadata": {},
   "outputs": [
    {
     "name": "stdout",
     "output_type": "stream",
     "text": [
      "38\n",
      "{'url': 'https://www.forbes.com/sites/greatspeculations/2021/09/28/whats-next-for-macys-stock-after-an-8-move-last-week/', 'ticker_mentioned': [True], 'ticker_top': ['M'], 'ticker_rel': ['KSS'], 'doc_id': 38, 'company': 'Macy’s', 'title': 'What’s Next For Macy’s Stock After An 8% Move Last Week?'}\n"
     ]
    }
   ],
   "source": [
    "print(id_counter)\n",
    "doc = make_dict()\n",
    "doc[\"doc_id\"] = id_counter \n",
    "doc[\"company\"] = \"Macy’s\" \n",
    "doc[\"ticker_top\"] = [\"M\"] \n",
    "doc[\"ticker_rel\"] = [\"KSS\"] \n",
    "doc[\"url\"] = \"https://www.forbes.com/sites/greatspeculations/2021/09/28/whats-next-for-macys-stock-after-an-8-move-last-week/\" \n",
    "doc[\"title\"] = \"What’s Next For Macy’s Stock After An 8% Move Last Week?\" \n",
    "doc[\"ticker_mentioned\"] = [True] \n",
    "\n",
    "docs.append(doc) \n",
    "id_counter += 1 \n",
    "\n",
    "print(doc)"
   ]
  },
  {
   "cell_type": "code",
   "execution_count": 44,
   "id": "14be96b2",
   "metadata": {},
   "outputs": [
    {
     "name": "stdout",
     "output_type": "stream",
     "text": [
      "39\n",
      "{'url': 'https://edition.cnn.com/2021/09/13/investing/china-alipay-alibaba-stock-intl-hnk/index.html', 'ticker_mentioned': [True], 'ticker_top': ['BABA'], 'ticker_rel': ['JD', 'VIPS'], 'doc_id': 39, 'company': 'Alibaba', 'title': 'Alibaba stock tumbles after report says Beijing wants to break up Alipay'}\n"
     ]
    }
   ],
   "source": [
    "print(id_counter)\n",
    "doc = make_dict()\n",
    "doc[\"doc_id\"] = id_counter \n",
    "doc[\"company\"] = \"Alibaba\" \n",
    "doc[\"ticker_top\"] = [\"BABA\"] \n",
    "doc[\"ticker_rel\"] = [\"JD\", \"VIPS\"] \n",
    "doc[\"url\"] = \"https://edition.cnn.com/2021/09/13/investing/china-alipay-alibaba-stock-intl-hnk/index.html\" \n",
    "doc[\"title\"] = \"Alibaba stock tumbles after report says Beijing wants to break up Alipay\" \n",
    "doc[\"ticker_mentioned\"] = [True] \n",
    "\n",
    "docs.append(doc) \n",
    "id_counter += 1 \n",
    "\n",
    "print(doc)"
   ]
  },
  {
   "cell_type": "code",
   "execution_count": 45,
   "id": "891a6c54",
   "metadata": {},
   "outputs": [
    {
     "name": "stdout",
     "output_type": "stream",
     "text": [
      "40\n",
      "{'url': 'https://www.fool.com/investing/2021/09/07/why-jdcom-is-my-top-chinese-e-commerce-stock/', 'ticker_mentioned': [True], 'ticker_top': ['JD'], 'ticker_rel': ['BABA', 'VIPS'], 'doc_id': 40, 'company': 'JD.com', 'title': 'Why JD.com Is My Top Chinese E-Commerce Stock'}\n"
     ]
    }
   ],
   "source": [
    "print(id_counter)\n",
    "doc = make_dict()\n",
    "doc[\"doc_id\"] = id_counter \n",
    "doc[\"company\"] = \"JD.com\" \n",
    "doc[\"ticker_top\"] = [\"JD\"] \n",
    "doc[\"ticker_rel\"] = [\"BABA\", \"VIPS\"] \n",
    "doc[\"url\"] = \"https://www.fool.com/investing/2021/09/07/why-jdcom-is-my-top-chinese-e-commerce-stock/\" \n",
    "doc[\"title\"] = \"Why JD.com Is My Top Chinese E-Commerce Stock\" \n",
    "doc[\"ticker_mentioned\"] = [True] \n",
    "\n",
    "docs.append(doc) \n",
    "id_counter += 1 \n",
    "\n",
    "print(doc)"
   ]
  },
  {
   "cell_type": "code",
   "execution_count": 46,
   "id": "5562e4a3",
   "metadata": {},
   "outputs": [
    {
     "name": "stdout",
     "output_type": "stream",
     "text": [
      "41\n",
      "{'url': 'https://www.fool.com/investing/2021/09/23/why-vipshop-stock-crashed-further-today/', 'ticker_mentioned': [True], 'ticker_top': ['VIPS'], 'ticker_rel': ['JD', 'BABA'], 'doc_id': 41, 'company': 'Vipshop Holdings Limited', 'title': 'Why Vipshop Stock Crashed (Further) Today'}\n"
     ]
    }
   ],
   "source": [
    "print(id_counter)\n",
    "doc = make_dict()\n",
    "doc[\"doc_id\"] = id_counter \n",
    "doc[\"company\"] = \"Vipshop Holdings Limited\" \n",
    "doc[\"ticker_top\"] = [\"VIPS\"] \n",
    "doc[\"ticker_rel\"] = [\"JD\", \"BABA\"] \n",
    "doc[\"url\"] = \"https://www.fool.com/investing/2021/09/23/why-vipshop-stock-crashed-further-today/\" \n",
    "doc[\"title\"] = \"Why Vipshop Stock Crashed (Further) Today\" \n",
    "doc[\"ticker_mentioned\"] = [True] \n",
    "\n",
    "docs.append(doc) \n",
    "id_counter += 1 \n",
    "\n",
    "print(doc)"
   ]
  },
  {
   "cell_type": "code",
   "execution_count": 47,
   "id": "abc30bea",
   "metadata": {},
   "outputs": [
    {
     "name": "stdout",
     "output_type": "stream",
     "text": [
      "42\n",
      "{'url': 'https://www.sdxcentral.com/articles/news/cisco-exec-riffs-on-global-5g-core-delays/2021/09/', 'ticker_mentioned': [False], 'ticker_top': ['CSCO'], 'ticker_rel': ['T'], 'doc_id': 42, 'company': 'Cisco', 'title': 'Cisco Exec Riffs On Global 5G Core Delays'}\n"
     ]
    }
   ],
   "source": [
    "print(id_counter)\n",
    "doc = make_dict()\n",
    "doc[\"doc_id\"] = id_counter \n",
    "doc[\"company\"] = \"Cisco\" \n",
    "doc[\"ticker_top\"] = [\"CSCO\"] \n",
    "doc[\"ticker_rel\"] = [\"T\"] \n",
    "doc[\"url\"] = \"https://www.sdxcentral.com/articles/news/cisco-exec-riffs-on-global-5g-core-delays/2021/09/\" \n",
    "doc[\"title\"] = \"Cisco Exec Riffs On Global 5G Core Delays\" \n",
    "doc[\"ticker_mentioned\"] = [False] \n",
    "\n",
    "docs.append(doc) \n",
    "id_counter += 1 \n",
    "\n",
    "print(doc)"
   ]
  },
  {
   "cell_type": "code",
   "execution_count": 48,
   "id": "624c4397",
   "metadata": {},
   "outputs": [
    {
     "name": "stdout",
     "output_type": "stream",
     "text": [
      "43\n",
      "{'url': 'https://www.prnewswire.com/news-releases/iqiyi-romantic-drama-one-and-only-tops-popularity-rankings-and-generates-buzz-on-social-media-301372097.html', 'ticker_mentioned': [True], 'ticker_top': ['IQ'], 'ticker_rel': ['TME'], 'doc_id': 43, 'company': 'iQIYI', 'title': \"iQIYI romantic drama 'One and Only' tops popularity rankings and generates buzz on social media\"}\n"
     ]
    }
   ],
   "source": [
    "print(id_counter)\n",
    "doc = make_dict()\n",
    "doc[\"doc_id\"] = id_counter \n",
    "doc[\"company\"] = \"iQIYI\" \n",
    "doc[\"ticker_top\"] = [\"IQ\"] \n",
    "doc[\"ticker_rel\"] = [\"TME\"] \n",
    "doc[\"url\"] = \"https://www.prnewswire.com/news-releases/iqiyi-romantic-drama-one-and-only-tops-popularity-rankings-and-generates-buzz-on-social-media-301372097.html\" \n",
    "doc[\"title\"] = \"iQIYI romantic drama 'One and Only' tops popularity rankings and generates buzz on social media\" \n",
    "doc[\"ticker_mentioned\"] = [True] \n",
    "\n",
    "docs.append(doc) \n",
    "id_counter += 1 \n",
    "\n",
    "print(doc)"
   ]
  },
  {
   "cell_type": "code",
   "execution_count": 49,
   "id": "e066a23c",
   "metadata": {},
   "outputs": [
    {
     "name": "stdout",
     "output_type": "stream",
     "text": [
      "44\n",
      "{'url': 'https://www.marketbeat.com/instant-alerts/nyse-tme-consensus-analyst-rating-2021-09-2-3/', 'ticker_mentioned': [True], 'ticker_top': ['TME'], 'ticker_rel': ['AAPL'], 'doc_id': 44, 'company': 'Tencent Music Entertainment Group', 'title': 'Tencent Music Entertainment Group (NYSE:TME) Expected to Announce Quarterly Sales of $1.21 Billion'}\n"
     ]
    }
   ],
   "source": [
    "print(id_counter)\n",
    "doc = make_dict()\n",
    "doc[\"doc_id\"] = id_counter \n",
    "doc[\"company\"] = \"Tencent Music Entertainment Group\" \n",
    "doc[\"ticker_top\"] = [\"TME\"] \n",
    "doc[\"ticker_rel\"] = [\"AAPL\"] \n",
    "doc[\"url\"] = \"https://www.marketbeat.com/instant-alerts/nyse-tme-consensus-analyst-rating-2021-09-2-3/\" \n",
    "doc[\"title\"] = \"Tencent Music Entertainment Group (NYSE:TME) Expected to Announce Quarterly Sales of $1.21 Billion\" \n",
    "doc[\"ticker_mentioned\"] = [True] \n",
    "\n",
    "docs.append(doc) \n",
    "id_counter += 1 \n",
    "\n",
    "print(doc)"
   ]
  },
  {
   "cell_type": "code",
   "execution_count": 50,
   "id": "27c1053f",
   "metadata": {},
   "outputs": [
    {
     "name": "stdout",
     "output_type": "stream",
     "text": [
      "45\n",
      "{'url': 'https://www.marketwatch.com/story/uber-to-benefit-from-a-government-takeover-of-didi-given-its-more-than-5-billion-stake-analyst-says-2021-09-03', 'ticker_mentioned': [False, False], 'ticker_top': ['DIDI', 'UBER'], 'ticker_rel': [], 'doc_id': 45, 'company': 'Uber', 'title': 'Uber to benefit from a government takeover of Didi given its more than $5 billion stake, analyst says'}\n"
     ]
    }
   ],
   "source": [
    "print(id_counter)\n",
    "doc = make_dict()\n",
    "doc[\"doc_id\"] = id_counter \n",
    "doc[\"company\"] = \"Uber\" \n",
    "doc[\"ticker_top\"] = [\"DIDI\", \"UBER\"] \n",
    "doc[\"ticker_rel\"] = [] \n",
    "doc[\"url\"] = \"https://www.marketwatch.com/story/uber-to-benefit-from-a-government-takeover-of-didi-given-its-more-than-5-billion-stake-analyst-says-2021-09-03\" \n",
    "doc[\"title\"] = \"Uber to benefit from a government takeover of Didi given its more than $5 billion stake, analyst says\" \n",
    "doc[\"ticker_mentioned\"] = [False, False] \n",
    "\n",
    "docs.append(doc) \n",
    "id_counter += 1 \n",
    "\n",
    "print(doc)"
   ]
  },
  {
   "cell_type": "code",
   "execution_count": 51,
   "id": "76e1ec4f",
   "metadata": {},
   "outputs": [
    {
     "name": "stdout",
     "output_type": "stream",
     "text": [
      "46\n",
      "{'url': 'https://www.japantimes.co.jp/opinion/2021/09/05/commentary/world-commentary/didi-china-us/', 'ticker_mentioned': [False], 'ticker_top': ['DIDI'], 'ticker_rel': ['UBER'], 'doc_id': 46, 'company': 'DiDi Global Inc.', 'title': \"Does Didi's crash point to the future of U.S.-China financial frictions?\"}\n"
     ]
    }
   ],
   "source": [
    "print(id_counter)\n",
    "doc = make_dict()\n",
    "doc[\"doc_id\"] = id_counter \n",
    "doc[\"company\"] = \"DiDi Global Inc.\" \n",
    "doc[\"ticker_top\"] = [\"DIDI\"] \n",
    "doc[\"ticker_rel\"] = [\"UBER\"] \n",
    "doc[\"url\"] = \"https://www.japantimes.co.jp/opinion/2021/09/05/commentary/world-commentary/didi-china-us/\" \n",
    "doc[\"title\"] = \"Does Didi's crash point to the future of U.S.-China financial frictions?\" \n",
    "doc[\"ticker_mentioned\"] = [False] \n",
    "\n",
    "docs.append(doc) \n",
    "id_counter += 1 \n",
    "\n",
    "print(doc)"
   ]
  },
  {
   "cell_type": "code",
   "execution_count": 52,
   "id": "1037e1d3",
   "metadata": {},
   "outputs": [
    {
     "name": "stdout",
     "output_type": "stream",
     "text": [
      "47\n",
      "{'url': 'https://www.investopedia.com/microsoft-msft-set-to-release-windows-11-5199515', 'ticker_mentioned': [True], 'ticker_top': ['MSFT'], 'ticker_rel': ['AAPL', 'NVDA', 'AMD', 'INTC', 'MU', 'TSM'], 'doc_id': 47, 'company': 'Microsoft', 'title': 'Microsoft (MSFT) Set to Release Windows 11'}\n"
     ]
    }
   ],
   "source": [
    "print(id_counter)\n",
    "doc = make_dict()\n",
    "doc[\"doc_id\"] = id_counter \n",
    "doc[\"company\"] = \"Microsoft\" \n",
    "doc[\"ticker_top\"] = [\"MSFT\"] \n",
    "doc[\"ticker_rel\"] = [\"AAPL\", \"NVDA\", \"AMD\", \"INTC\", \"MU\", \"TSM\"] \n",
    "doc[\"url\"] = \"https://www.investopedia.com/microsoft-msft-set-to-release-windows-11-5199515\" \n",
    "doc[\"title\"] = \"Microsoft (MSFT) Set to Release Windows 11\" \n",
    "doc[\"ticker_mentioned\"] = [True] \n",
    "\n",
    "docs.append(doc) \n",
    "id_counter += 1 \n",
    "\n",
    "print(doc)"
   ]
  },
  {
   "cell_type": "code",
   "execution_count": 53,
   "id": "4b49394b",
   "metadata": {},
   "outputs": [
    {
     "name": "stdout",
     "output_type": "stream",
     "text": [
      "48\n",
      "{'url': 'https://www.fool.com/investing/2021/09/15/is-palantir-stock-a-buy/', 'ticker_mentioned': [True], 'ticker_top': ['PLTR'], 'ticker_rel': ['AAPL', 'TSLA'], 'doc_id': 48, 'company': 'Palantir', 'title': 'Is Palantir Stock a Buy?'}\n"
     ]
    }
   ],
   "source": [
    "print(id_counter)\n",
    "doc = make_dict()\n",
    "doc[\"doc_id\"] = id_counter \n",
    "doc[\"company\"] = \"Palantir\" \n",
    "doc[\"ticker_top\"] = [\"PLTR\"] \n",
    "doc[\"ticker_rel\"] = [\"AAPL\", \"TSLA\"] \n",
    "doc[\"url\"] = \"https://www.fool.com/investing/2021/09/15/is-palantir-stock-a-buy/\" \n",
    "doc[\"title\"] = \"Is Palantir Stock a Buy?\" \n",
    "doc[\"ticker_mentioned\"] = [True] \n",
    "\n",
    "docs.append(doc) \n",
    "id_counter += 1 \n",
    "\n",
    "print(doc)"
   ]
  },
  {
   "cell_type": "code",
   "execution_count": 54,
   "id": "5bb60df6",
   "metadata": {},
   "outputs": [
    {
     "name": "stdout",
     "output_type": "stream",
     "text": [
      "49\n",
      "{'url': 'https://washingtontechnology.com/blogs/editors-notebook/2021/09/palantir-blacksky-investment-partnership.aspx', 'ticker_mentioned': [False], 'ticker_top': ['PLTR'], 'ticker_rel': [], 'doc_id': 49, 'company': 'Palantir', 'title': 'Palantir backs satellite intelligence company'}\n"
     ]
    }
   ],
   "source": [
    "print(id_counter)\n",
    "doc = make_dict()\n",
    "doc[\"doc_id\"] = id_counter \n",
    "doc[\"company\"] = \"Palantir\" \n",
    "doc[\"ticker_top\"] = [\"PLTR\"] \n",
    "doc[\"ticker_rel\"] = [] \n",
    "doc[\"url\"] = \"https://washingtontechnology.com/blogs/editors-notebook/2021/09/palantir-blacksky-investment-partnership.aspx\" \n",
    "doc[\"title\"] = \"Palantir backs satellite intelligence company\" \n",
    "doc[\"ticker_mentioned\"] = [False] \n",
    "\n",
    "docs.append(doc) \n",
    "id_counter += 1 \n",
    "\n",
    "print(doc)"
   ]
  },
  {
   "cell_type": "code",
   "execution_count": 55,
   "id": "da816208",
   "metadata": {},
   "outputs": [
    {
     "name": "stdout",
     "output_type": "stream",
     "text": [
      "50\n",
      "{'url': 'https://uk.finance.yahoo.com/news/uber-drivers-stage-24-hour-110718418.html', 'ticker_mentioned': [False], 'ticker_top': ['UBER'], 'ticker_rel': ['DIDI'], 'doc_id': 50, 'company': 'Uber', 'title': 'Uber drivers to stage 24-hour strike'}\n"
     ]
    }
   ],
   "source": [
    "print(id_counter)\n",
    "doc = make_dict()\n",
    "doc[\"doc_id\"] = id_counter \n",
    "doc[\"company\"] = \"Uber\" \n",
    "doc[\"ticker_top\"] = [\"UBER\"] \n",
    "doc[\"ticker_rel\"] = [\"DIDI\"] \n",
    "doc[\"url\"] = \"https://uk.finance.yahoo.com/news/uber-drivers-stage-24-hour-110718418.html\" \n",
    "doc[\"title\"] = \"Uber drivers to stage 24-hour strike\" \n",
    "doc[\"ticker_mentioned\"] = [False] \n",
    "\n",
    "docs.append(doc) \n",
    "id_counter += 1 \n",
    "\n",
    "print(doc)"
   ]
  },
  {
   "cell_type": "code",
   "execution_count": 56,
   "id": "45b7ae1c",
   "metadata": {},
   "outputs": [
    {
     "name": "stdout",
     "output_type": "stream",
     "text": [
      "51\n",
      "{'url': 'https://stocknews.com/news/aal-ual-american-airlines-vs-united-which-airline-stock-is-a-better/', 'ticker_mentioned': [True], 'ticker_top': ['AAL'], 'ticker_rel': [], 'doc_id': 51, 'company': 'American Airlines', 'title': 'American Airlines vs. United: Which Airline Stock Is a Better Investment?'}\n"
     ]
    }
   ],
   "source": [
    "print(id_counter)\n",
    "doc = make_dict()\n",
    "doc[\"doc_id\"] = id_counter \n",
    "doc[\"company\"] = \"American Airlines\" \n",
    "doc[\"ticker_top\"] = [\"AAL\"] \n",
    "doc[\"ticker_rel\"] = [] \n",
    "doc[\"url\"] = \"https://stocknews.com/news/aal-ual-american-airlines-vs-united-which-airline-stock-is-a-better/\" \n",
    "doc[\"title\"] = \"American Airlines vs. United: Which Airline Stock Is a Better Investment?\" \n",
    "doc[\"ticker_mentioned\"] = [True] \n",
    "\n",
    "docs.append(doc) \n",
    "id_counter += 1 \n",
    "\n",
    "print(doc)"
   ]
  },
  {
   "cell_type": "code",
   "execution_count": 57,
   "id": "b2bb5c8c",
   "metadata": {},
   "outputs": [],
   "source": [
    "# Good to have more of:\n",
    "# Exxon Mobil\n",
    "# JD.com\n",
    "# DiDi Global Inc.\n",
    "# Palantir\n",
    "# Uber\n",
    "# American Airlines"
   ]
  },
  {
   "cell_type": "code",
   "execution_count": 58,
   "id": "8ce38b9e",
   "metadata": {},
   "outputs": [],
   "source": [
    "# print(id_counter)\n",
    "# doc = make_dict()\n",
    "# doc[\"doc_id\"] = id_counter \n",
    "# doc[\"company\"] = \"\" \n",
    "# doc[\"ticker_top\"] = [\"\"] \n",
    "# doc[\"ticker_rel\"] = [\"\"] \n",
    "# doc[\"url\"] = \"\" \n",
    "# doc[\"title\"] = \"\" \n",
    "# doc[\"ticker_mentioned\"] = [] \n",
    "\n",
    "# docs.append(doc) \n",
    "# id_counter += 1 \n",
    "\n",
    "# print(doc)"
   ]
  },
  {
   "cell_type": "code",
   "execution_count": 65,
   "id": "094bea68",
   "metadata": {},
   "outputs": [],
   "source": [
    "articles_path = Path(\"../../data/test/word2vec/articles/\")\n",
    "\n",
    "for i, doc in enumerate(docs):\n",
    "    with open(articles_path.joinpath(f\"{i}.txt\"), \"r\") as fp:\n",
    "        headline = fp.readline().strip()\n",
    "    assert(doc[\"title\"] == headline)\n",
    "\n",
    "\n",
    "with open(\"../../data/test/word2vec/labels/labels.jsonl\", \"w\") as fp:\n",
    "    for doc in docs:\n",
    "        fp.write(json.dumps(doc))\n",
    "        fp.write(\"\\n\")"
   ]
  }
 ],
 "metadata": {
  "kernelspec": {
   "display_name": "Python 3.9.6 64-bit ('tldr': conda)",
   "language": "python",
   "name": "python396jvsc74a57bd0e4c6f9ab0afc44c5c63e1b233fc90c970e43406a17ee57d06d7c91febfb3a0f7"
  },
  "language_info": {
   "codemirror_mode": {
    "name": "ipython",
    "version": 3
   },
   "file_extension": ".py",
   "mimetype": "text/x-python",
   "name": "python",
   "nbconvert_exporter": "python",
   "pygments_lexer": "ipython3",
   "version": "3.9.6"
  }
 },
 "nbformat": 4,
 "nbformat_minor": 5
}
