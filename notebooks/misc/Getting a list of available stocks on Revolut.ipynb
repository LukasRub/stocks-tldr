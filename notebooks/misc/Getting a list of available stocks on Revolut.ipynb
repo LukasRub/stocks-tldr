{
 "cells": [
  {
   "cell_type": "code",
   "execution_count": 3,
   "id": "c82fe5b2",
   "metadata": {},
   "outputs": [],
   "source": [
    "import pandas as pd\n",
    "import urllib3\n",
    "import pickle\n",
    "from pathlib import Path\n",
    "from bs4 import BeautifulSoup\n",
    "\n",
    "from IPython.display import display"
   ]
  },
  {
   "cell_type": "code",
   "execution_count": 4,
   "id": "561d0e48",
   "metadata": {},
   "outputs": [
    {
     "name": "stdout",
     "output_type": "stream",
     "text": [
      "3.9.6\n"
     ]
    }
   ],
   "source": [
    "from platform import python_version\n",
    "print(python_version())"
   ]
  },
  {
   "cell_type": "markdown",
   "id": "b155d24f",
   "metadata": {},
   "source": [
    "#### Scraping the latest article of available stocks on Revolut"
   ]
  },
  {
   "cell_type": "code",
   "execution_count": 5,
   "id": "9e7bd7d5",
   "metadata": {},
   "outputs": [],
   "source": [
    "http = urllib3.PoolManager()\n",
    "url = 'https://globefunder.com/revolut-stocks-list/'\n",
    "\n",
    "response = http.request('GET', url)"
   ]
  },
  {
   "cell_type": "code",
   "execution_count": 6,
   "id": "8a49f896",
   "metadata": {},
   "outputs": [],
   "source": [
    "soup = BeautifulSoup(response.data, 'html.parser')"
   ]
  },
  {
   "cell_type": "code",
   "execution_count": 7,
   "id": "ce229ed6",
   "metadata": {
    "scrolled": false
   },
   "outputs": [],
   "source": [
    "time_updated = soup.find('time', {'class': 'updated'})\n",
    "table = soup.find('figure', {'class': 'wp-block-table'}).table"
   ]
  },
  {
   "cell_type": "code",
   "execution_count": 8,
   "id": "41361789",
   "metadata": {
    "scrolled": false
   },
   "outputs": [],
   "source": [
    "attrs = ('no', 'name', 'ticker', 'price', 'sector', 'industry')\n",
    "available_stocks = []\n",
    "\n",
    "for row in table.tbody.children:\n",
    "    stock = {k:v for k, v in zip(attrs, row.strings)}\n",
    "    available_stocks.append(stock)"
   ]
  },
  {
   "cell_type": "markdown",
   "id": "ad64a826",
   "metadata": {},
   "source": [
    "#### Converting to DataFrame and removing unused columns"
   ]
  },
  {
   "cell_type": "code",
   "execution_count": 9,
   "id": "6848a483",
   "metadata": {
    "scrolled": false
   },
   "outputs": [
    {
     "data": {
      "text/html": [
       "<div>\n",
       "<style scoped>\n",
       "    .dataframe tbody tr th:only-of-type {\n",
       "        vertical-align: middle;\n",
       "    }\n",
       "\n",
       "    .dataframe tbody tr th {\n",
       "        vertical-align: top;\n",
       "    }\n",
       "\n",
       "    .dataframe thead th {\n",
       "        text-align: right;\n",
       "    }\n",
       "</style>\n",
       "<table border=\"1\" class=\"dataframe\">\n",
       "  <thead>\n",
       "    <tr style=\"text-align: right;\">\n",
       "      <th></th>\n",
       "      <th>name</th>\n",
       "      <th>ticker</th>\n",
       "      <th>sector</th>\n",
       "      <th>industry</th>\n",
       "    </tr>\n",
       "  </thead>\n",
       "  <tbody>\n",
       "    <tr>\n",
       "      <th>0</th>\n",
       "      <td>21st Century Fox</td>\n",
       "      <td>FOXA</td>\n",
       "      <td>Consumer Services</td>\n",
       "      <td>Broadcasting</td>\n",
       "    </tr>\n",
       "    <tr>\n",
       "      <th>1</th>\n",
       "      <td>23andMe Holding Co</td>\n",
       "      <td>ME</td>\n",
       "      <td>Finance</td>\n",
       "      <td>Financial Conglomerates</td>\n",
       "    </tr>\n",
       "    <tr>\n",
       "      <th>2</th>\n",
       "      <td>2U</td>\n",
       "      <td>TWOU</td>\n",
       "      <td>Technology Services</td>\n",
       "      <td>Packaged Software</td>\n",
       "    </tr>\n",
       "    <tr>\n",
       "      <th>3</th>\n",
       "      <td>3M</td>\n",
       "      <td>MMM</td>\n",
       "      <td>Producer Manufacturing</td>\n",
       "      <td>Industrial Conglomerates</td>\n",
       "    </tr>\n",
       "    <tr>\n",
       "      <th>4</th>\n",
       "      <td>Abbott Labs</td>\n",
       "      <td>ABT</td>\n",
       "      <td>Health Technology</td>\n",
       "      <td>Medical Specialties</td>\n",
       "    </tr>\n",
       "    <tr>\n",
       "      <th>...</th>\n",
       "      <td>...</td>\n",
       "      <td>...</td>\n",
       "      <td>...</td>\n",
       "      <td>...</td>\n",
       "    </tr>\n",
       "    <tr>\n",
       "      <th>910</th>\n",
       "      <td>Zoetis</td>\n",
       "      <td>ZTS</td>\n",
       "      <td>Health Technology</td>\n",
       "      <td>Pharmaceuticals: Generic</td>\n",
       "    </tr>\n",
       "    <tr>\n",
       "      <th>911</th>\n",
       "      <td>Zoom</td>\n",
       "      <td>ZM</td>\n",
       "      <td>Technology Services</td>\n",
       "      <td>Packaged Software</td>\n",
       "    </tr>\n",
       "    <tr>\n",
       "      <th>912</th>\n",
       "      <td>Zscaler</td>\n",
       "      <td>ZS</td>\n",
       "      <td>Technology Services</td>\n",
       "      <td>Packaged Software</td>\n",
       "    </tr>\n",
       "    <tr>\n",
       "      <th>913</th>\n",
       "      <td>ZTO Express</td>\n",
       "      <td>ZTO</td>\n",
       "      <td>Transportation</td>\n",
       "      <td>Air Freight/Couriers</td>\n",
       "    </tr>\n",
       "    <tr>\n",
       "      <th>914</th>\n",
       "      <td>Zynga</td>\n",
       "      <td>ZNGA</td>\n",
       "      <td>Technology Services</td>\n",
       "      <td>Internet Software/Services</td>\n",
       "    </tr>\n",
       "  </tbody>\n",
       "</table>\n",
       "<p>915 rows × 4 columns</p>\n",
       "</div>"
      ],
      "text/plain": [
       "                   name ticker                  sector  \\\n",
       "0      21st Century Fox   FOXA       Consumer Services   \n",
       "1    23andMe Holding Co     ME                 Finance   \n",
       "2                    2U   TWOU     Technology Services   \n",
       "3                    3M    MMM  Producer Manufacturing   \n",
       "4           Abbott Labs    ABT       Health Technology   \n",
       "..                  ...    ...                     ...   \n",
       "910              Zoetis    ZTS       Health Technology   \n",
       "911                Zoom     ZM     Technology Services   \n",
       "912             Zscaler     ZS     Technology Services   \n",
       "913         ZTO Express    ZTO          Transportation   \n",
       "914               Zynga   ZNGA     Technology Services   \n",
       "\n",
       "                       industry  \n",
       "0                  Broadcasting  \n",
       "1       Financial Conglomerates  \n",
       "2             Packaged Software  \n",
       "3      Industrial Conglomerates  \n",
       "4           Medical Specialties  \n",
       "..                          ...  \n",
       "910    Pharmaceuticals: Generic  \n",
       "911           Packaged Software  \n",
       "912           Packaged Software  \n",
       "913        Air Freight/Couriers  \n",
       "914  Internet Software/Services  \n",
       "\n",
       "[915 rows x 4 columns]"
      ]
     },
     "metadata": {},
     "output_type": "display_data"
    }
   ],
   "source": [
    "stocks_df = pd.DataFrame(available_stocks)\n",
    "stocks_df = stocks_df.drop(columns=['no', 'price'])\n",
    "\n",
    "display(stocks_df)"
   ]
  },
  {
   "cell_type": "code",
   "execution_count": 10,
   "id": "7edfdd14",
   "metadata": {},
   "outputs": [
    {
     "data": {
      "text/plain": [
       "name        object\n",
       "ticker      object\n",
       "sector      object\n",
       "industry    object\n",
       "dtype: object"
      ]
     },
     "execution_count": 10,
     "metadata": {},
     "output_type": "execute_result"
    }
   ],
   "source": [
    "stocks_df.dtypes"
   ]
  },
  {
   "cell_type": "markdown",
   "id": "c87a9e67",
   "metadata": {},
   "source": [
    "#### Saving to a file"
   ]
  },
  {
   "cell_type": "code",
   "execution_count": 14,
   "id": "d46a3096",
   "metadata": {},
   "outputs": [],
   "source": [
    "out_dir = '../../data/available_stocks'\n",
    "out_file = f'revolut.{time_updated[\"datetime\"]}.jsonl'\n",
    "\n",
    "path = Path(out_dir)\n",
    "path.mkdir(exist_ok=True)\n",
    "path = path.joinpath(out_file)"
   ]
  },
  {
   "cell_type": "code",
   "execution_count": 15,
   "id": "de69bf66",
   "metadata": {},
   "outputs": [],
   "source": [
    "stocks_df.to_json(path, orient='records', lines=True)"
   ]
  }
 ],
 "metadata": {
  "kernelspec": {
   "display_name": "Python 3 (ipykernel)",
   "language": "python",
   "name": "python3"
  },
  "language_info": {
   "codemirror_mode": {
    "name": "ipython",
    "version": 3
   },
   "file_extension": ".py",
   "mimetype": "text/x-python",
   "name": "python",
   "nbconvert_exporter": "python",
   "pygments_lexer": "ipython3",
   "version": "3.9.6"
  }
 },
 "nbformat": 4,
 "nbformat_minor": 5
}
