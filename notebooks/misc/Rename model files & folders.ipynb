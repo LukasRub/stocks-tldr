{
 "cells": [
  {
   "cell_type": "code",
   "execution_count": 1,
   "id": "706ef627",
   "metadata": {},
   "outputs": [
    {
     "name": "stderr",
     "output_type": "stream",
     "text": [
      "/home/lukas/anaconda3/envs/tldr/lib/python3.9/site-packages/gensim/similarities/__init__.py:15: UserWarning: The gensim.similarities.levenshtein submodule is disabled, because the optional Levenshtein package <https://pypi.org/project/python-Levenshtein/> is unavailable. Install Levenhstein (e.g. `pip install python-Levenshtein`) to suppress this warning.\n",
      "  warnings.warn(msg)\n"
     ]
    }
   ],
   "source": [
    "from operator import concat\n",
    "from functools import reduce\n",
    "from pathlib import Path\n",
    "\n",
    "from gensim.models.doc2vec import Doc2Vec\n",
    "\n",
    "from IPython.display import display"
   ]
  },
  {
   "cell_type": "code",
   "execution_count": 2,
   "id": "7b6707b1",
   "metadata": {},
   "outputs": [
    {
     "data": {
      "text/plain": [
       "'Doc2Vec(dm-c,d200,n10,w7,mc5,s1e-05,t4)'"
      ]
     },
     "metadata": {},
     "output_type": "display_data"
    },
    {
     "data": {
      "text/plain": [
       "'Doc2Vec(dm-c,d300,n10,w11,mc5,s1e-05,t4)'"
      ]
     },
     "metadata": {},
     "output_type": "display_data"
    },
    {
     "data": {
      "text/plain": [
       "'Doc2Vec(dm-c,d200,n10,w4,mc5,s1e-05,t4)'"
      ]
     },
     "metadata": {},
     "output_type": "display_data"
    },
    {
     "data": {
      "text/plain": [
       "'Doc2Vec(dm-c,d400,n10,w7,mc5,s1e-05,t4)'"
      ]
     },
     "metadata": {},
     "output_type": "display_data"
    },
    {
     "data": {
      "text/plain": [
       "'Doc2Vec(dm-c,d400,n10,w11,mc5,s1e-05,t4)'"
      ]
     },
     "metadata": {},
     "output_type": "display_data"
    },
    {
     "data": {
      "text/plain": [
       "'Doc2Vec(dm-c,d300,n10,w7,mc5,s1e-05,t4)'"
      ]
     },
     "metadata": {},
     "output_type": "display_data"
    },
    {
     "data": {
      "text/plain": [
       "'Doc2Vec(dm-c,d200,n10,w3,mc5,s1e-05,t4)'"
      ]
     },
     "metadata": {},
     "output_type": "display_data"
    }
   ],
   "source": [
    "paths = [path for path in Path(\"../../models/\").glob(\"*/*\") \n",
    "         if not \"ep\" in path.name and path.suffix == \"\"]\n",
    "\n",
    "for path in paths:\n",
    "    display(path.name)"
   ]
  },
  {
   "cell_type": "code",
   "execution_count": 3,
   "id": "d268c8ba",
   "metadata": {},
   "outputs": [],
   "source": [
    "def incl_param_str_in_path(path, param_str):\n",
    "    if path.is_file():\n",
    "        stem, *suffixes = str(path.name).split(\".\")\n",
    "        suffixes = reduce(concat, map(lambda x: \".\" + x, suffixes)) if suffixes else \"\"\n",
    "    elif path.is_dir():\n",
    "        stem = str(path.name).split(\"_\")[0]\n",
    "        suffixes = \"\"\n",
    "    \n",
    "    if not param_str in stem:\n",
    "        stem = f\"{stem[:-1]},{param_str})\"\n",
    "       \n",
    "    name = stem + suffixes\n",
    "    return name\n",
    "\n",
    "\n",
    "def rename_file_or_dir(path, param_str):\n",
    "    name = incl_param_str_in_path(path, param_str)\n",
    "    target = path.parent.joinpath(name)\n",
    "    return path.rename(target)"
   ]
  },
  {
   "cell_type": "code",
   "execution_count": 4,
   "id": "57ee35f0",
   "metadata": {},
   "outputs": [
    {
     "name": "stdout",
     "output_type": "stream",
     "text": [
      "Modifying names of Doc2Vec(dm-c,d200,n10,w7,mc5,s1e-05,t4) model files/directories...\n",
      "../../models/Doc2Vec(dm-c,d200,n10,w7,mc5,s1e-05,t4)_2021-09-02T14:10:01/Doc2Vec(dm-c,d200,n10,w7,mc5,s1e-05,t4,ep10).wv.vectors.npy\n",
      "../../models/Doc2Vec(dm-c,d200,n10,w7,mc5,s1e-05,t4)_2021-09-02T14:10:01/Doc2Vec(dm-c,d200,n10,w7,mc5,s1e-05,t4,ep10)\n",
      "../../models/Doc2Vec(dm-c,d200,n10,w7,mc5,s1e-05,t4)_2021-09-02T14:10:01/Doc2Vec(dm-c,d200,n10,w7,mc5,s1e-05,t4,ep10).log\n",
      "../../models/Doc2Vec(dm-c,d200,n10,w7,mc5,s1e-05,t4)_2021-09-02T14:10:01/Doc2Vec(dm-c,d200,n10,w7,mc5,s1e-05,t4,ep10).syn1neg.npy\n",
      "../../models/Doc2Vec(dm-c,d200,n10,w7,mc5,s1e-05,t4)_2021-09-02T14:10:01/Doc2Vec(dm-c,d200,n10,w7,mc5,s1e-05,t4,ep10).dv.vectors.npy\n",
      "../../models/Doc2Vec(dm-c,d200,n10,w7,mc5,s1e-05,t4,ep10)\n",
      "Modifying names of Doc2Vec(dm-c,d300,n10,w11,mc5,s1e-05,t4) model files/directories...\n",
      "../../models/Doc2Vec(dm-c,d300,n10,w11,mc5,s1e-05,t4)_2021-09-03T03:13:34/Doc2Vec(dm-c,d300,n10,w11,mc5,s1e-05,t4,ep10).wv.vectors.npy\n",
      "../../models/Doc2Vec(dm-c,d300,n10,w11,mc5,s1e-05,t4)_2021-09-03T03:13:34/Doc2Vec(dm-c,d300,n10,w11,mc5,s1e-05,t4,ep10).dv.vectors.npy\n",
      "../../models/Doc2Vec(dm-c,d300,n10,w11,mc5,s1e-05,t4)_2021-09-03T03:13:34/Doc2Vec(dm-c,d300,n10,w11,mc5,s1e-05,t4,ep10).log\n",
      "../../models/Doc2Vec(dm-c,d300,n10,w11,mc5,s1e-05,t4)_2021-09-03T03:13:34/Doc2Vec(dm-c,d300,n10,w11,mc5,s1e-05,t4,ep10).syn1neg.npy\n",
      "../../models/Doc2Vec(dm-c,d300,n10,w11,mc5,s1e-05,t4)_2021-09-03T03:13:34/Doc2Vec(dm-c,d300,n10,w11,mc5,s1e-05,t4,ep10)\n",
      "../../models/Doc2Vec(dm-c,d300,n10,w11,mc5,s1e-05,t4,ep10)\n",
      "Modifying names of Doc2Vec(dm-c,d200,n10,w4,mc5,s1e-05,t4) model files/directories...\n",
      "../../models/Doc2Vec(dm-c,d200,n10,w4,mc5,s1e-05,t4)_2021-09-15T03:16:48/Doc2Vec(dm-c,d200,n10,w4,mc5,s1e-05,t4,ep20)\n",
      "../../models/Doc2Vec(dm-c,d200,n10,w4,mc5,s1e-05,t4)_2021-09-15T03:16:48/Doc2Vec(dm-c,d200,n10,w4,mc5,s1e-05,t4,ep20).wv.vectors.npy\n",
      "../../models/Doc2Vec(dm-c,d200,n10,w4,mc5,s1e-05,t4)_2021-09-15T03:16:48/Doc2Vec(dm-c,d200,n10,w4,mc5,s1e-05,t4,ep20).syn1neg.npy\n",
      "../../models/Doc2Vec(dm-c,d200,n10,w4,mc5,s1e-05,t4)_2021-09-15T03:16:48/Doc2Vec(dm-c,d200,n10,w4,mc5,s1e-05,t4,ep20).dv.vectors.npy\n",
      "../../models/Doc2Vec(dm-c,d200,n10,w4,mc5,s1e-05,t4)_2021-09-15T03:16:48/Doc2Vec(dm-c,d200,n10,w4,mc5,s1e-05,t4,ep20).log\n",
      "../../models/Doc2Vec(dm-c,d200,n10,w4,mc5,s1e-05,t4,ep20)\n",
      "Modifying names of Doc2Vec(dm-c,d400,n10,w7,mc5,s1e-05,t4) model files/directories...\n",
      "../../models/Doc2Vec(dm-c,d400,n10,w7,mc5,s1e-05,t4)_2021-09-03T09:36:43/Doc2Vec(dm-c,d400,n10,w7,mc5,s1e-05,t4,ep10)\n",
      "../../models/Doc2Vec(dm-c,d400,n10,w7,mc5,s1e-05,t4)_2021-09-03T09:36:43/Doc2Vec(dm-c,d400,n10,w7,mc5,s1e-05,t4,ep10).wv.vectors.npy\n",
      "../../models/Doc2Vec(dm-c,d400,n10,w7,mc5,s1e-05,t4)_2021-09-03T09:36:43/Doc2Vec(dm-c,d400,n10,w7,mc5,s1e-05,t4,ep10).log\n",
      "../../models/Doc2Vec(dm-c,d400,n10,w7,mc5,s1e-05,t4)_2021-09-03T09:36:43/Doc2Vec(dm-c,d400,n10,w7,mc5,s1e-05,t4,ep10).dv.vectors.npy\n",
      "../../models/Doc2Vec(dm-c,d400,n10,w7,mc5,s1e-05,t4)_2021-09-03T09:36:43/Doc2Vec(dm-c,d400,n10,w7,mc5,s1e-05,t4,ep10).syn1neg.npy\n",
      "../../models/Doc2Vec(dm-c,d400,n10,w7,mc5,s1e-05,t4,ep10)\n",
      "Modifying names of Doc2Vec(dm-c,d400,n10,w11,mc5,s1e-05,t4) model files/directories...\n",
      "../../models/Doc2Vec(dm-c,d400,n10,w11,mc5,s1e-05,t4)_2021-09-03T14:42:06/Doc2Vec(dm-c,d400,n10,w11,mc5,s1e-05,t4,ep10)\n",
      "../../models/Doc2Vec(dm-c,d400,n10,w11,mc5,s1e-05,t4)_2021-09-03T14:42:06/Doc2Vec(dm-c,d400,n10,w11,mc5,s1e-05,t4,ep10).wv.vectors.npy\n",
      "../../models/Doc2Vec(dm-c,d400,n10,w11,mc5,s1e-05,t4)_2021-09-03T14:42:06/Doc2Vec(dm-c,d400,n10,w11,mc5,s1e-05,t4,ep10).dv.vectors.npy\n",
      "../../models/Doc2Vec(dm-c,d400,n10,w11,mc5,s1e-05,t4)_2021-09-03T14:42:06/Doc2Vec(dm-c,d400,n10,w11,mc5,s1e-05,t4,ep10).syn1neg.npy\n",
      "../../models/Doc2Vec(dm-c,d400,n10,w11,mc5,s1e-05,t4)_2021-09-03T14:42:06/Doc2Vec(dm-c,d400,n10,w11,mc5,s1e-05,t4,ep10).log\n",
      "../../models/Doc2Vec(dm-c,d400,n10,w11,mc5,s1e-05,t4,ep10)\n",
      "Modifying names of Doc2Vec(dm-c,d300,n10,w7,mc5,s1e-05,t4) model files/directories...\n",
      "../../models/Doc2Vec(dm-c,d300,n10,w7,mc5,s1e-05,t4)_2021-09-02T23:12:49/Doc2Vec(dm-c,d300,n10,w7,mc5,s1e-05,t4,ep10).syn1neg.npy\n",
      "../../models/Doc2Vec(dm-c,d300,n10,w7,mc5,s1e-05,t4)_2021-09-02T23:12:49/Doc2Vec(dm-c,d300,n10,w7,mc5,s1e-05,t4,ep10)\n",
      "../../models/Doc2Vec(dm-c,d300,n10,w7,mc5,s1e-05,t4)_2021-09-02T23:12:49/Doc2Vec(dm-c,d300,n10,w7,mc5,s1e-05,t4,ep10).log\n",
      "../../models/Doc2Vec(dm-c,d300,n10,w7,mc5,s1e-05,t4)_2021-09-02T23:12:49/Doc2Vec(dm-c,d300,n10,w7,mc5,s1e-05,t4,ep10).wv.vectors.npy\n",
      "../../models/Doc2Vec(dm-c,d300,n10,w7,mc5,s1e-05,t4)_2021-09-02T23:12:49/Doc2Vec(dm-c,d300,n10,w7,mc5,s1e-05,t4,ep10).dv.vectors.npy\n",
      "../../models/Doc2Vec(dm-c,d300,n10,w7,mc5,s1e-05,t4,ep10)\n",
      "Modifying names of Doc2Vec(dm-c,d200,n10,w3,mc5,s1e-05,t4) model files/directories...\n",
      "../../models/Doc2Vec(dm-c,d200,n10,w3,mc5,s1e-05,t4)_2021-09-02T12:49:42/Doc2Vec(dm-c,d200,n10,w3,mc5,s1e-05,t4,ep10)\n",
      "../../models/Doc2Vec(dm-c,d200,n10,w3,mc5,s1e-05,t4)_2021-09-02T12:49:42/Doc2Vec(dm-c,d200,n10,w3,mc5,s1e-05,t4,ep10).log\n",
      "../../models/Doc2Vec(dm-c,d200,n10,w3,mc5,s1e-05,t4)_2021-09-02T12:49:42/Doc2Vec(dm-c,d200,n10,w3,mc5,s1e-05,t4,ep10).dv.vectors.npy\n",
      "../../models/Doc2Vec(dm-c,d200,n10,w3,mc5,s1e-05,t4)_2021-09-02T12:49:42/Doc2Vec(dm-c,d200,n10,w3,mc5,s1e-05,t4,ep10).wv.vectors.npy\n",
      "../../models/Doc2Vec(dm-c,d200,n10,w3,mc5,s1e-05,t4)_2021-09-02T12:49:42/Doc2Vec(dm-c,d200,n10,w3,mc5,s1e-05,t4,ep10).syn1neg.npy\n",
      "../../models/Doc2Vec(dm-c,d200,n10,w3,mc5,s1e-05,t4,ep10)\n"
     ]
    }
   ],
   "source": [
    "for path in paths:\n",
    "    print(f\"Modifying names of {path.name} model files/directories...\")\n",
    "    model = Doc2Vec.load(str(path))\n",
    "    epochs = model.epochs\n",
    "    \n",
    "    param_str = f\"ep{epochs}\"\n",
    "    \n",
    "    # Renaming model files\n",
    "    model_files = path.parent.glob(\"*\")\n",
    "    for file in model_files:\n",
    "        new_path = rename_file_or_dir(file, param_str)\n",
    "        print(new_path)\n",
    "        \n",
    "    # Renaming model directory\n",
    "    new_path = rename_file_or_dir(path.parent, param_str)\n",
    "    print(new_path)"
   ]
  },
  {
   "cell_type": "code",
   "execution_count": null,
   "id": "86a32d78",
   "metadata": {},
   "outputs": [],
   "source": []
  }
 ],
 "metadata": {
  "kernelspec": {
   "display_name": "Python 3.9.6 64-bit ('tldr': conda)",
   "language": "python",
   "name": "python396jvsc74a57bd0e4c6f9ab0afc44c5c63e1b233fc90c970e43406a17ee57d06d7c91febfb3a0f7"
  },
  "language_info": {
   "codemirror_mode": {
    "name": "ipython",
    "version": 3
   },
   "file_extension": ".py",
   "mimetype": "text/x-python",
   "name": "python",
   "nbconvert_exporter": "python",
   "pygments_lexer": "ipython3",
   "version": "3.9.6"
  }
 },
 "nbformat": 4,
 "nbformat_minor": 5
}
