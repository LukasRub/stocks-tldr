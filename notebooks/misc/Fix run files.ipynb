{
 "cells": [
  {
   "cell_type": "code",
   "execution_count": 15,
   "id": "912e7fe3",
   "metadata": {},
   "outputs": [],
   "source": [
    "from pathlib import Path"
   ]
  },
  {
   "cell_type": "code",
   "execution_count": 20,
   "id": "5a7563a6",
   "metadata": {},
   "outputs": [],
   "source": [
    "model_runs_to_fix = [\"Doc2Vec(dm-c,d200,n10,w4,mc5,s1e-05,t4,ep20)\"]"
   ]
  },
  {
   "cell_type": "code",
   "execution_count": 21,
   "id": "d3b8bd28",
   "metadata": {},
   "outputs": [],
   "source": [
    "run_files = [] \n",
    "for model in model_runs_to_fix:\n",
    "    run_files += Path(f\"../../data/test/word2vec/models/{model}/runfiles\").glob(\"*.txt\")"
   ]
  },
  {
   "cell_type": "code",
   "execution_count": 22,
   "id": "0d56f030",
   "metadata": {},
   "outputs": [
    {
     "name": "stdout",
     "output_type": "stream",
     "text": [
      "run_Doc2Vec(dm-c,d200,n10,w4,mc5,s1e-05,t4,ep20).(r1.5e-01).summary\n",
      "run_Doc2Vec(dm-c,d200,n10,w4,mc5,s1e-05,t4,ep20).(r3.0e-01).full\n",
      "run_Doc2Vec(dm-c,d200,n10,w4,mc5,s1e-05,t4,ep20).(r7.5e-02).summary\n",
      "run_Doc2Vec(dm-c,d200,n10,w4,mc5,s1e-05,t4,ep20).(r2.0e-01).summary\n",
      "run_Doc2Vec(dm-c,d200,n10,w4,mc5,s1e-05,t4,ep20).(r1.0e-01).full\n",
      "run_Doc2Vec(dm-c,d200,n10,w4,mc5,s1e-05,t4,ep20).(r2.0e-01).full\n",
      "run_Doc2Vec(dm-c,d200,n10,w4,mc5,s1e-05,t4,ep20).(r7.5e-02).full\n",
      "run_Doc2Vec(dm-c,d200,n10,w4,mc5,s1e-05,t4,ep20).(r3.0e-01).summary\n",
      "run_Doc2Vec(dm-c,d200,n10,w4,mc5,s1e-05,t4,ep20).(r1.5e-01).full\n",
      "run_Doc2Vec(dm-c,d200,n10,w4,mc5,s1e-05,t4,ep20).(r1.0e-01).summary\n"
     ]
    }
   ],
   "source": [
    "for run_file in run_files:\n",
    "    run_id = run_file.stem\n",
    "    print(run_id)\n",
    "    \n",
    "    lines = []\n",
    "    with open(run_file, \"r\") as fp:\n",
    "        for line in fp:\n",
    "            lines.append(\" \".join([line[:-1], run_id]))\n",
    "    \n",
    "    with open(run_file, \"w\") as fp:\n",
    "        fp.write(\"\\n\".join(lines))"
   ]
  },
  {
   "cell_type": "code",
   "execution_count": null,
   "id": "e5a70b1e",
   "metadata": {},
   "outputs": [],
   "source": []
  }
 ],
 "metadata": {
  "kernelspec": {
   "display_name": "Python 3.9.6 64-bit ('tldr': conda)",
   "language": "python",
   "name": "python396jvsc74a57bd0e4c6f9ab0afc44c5c63e1b233fc90c970e43406a17ee57d06d7c91febfb3a0f7"
  },
  "language_info": {
   "codemirror_mode": {
    "name": "ipython",
    "version": 3
   },
   "file_extension": ".py",
   "mimetype": "text/x-python",
   "name": "python",
   "nbconvert_exporter": "python",
   "pygments_lexer": "ipython3",
   "version": "3.9.6"
  }
 },
 "nbformat": 4,
 "nbformat_minor": 5
}
