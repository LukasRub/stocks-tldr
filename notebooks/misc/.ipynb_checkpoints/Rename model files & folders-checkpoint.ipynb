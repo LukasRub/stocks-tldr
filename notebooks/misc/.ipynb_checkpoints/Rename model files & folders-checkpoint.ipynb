{
 "cells": [
  {
   "cell_type": "code",
   "execution_count": 1,
   "id": "87caffed",
   "metadata": {},
   "outputs": [
    {
     "name": "stderr",
     "output_type": "stream",
     "text": [
      "/home/lukas/anaconda3/envs/tldr/lib/python3.9/site-packages/gensim/similarities/__init__.py:15: UserWarning: The gensim.similarities.levenshtein submodule is disabled, because the optional Levenshtein package <https://pypi.org/project/python-Levenshtein/> is unavailable. Install Levenhstein (e.g. `pip install python-Levenshtein`) to suppress this warning.\n",
      "  warnings.warn(msg)\n"
     ]
    }
   ],
   "source": [
    "from operator import concat\n",
    "from functools import reduce\n",
    "from pathlib import Path\n",
    "\n",
    "from gensim.models.doc2vec import Doc2Vec\n",
    "\n",
    "from IPython.display import display"
   ]
  },
  {
   "cell_type": "code",
   "execution_count": 2,
   "id": "3e0477f9",
   "metadata": {},
   "outputs": [
    {
     "data": {
      "text/plain": [
       "'Doc2Vec(dm-c,d200,n10,w2,mc5,s1e-05,t4)'"
      ]
     },
     "metadata": {},
     "output_type": "display_data"
    },
    {
     "data": {
      "text/plain": [
       "'Doc2Vec(dm-c,d200,n5,w7,mc5,s1e-05,t4)'"
      ]
     },
     "metadata": {},
     "output_type": "display_data"
    },
    {
     "data": {
      "text/plain": [
       "'Doc2Vec(dm-c,d400,n10,w3,mc5,s1e-05,t4)'"
      ]
     },
     "metadata": {},
     "output_type": "display_data"
    },
    {
     "data": {
      "text/plain": [
       "'Doc2Vec(dm-c,d200,n10,w11,mc5,s1e-05,t4)'"
      ]
     },
     "metadata": {},
     "output_type": "display_data"
    },
    {
     "data": {
      "text/plain": [
       "'Doc2Vec(dm-c,d300,n5,w3,mc5,s1e-05,t4)'"
      ]
     },
     "metadata": {},
     "output_type": "display_data"
    },
    {
     "data": {
      "text/plain": [
       "'Doc2Vec(dm-c,d200,n10,w7,mc5,s1e-05,t4)'"
      ]
     },
     "metadata": {},
     "output_type": "display_data"
    },
    {
     "data": {
      "text/plain": [
       "'Doc2Vec(dm-c,d300,n10,w11,mc5,s1e-05,t4)'"
      ]
     },
     "metadata": {},
     "output_type": "display_data"
    },
    {
     "data": {
      "text/plain": [
       "'Doc2Vec(dm-c,d200,n10,w4,mc5,s1e-05,t4)'"
      ]
     },
     "metadata": {},
     "output_type": "display_data"
    },
    {
     "data": {
      "text/plain": [
       "'Doc2Vec(dm-c,d400,n10,w7,mc5,s1e-05,t4)'"
      ]
     },
     "metadata": {},
     "output_type": "display_data"
    },
    {
     "data": {
      "text/plain": [
       "'Doc2Vec(dm-c,d400,n10,w11,mc5,s1e-05,t4)'"
      ]
     },
     "metadata": {},
     "output_type": "display_data"
    },
    {
     "data": {
      "text/plain": [
       "'Doc2Vec(dm-c,d300,n10,w7,mc5,s1e-05,t4)'"
      ]
     },
     "metadata": {},
     "output_type": "display_data"
    },
    {
     "data": {
      "text/plain": [
       "'Doc2Vec(dm-c,d200,n10,w3,mc5,s1e-05,t4)'"
      ]
     },
     "metadata": {},
     "output_type": "display_data"
    }
   ],
   "source": [
    "paths = [path for path in Path(\"../../models/\").glob(\"*/*\") \n",
    "         if not \"ep\" in path.name and path.suffix == \"\"]\n",
    "\n",
    "for path in paths:\n",
    "    display(path.name)"
   ]
  },
  {
   "cell_type": "code",
   "execution_count": 3,
   "id": "7cc16735",
   "metadata": {},
   "outputs": [],
   "source": [
    "def incl_param_str_in_path(path, param_str):\n",
    "    if path.is_file():\n",
    "        stem, *suffixes = str(path.name).split(\".\")\n",
    "        suffixes = reduce(concat, map(lambda x: \".\" + x, suffixes)) if suffixes else \"\"\n",
    "    elif path.is_dir():\n",
    "        stem = str(path.name).split(\"_\")[0]\n",
    "        suffixes = \"\"\n",
    "    \n",
    "    if not param_str in stem:\n",
    "        stem = f\"{stem[:-1]},{param_str})\"\n",
    "       \n",
    "    name = stem + suffixes\n",
    "    return name\n",
    "\n",
    "\n",
    "def rename_file_or_dir(path, param_str):\n",
    "    name = incl_param_str_in_path(path, param_str)\n",
    "    target = path.parent.joinpath(name)\n",
    "    return path.rename(target)"
   ]
  },
  {
   "cell_type": "code",
   "execution_count": 4,
   "id": "3aeb41bb",
   "metadata": {},
   "outputs": [
    {
     "name": "stdout",
     "output_type": "stream",
     "text": [
      "Modifying names of Doc2Vec(dm-c,d200,n10,w2,mc5,s1e-05,t4) model files/directories...\n",
      "../../models/Doc2Vec(dm-c,d200,n10,w2,mc5,s1e-05,t4)_2021-09-14T21:37:26/,ep20).o.c.2.V.e.c.(.d.m.-.c.,.d.2.0.0.,.n.1.0.,.w.2.,.m.c.5.,.s.1.e.-.0.5.,.t.4.)\n",
      "../../models/Doc2Vec(dm-c,d200,n10,w2,mc5,s1e-05,t4)_2021-09-14T21:37:26/,ep20).o.c.2.V.e.c.(.d.m.-.c.,.d.2.0.0.,.n.1.0.,.w.2.,.m.c.5.,.s.1.e.-.0.5.,.t.4.)\n",
      "../../models/Doc2Vec(dm-c,d200,n10,w2,mc5,s1e-05,t4)_2021-09-14T21:37:26/,ep20).o.c.2.V.e.c.(.d.m.-.c.,.d.2.0.0.,.n.1.0.,.w.2.,.m.c.5.,.s.1.e.-.0.5.,.t.4.)\n",
      "../../models/Doc2Vec(dm-c,d200,n10,w2,mc5,s1e-05,t4)_2021-09-14T21:37:26/,ep20).o.c.2.V.e.c.(.d.m.-.c.,.d.2.0.0.,.n.1.0.,.w.2.,.m.c.5.,.s.1.e.-.0.5.,.t.4.)\n",
      "../../models/Doc2Vec(dm-c,d200,n10,w2,mc5,s1e-05,t4)_2021-09-14T21:37:26/,ep20).o.c.2.V.e.c.(.d.m.-.c.,.d.2.0.0.,.n.1.0.,.w.2.,.m.c.5.,.s.1.e.-.0.5.,.t.4.)\n",
      "../../models/['Doc2Vec(dm-c,d200,n10,w2,mc5,s1e-05,t4)'],ep20)\n",
      "Modifying names of Doc2Vec(dm-c,d200,n5,w7,mc5,s1e-05,t4) model files/directories...\n",
      "../../models/Doc2Vec(dm-c,d200,n5,w7,mc5,s1e-05,t4)_2021-09-01T19:04:16/,ep10).o.c.2.V.e.c.(.d.m.-.c.,.d.2.0.0.,.n.5.,.w.7.,.m.c.5.,.s.1.e.-.0.5.,.t.4.)\n",
      "../../models/Doc2Vec(dm-c,d200,n5,w7,mc5,s1e-05,t4)_2021-09-01T19:04:16/,ep10).o.c.2.V.e.c.(.d.m.-.c.,.d.2.0.0.,.n.5.,.w.7.,.m.c.5.,.s.1.e.-.0.5.,.t.4.)\n",
      "../../models/Doc2Vec(dm-c,d200,n5,w7,mc5,s1e-05,t4)_2021-09-01T19:04:16/,ep10).o.c.2.V.e.c.(.d.m.-.c.,.d.2.0.0.,.n.5.,.w.7.,.m.c.5.,.s.1.e.-.0.5.,.t.4.)\n",
      "../../models/Doc2Vec(dm-c,d200,n5,w7,mc5,s1e-05,t4)_2021-09-01T19:04:16/,ep10).o.c.2.V.e.c.(.d.m.-.c.,.d.2.0.0.,.n.5.,.w.7.,.m.c.5.,.s.1.e.-.0.5.,.t.4.)\n",
      "../../models/Doc2Vec(dm-c,d200,n5,w7,mc5,s1e-05,t4)_2021-09-01T19:04:16/,ep10).o.c.2.V.e.c.(.d.m.-.c.,.d.2.0.0.,.n.5.,.w.7.,.m.c.5.,.s.1.e.-.0.5.,.t.4.)\n",
      "../../models/['Doc2Vec(dm-c,d200,n5,w7,mc5,s1e-05,t4)'],ep10)\n",
      "Modifying names of Doc2Vec(dm-c,d400,n10,w3,mc5,s1e-05,t4) model files/directories...\n",
      "../../models/Doc2Vec(dm-c,d400,n10,w3,mc5,s1e-05,t4)_2021-09-03T07:07:08/,ep10).o.c.2.V.e.c.(.d.m.-.c.,.d.4.0.0.,.n.1.0.,.w.3.,.m.c.5.,.s.1.e.-.0.5.,.t.4.)\n",
      "../../models/Doc2Vec(dm-c,d400,n10,w3,mc5,s1e-05,t4)_2021-09-03T07:07:08/,ep10).o.c.2.V.e.c.(.d.m.-.c.,.d.4.0.0.,.n.1.0.,.w.3.,.m.c.5.,.s.1.e.-.0.5.,.t.4.)\n",
      "../../models/Doc2Vec(dm-c,d400,n10,w3,mc5,s1e-05,t4)_2021-09-03T07:07:08/,ep10).o.c.2.V.e.c.(.d.m.-.c.,.d.4.0.0.,.n.1.0.,.w.3.,.m.c.5.,.s.1.e.-.0.5.,.t.4.)\n",
      "../../models/Doc2Vec(dm-c,d400,n10,w3,mc5,s1e-05,t4)_2021-09-03T07:07:08/,ep10).o.c.2.V.e.c.(.d.m.-.c.,.d.4.0.0.,.n.1.0.,.w.3.,.m.c.5.,.s.1.e.-.0.5.,.t.4.)\n",
      "../../models/Doc2Vec(dm-c,d400,n10,w3,mc5,s1e-05,t4)_2021-09-03T07:07:08/,ep10).o.c.2.V.e.c.(.d.m.-.c.,.d.4.0.0.,.n.1.0.,.w.3.,.m.c.5.,.s.1.e.-.0.5.,.t.4.)\n",
      "../../models/['Doc2Vec(dm-c,d400,n10,w3,mc5,s1e-05,t4)'],ep10)\n",
      "Modifying names of Doc2Vec(dm-c,d200,n10,w11,mc5,s1e-05,t4) model files/directories...\n",
      "../../models/Doc2Vec(dm-c,d200,n10,w11,mc5,s1e-05,t4)_2021-09-02T16:56:24/,ep10).o.c.2.V.e.c.(.d.m.-.c.,.d.2.0.0.,.n.1.0.,.w.1.1.,.m.c.5.,.s.1.e.-.0.5.,.t.4.)\n",
      "../../models/Doc2Vec(dm-c,d200,n10,w11,mc5,s1e-05,t4)_2021-09-02T16:56:24/,ep10).o.c.2.V.e.c.(.d.m.-.c.,.d.2.0.0.,.n.1.0.,.w.1.1.,.m.c.5.,.s.1.e.-.0.5.,.t.4.)\n",
      "../../models/Doc2Vec(dm-c,d200,n10,w11,mc5,s1e-05,t4)_2021-09-02T16:56:24/,ep10).o.c.2.V.e.c.(.d.m.-.c.,.d.2.0.0.,.n.1.0.,.w.1.1.,.m.c.5.,.s.1.e.-.0.5.,.t.4.)\n",
      "../../models/Doc2Vec(dm-c,d200,n10,w11,mc5,s1e-05,t4)_2021-09-02T16:56:24/,ep10).o.c.2.V.e.c.(.d.m.-.c.,.d.2.0.0.,.n.1.0.,.w.1.1.,.m.c.5.,.s.1.e.-.0.5.,.t.4.)\n",
      "../../models/Doc2Vec(dm-c,d200,n10,w11,mc5,s1e-05,t4)_2021-09-02T16:56:24/,ep10).o.c.2.V.e.c.(.d.m.-.c.,.d.2.0.0.,.n.1.0.,.w.1.1.,.m.c.5.,.s.1.e.-.0.5.,.t.4.)\n",
      "../../models/['Doc2Vec(dm-c,d200,n10,w11,mc5,s1e-05,t4)'],ep10)\n",
      "Modifying names of Doc2Vec(dm-c,d300,n5,w3,mc5,s1e-05,t4) model files/directories...\n",
      "../../models/Doc2Vec(dm-c,d300,n5,w3,mc5,s1e-05,t4)_2021-09-01T23:14:53/,ep10).o.c.2.V.e.c.(.d.m.-.c.,.d.3.0.0.,.n.5.,.w.3.,.m.c.5.,.s.1.e.-.0.5.,.t.4.)\n",
      "../../models/Doc2Vec(dm-c,d300,n5,w3,mc5,s1e-05,t4)_2021-09-01T23:14:53/,ep10).o.c.2.V.e.c.(.d.m.-.c.,.d.3.0.0.,.n.5.,.w.3.,.m.c.5.,.s.1.e.-.0.5.,.t.4.)\n",
      "../../models/Doc2Vec(dm-c,d300,n5,w3,mc5,s1e-05,t4)_2021-09-01T23:14:53/,ep10).o.c.2.V.e.c.(.d.m.-.c.,.d.3.0.0.,.n.5.,.w.3.,.m.c.5.,.s.1.e.-.0.5.,.t.4.)\n",
      "../../models/Doc2Vec(dm-c,d300,n5,w3,mc5,s1e-05,t4)_2021-09-01T23:14:53/,ep10).o.c.2.V.e.c.(.d.m.-.c.,.d.3.0.0.,.n.5.,.w.3.,.m.c.5.,.s.1.e.-.0.5.,.t.4.)\n",
      "../../models/Doc2Vec(dm-c,d300,n5,w3,mc5,s1e-05,t4)_2021-09-01T23:14:53/,ep10).o.c.2.V.e.c.(.d.m.-.c.,.d.3.0.0.,.n.5.,.w.3.,.m.c.5.,.s.1.e.-.0.5.,.t.4.)\n",
      "../../models/['Doc2Vec(dm-c,d300,n5,w3,mc5,s1e-05,t4)'],ep10)\n",
      "Modifying names of Doc2Vec(dm-c,d200,n10,w7,mc5,s1e-05,t4) model files/directories...\n"
     ]
    },
    {
     "ename": "KeyboardInterrupt",
     "evalue": "",
     "output_type": "error",
     "traceback": [
      "\u001b[0;31m---------------------------------------------------------------------------\u001b[0m",
      "\u001b[0;31mKeyboardInterrupt\u001b[0m                         Traceback (most recent call last)",
      "\u001b[0;32m/tmp/ipykernel_21067/1520745710.py\u001b[0m in \u001b[0;36m<module>\u001b[0;34m\u001b[0m\n\u001b[1;32m      1\u001b[0m \u001b[0;32mfor\u001b[0m \u001b[0mpath\u001b[0m \u001b[0;32min\u001b[0m \u001b[0mpaths\u001b[0m\u001b[0;34m:\u001b[0m\u001b[0;34m\u001b[0m\u001b[0;34m\u001b[0m\u001b[0m\n\u001b[1;32m      2\u001b[0m     \u001b[0mprint\u001b[0m\u001b[0;34m(\u001b[0m\u001b[0;34mf\"Modifying names of {path.name} model files/directories...\"\u001b[0m\u001b[0;34m)\u001b[0m\u001b[0;34m\u001b[0m\u001b[0;34m\u001b[0m\u001b[0m\n\u001b[0;32m----> 3\u001b[0;31m     \u001b[0mmodel\u001b[0m \u001b[0;34m=\u001b[0m \u001b[0mDoc2Vec\u001b[0m\u001b[0;34m.\u001b[0m\u001b[0mload\u001b[0m\u001b[0;34m(\u001b[0m\u001b[0mstr\u001b[0m\u001b[0;34m(\u001b[0m\u001b[0mpath\u001b[0m\u001b[0;34m)\u001b[0m\u001b[0;34m)\u001b[0m\u001b[0;34m\u001b[0m\u001b[0;34m\u001b[0m\u001b[0m\n\u001b[0m\u001b[1;32m      4\u001b[0m     \u001b[0mepochs\u001b[0m \u001b[0;34m=\u001b[0m \u001b[0mmodel\u001b[0m\u001b[0;34m.\u001b[0m\u001b[0mepochs\u001b[0m\u001b[0;34m\u001b[0m\u001b[0;34m\u001b[0m\u001b[0m\n\u001b[1;32m      5\u001b[0m \u001b[0;34m\u001b[0m\u001b[0m\n",
      "\u001b[0;32m~/anaconda3/envs/tldr/lib/python3.9/site-packages/gensim/models/doc2vec.py\u001b[0m in \u001b[0;36mload\u001b[0;34m(cls, *args, **kwargs)\u001b[0m\n\u001b[1;32m    793\u001b[0m         \"\"\"\n\u001b[1;32m    794\u001b[0m         \u001b[0;32mtry\u001b[0m\u001b[0;34m:\u001b[0m\u001b[0;34m\u001b[0m\u001b[0;34m\u001b[0m\u001b[0m\n\u001b[0;32m--> 795\u001b[0;31m             \u001b[0;32mreturn\u001b[0m \u001b[0msuper\u001b[0m\u001b[0;34m(\u001b[0m\u001b[0mDoc2Vec\u001b[0m\u001b[0;34m,\u001b[0m \u001b[0mcls\u001b[0m\u001b[0;34m)\u001b[0m\u001b[0;34m.\u001b[0m\u001b[0mload\u001b[0m\u001b[0;34m(\u001b[0m\u001b[0;34m*\u001b[0m\u001b[0margs\u001b[0m\u001b[0;34m,\u001b[0m \u001b[0mrethrow\u001b[0m\u001b[0;34m=\u001b[0m\u001b[0;32mTrue\u001b[0m\u001b[0;34m,\u001b[0m \u001b[0;34m**\u001b[0m\u001b[0mkwargs\u001b[0m\u001b[0;34m)\u001b[0m\u001b[0;34m\u001b[0m\u001b[0;34m\u001b[0m\u001b[0m\n\u001b[0m\u001b[1;32m    796\u001b[0m         \u001b[0;32mexcept\u001b[0m \u001b[0mAttributeError\u001b[0m \u001b[0;32mas\u001b[0m \u001b[0mae\u001b[0m\u001b[0;34m:\u001b[0m\u001b[0;34m\u001b[0m\u001b[0;34m\u001b[0m\u001b[0m\n\u001b[1;32m    797\u001b[0m             logger.error(\n",
      "\u001b[0;32m~/anaconda3/envs/tldr/lib/python3.9/site-packages/gensim/models/word2vec.py\u001b[0m in \u001b[0;36mload\u001b[0;34m(cls, rethrow, *args, **kwargs)\u001b[0m\n\u001b[1;32m   1920\u001b[0m         \"\"\"\n\u001b[1;32m   1921\u001b[0m         \u001b[0;32mtry\u001b[0m\u001b[0;34m:\u001b[0m\u001b[0;34m\u001b[0m\u001b[0;34m\u001b[0m\u001b[0m\n\u001b[0;32m-> 1922\u001b[0;31m             \u001b[0mmodel\u001b[0m \u001b[0;34m=\u001b[0m \u001b[0msuper\u001b[0m\u001b[0;34m(\u001b[0m\u001b[0mWord2Vec\u001b[0m\u001b[0;34m,\u001b[0m \u001b[0mcls\u001b[0m\u001b[0;34m)\u001b[0m\u001b[0;34m.\u001b[0m\u001b[0mload\u001b[0m\u001b[0;34m(\u001b[0m\u001b[0;34m*\u001b[0m\u001b[0margs\u001b[0m\u001b[0;34m,\u001b[0m \u001b[0;34m**\u001b[0m\u001b[0mkwargs\u001b[0m\u001b[0;34m)\u001b[0m\u001b[0;34m\u001b[0m\u001b[0;34m\u001b[0m\u001b[0m\n\u001b[0m\u001b[1;32m   1923\u001b[0m             \u001b[0;32mif\u001b[0m \u001b[0;32mnot\u001b[0m \u001b[0misinstance\u001b[0m\u001b[0;34m(\u001b[0m\u001b[0mmodel\u001b[0m\u001b[0;34m,\u001b[0m \u001b[0mWord2Vec\u001b[0m\u001b[0;34m)\u001b[0m\u001b[0;34m:\u001b[0m\u001b[0;34m\u001b[0m\u001b[0;34m\u001b[0m\u001b[0m\n\u001b[1;32m   1924\u001b[0m                 \u001b[0mrethrow\u001b[0m \u001b[0;34m=\u001b[0m \u001b[0;32mTrue\u001b[0m\u001b[0;34m\u001b[0m\u001b[0;34m\u001b[0m\u001b[0m\n",
      "\u001b[0;32m~/anaconda3/envs/tldr/lib/python3.9/site-packages/gensim/utils.py\u001b[0m in \u001b[0;36mload\u001b[0;34m(cls, fname, mmap)\u001b[0m\n\u001b[1;32m    485\u001b[0m \u001b[0;34m\u001b[0m\u001b[0m\n\u001b[1;32m    486\u001b[0m         \u001b[0mobj\u001b[0m \u001b[0;34m=\u001b[0m \u001b[0munpickle\u001b[0m\u001b[0;34m(\u001b[0m\u001b[0mfname\u001b[0m\u001b[0;34m)\u001b[0m\u001b[0;34m\u001b[0m\u001b[0;34m\u001b[0m\u001b[0m\n\u001b[0;32m--> 487\u001b[0;31m         \u001b[0mobj\u001b[0m\u001b[0;34m.\u001b[0m\u001b[0m_load_specials\u001b[0m\u001b[0;34m(\u001b[0m\u001b[0mfname\u001b[0m\u001b[0;34m,\u001b[0m \u001b[0mmmap\u001b[0m\u001b[0;34m,\u001b[0m \u001b[0mcompress\u001b[0m\u001b[0;34m,\u001b[0m \u001b[0msubname\u001b[0m\u001b[0;34m)\u001b[0m\u001b[0;34m\u001b[0m\u001b[0;34m\u001b[0m\u001b[0m\n\u001b[0m\u001b[1;32m    488\u001b[0m         \u001b[0mobj\u001b[0m\u001b[0;34m.\u001b[0m\u001b[0madd_lifecycle_event\u001b[0m\u001b[0;34m(\u001b[0m\u001b[0;34m\"loaded\"\u001b[0m\u001b[0;34m,\u001b[0m \u001b[0mfname\u001b[0m\u001b[0;34m=\u001b[0m\u001b[0mfname\u001b[0m\u001b[0;34m)\u001b[0m\u001b[0;34m\u001b[0m\u001b[0;34m\u001b[0m\u001b[0m\n\u001b[1;32m    489\u001b[0m         \u001b[0;32mreturn\u001b[0m \u001b[0mobj\u001b[0m\u001b[0;34m\u001b[0m\u001b[0;34m\u001b[0m\u001b[0m\n",
      "\u001b[0;32m~/anaconda3/envs/tldr/lib/python3.9/site-packages/gensim/models/word2vec.py\u001b[0m in \u001b[0;36m_load_specials\u001b[0;34m(self, *args, **kwargs)\u001b[0m\n\u001b[1;32m   1936\u001b[0m     \u001b[0;32mdef\u001b[0m \u001b[0m_load_specials\u001b[0m\u001b[0;34m(\u001b[0m\u001b[0mself\u001b[0m\u001b[0;34m,\u001b[0m \u001b[0;34m*\u001b[0m\u001b[0margs\u001b[0m\u001b[0;34m,\u001b[0m \u001b[0;34m**\u001b[0m\u001b[0mkwargs\u001b[0m\u001b[0;34m)\u001b[0m\u001b[0;34m:\u001b[0m\u001b[0;34m\u001b[0m\u001b[0;34m\u001b[0m\u001b[0m\n\u001b[1;32m   1937\u001b[0m         \u001b[0;34m\"\"\"Handle special requirements of `.load()` protocol, usually up-converting older versions.\"\"\"\u001b[0m\u001b[0;34m\u001b[0m\u001b[0;34m\u001b[0m\u001b[0m\n\u001b[0;32m-> 1938\u001b[0;31m         \u001b[0msuper\u001b[0m\u001b[0;34m(\u001b[0m\u001b[0mWord2Vec\u001b[0m\u001b[0;34m,\u001b[0m \u001b[0mself\u001b[0m\u001b[0;34m)\u001b[0m\u001b[0;34m.\u001b[0m\u001b[0m_load_specials\u001b[0m\u001b[0;34m(\u001b[0m\u001b[0;34m*\u001b[0m\u001b[0margs\u001b[0m\u001b[0;34m,\u001b[0m \u001b[0;34m**\u001b[0m\u001b[0mkwargs\u001b[0m\u001b[0;34m)\u001b[0m\u001b[0;34m\u001b[0m\u001b[0;34m\u001b[0m\u001b[0m\n\u001b[0m\u001b[1;32m   1939\u001b[0m         \u001b[0;31m# for backward compatibility, add/rearrange properties from prior versions\u001b[0m\u001b[0;34m\u001b[0m\u001b[0;34m\u001b[0m\u001b[0;34m\u001b[0m\u001b[0m\n\u001b[1;32m   1940\u001b[0m         \u001b[0;32mif\u001b[0m \u001b[0;32mnot\u001b[0m \u001b[0mhasattr\u001b[0m\u001b[0;34m(\u001b[0m\u001b[0mself\u001b[0m\u001b[0;34m,\u001b[0m \u001b[0;34m'ns_exponent'\u001b[0m\u001b[0;34m)\u001b[0m\u001b[0;34m:\u001b[0m\u001b[0;34m\u001b[0m\u001b[0;34m\u001b[0m\u001b[0m\n",
      "\u001b[0;32m~/anaconda3/envs/tldr/lib/python3.9/site-packages/gensim/utils.py\u001b[0m in \u001b[0;36m_load_specials\u001b[0;34m(self, fname, mmap, compress, subname)\u001b[0m\n\u001b[1;32m    527\u001b[0m                 \u001b[0mval\u001b[0m \u001b[0;34m=\u001b[0m \u001b[0mnp\u001b[0m\u001b[0;34m.\u001b[0m\u001b[0mload\u001b[0m\u001b[0;34m(\u001b[0m\u001b[0msubname\u001b[0m\u001b[0;34m(\u001b[0m\u001b[0mfname\u001b[0m\u001b[0;34m,\u001b[0m \u001b[0mattrib\u001b[0m\u001b[0;34m)\u001b[0m\u001b[0;34m)\u001b[0m\u001b[0;34m[\u001b[0m\u001b[0;34m'val'\u001b[0m\u001b[0;34m]\u001b[0m\u001b[0;34m\u001b[0m\u001b[0;34m\u001b[0m\u001b[0m\n\u001b[1;32m    528\u001b[0m             \u001b[0;32melse\u001b[0m\u001b[0;34m:\u001b[0m\u001b[0;34m\u001b[0m\u001b[0;34m\u001b[0m\u001b[0m\n\u001b[0;32m--> 529\u001b[0;31m                 \u001b[0mval\u001b[0m \u001b[0;34m=\u001b[0m \u001b[0mnp\u001b[0m\u001b[0;34m.\u001b[0m\u001b[0mload\u001b[0m\u001b[0;34m(\u001b[0m\u001b[0msubname\u001b[0m\u001b[0;34m(\u001b[0m\u001b[0mfname\u001b[0m\u001b[0;34m,\u001b[0m \u001b[0mattrib\u001b[0m\u001b[0;34m)\u001b[0m\u001b[0;34m,\u001b[0m \u001b[0mmmap_mode\u001b[0m\u001b[0;34m=\u001b[0m\u001b[0mmmap\u001b[0m\u001b[0;34m)\u001b[0m\u001b[0;34m\u001b[0m\u001b[0;34m\u001b[0m\u001b[0m\n\u001b[0m\u001b[1;32m    530\u001b[0m \u001b[0;34m\u001b[0m\u001b[0m\n\u001b[1;32m    531\u001b[0m             \u001b[0;32mwith\u001b[0m \u001b[0mignore_deprecation_warning\u001b[0m\u001b[0;34m(\u001b[0m\u001b[0;34m)\u001b[0m\u001b[0;34m:\u001b[0m\u001b[0;34m\u001b[0m\u001b[0;34m\u001b[0m\u001b[0m\n",
      "\u001b[0;32m~/anaconda3/envs/tldr/lib/python3.9/site-packages/numpy/lib/npyio.py\u001b[0m in \u001b[0;36mload\u001b[0;34m(file, mmap_mode, allow_pickle, fix_imports, encoding)\u001b[0m\n\u001b[1;32m    438\u001b[0m                 \u001b[0;32mreturn\u001b[0m \u001b[0mformat\u001b[0m\u001b[0;34m.\u001b[0m\u001b[0mopen_memmap\u001b[0m\u001b[0;34m(\u001b[0m\u001b[0mfile\u001b[0m\u001b[0;34m,\u001b[0m \u001b[0mmode\u001b[0m\u001b[0;34m=\u001b[0m\u001b[0mmmap_mode\u001b[0m\u001b[0;34m)\u001b[0m\u001b[0;34m\u001b[0m\u001b[0;34m\u001b[0m\u001b[0m\n\u001b[1;32m    439\u001b[0m             \u001b[0;32melse\u001b[0m\u001b[0;34m:\u001b[0m\u001b[0;34m\u001b[0m\u001b[0;34m\u001b[0m\u001b[0m\n\u001b[0;32m--> 440\u001b[0;31m                 return format.read_array(fid, allow_pickle=allow_pickle,\n\u001b[0m\u001b[1;32m    441\u001b[0m                                          pickle_kwargs=pickle_kwargs)\n\u001b[1;32m    442\u001b[0m         \u001b[0;32melse\u001b[0m\u001b[0;34m:\u001b[0m\u001b[0;34m\u001b[0m\u001b[0;34m\u001b[0m\u001b[0m\n",
      "\u001b[0;32m~/anaconda3/envs/tldr/lib/python3.9/site-packages/numpy/lib/format.py\u001b[0m in \u001b[0;36mread_array\u001b[0;34m(fp, allow_pickle, pickle_kwargs)\u001b[0m\n\u001b[1;32m    755\u001b[0m         \u001b[0;32mif\u001b[0m \u001b[0misfileobj\u001b[0m\u001b[0;34m(\u001b[0m\u001b[0mfp\u001b[0m\u001b[0;34m)\u001b[0m\u001b[0;34m:\u001b[0m\u001b[0;34m\u001b[0m\u001b[0;34m\u001b[0m\u001b[0m\n\u001b[1;32m    756\u001b[0m             \u001b[0;31m# We can use the fast fromfile() function.\u001b[0m\u001b[0;34m\u001b[0m\u001b[0;34m\u001b[0m\u001b[0;34m\u001b[0m\u001b[0m\n\u001b[0;32m--> 757\u001b[0;31m             \u001b[0marray\u001b[0m \u001b[0;34m=\u001b[0m \u001b[0mnumpy\u001b[0m\u001b[0;34m.\u001b[0m\u001b[0mfromfile\u001b[0m\u001b[0;34m(\u001b[0m\u001b[0mfp\u001b[0m\u001b[0;34m,\u001b[0m \u001b[0mdtype\u001b[0m\u001b[0;34m=\u001b[0m\u001b[0mdtype\u001b[0m\u001b[0;34m,\u001b[0m \u001b[0mcount\u001b[0m\u001b[0;34m=\u001b[0m\u001b[0mcount\u001b[0m\u001b[0;34m)\u001b[0m\u001b[0;34m\u001b[0m\u001b[0;34m\u001b[0m\u001b[0m\n\u001b[0m\u001b[1;32m    758\u001b[0m         \u001b[0;32melse\u001b[0m\u001b[0;34m:\u001b[0m\u001b[0;34m\u001b[0m\u001b[0;34m\u001b[0m\u001b[0m\n\u001b[1;32m    759\u001b[0m             \u001b[0;31m# This is not a real file. We have to read it the\u001b[0m\u001b[0;34m\u001b[0m\u001b[0;34m\u001b[0m\u001b[0;34m\u001b[0m\u001b[0m\n",
      "\u001b[0;31mKeyboardInterrupt\u001b[0m: "
     ]
    }
   ],
   "source": [
    "for path in paths:\n",
    "    print(f\"Modifying names of {path.name} model files/directories...\")\n",
    "    model = Doc2Vec.load(str(path))\n",
    "    epochs = model.epochs\n",
    "    \n",
    "    param_str = f\"ep{epochs}\"\n",
    "    \n",
    "    # Renaming model files\n",
    "    model_files = path.parent.glob(\"*\")\n",
    "    for file in model_files:\n",
    "        new_path = rename_file_or_dir(file, param_str)\n",
    "        print(new_path)\n",
    "        \n",
    "    # Renaming model directory\n",
    "    new_path = rename_file_or_dir(path.parent, param_str)\n",
    "    print(new_path)"
   ]
  }
 ],
 "metadata": {
  "kernelspec": {
   "display_name": "Python 3.9.6 64-bit ('tldr': conda)",
   "language": "python",
   "name": "python396jvsc74a57bd0e4c6f9ab0afc44c5c63e1b233fc90c970e43406a17ee57d06d7c91febfb3a0f7"
  },
  "language_info": {
   "codemirror_mode": {
    "name": "ipython",
    "version": 3
   },
   "file_extension": ".py",
   "mimetype": "text/x-python",
   "name": "python",
   "nbconvert_exporter": "python",
   "pygments_lexer": "ipython3",
   "version": "3.9.6"
  }
 },
 "nbformat": 4,
 "nbformat_minor": 5
}
