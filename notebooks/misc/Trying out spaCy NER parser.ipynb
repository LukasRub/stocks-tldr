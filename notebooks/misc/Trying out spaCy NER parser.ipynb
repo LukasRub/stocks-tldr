{
 "cells": [
  {
   "cell_type": "code",
   "execution_count": 1,
   "id": "87602493",
   "metadata": {},
   "outputs": [],
   "source": [
    "import spacy"
   ]
  },
  {
   "cell_type": "markdown",
   "id": "5348fcf8",
   "metadata": {},
   "source": [
    "### Checking spaCy NER settings"
   ]
  },
  {
   "cell_type": "code",
   "execution_count": 59,
   "id": "fd1febe3",
   "metadata": {},
   "outputs": [
    {
     "name": "stdout",
     "output_type": "stream",
     "text": [
      "CARDINAL\tNumerals that do not fall under another type\n",
      "DATE\tAbsolute or relative dates or periods\n",
      "EVENT\tNamed hurricanes, battles, wars, sports events, etc.\n",
      "FAC\tBuildings, airports, highways, bridges, etc.\n",
      "GPE\tCountries, cities, states\n",
      "LANGUAGE\tAny named language\n",
      "LAW\tNamed documents made into laws.\n",
      "LOC\tNon-GPE locations, mountain ranges, bodies of water\n",
      "MONEY\tMonetary values, including unit\n",
      "NORP\tNationalities or religious or political groups\n",
      "ORDINAL\t\"first\", \"second\", etc.\n",
      "ORG\tCompanies, agencies, institutions, etc.\n",
      "PERCENT\tPercentage, including \"%\"\n",
      "PERSON\tPeople, including fictional\n",
      "PRODUCT\tObjects, vehicles, foods, etc. (not services)\n",
      "QUANTITY\tMeasurements, as of weight or distance\n",
      "TIME\tTimes smaller than a day\n",
      "WORK_OF_ART\tTitles of books, songs, etc.\n"
     ]
    }
   ],
   "source": [
    "# Loading in standard English model\n",
    "nlp = spacy.load('en_core_web_sm')\n",
    "\n",
    "# Getting NER parser and printing labels\n",
    "ner = nlp.get_pipe('ner')\n",
    "\n",
    "for label in ner.labels:\n",
    "    print(\"\\t\".join([label, str(spacy.explain(label))]))"
   ]
  },
  {
   "cell_type": "markdown",
   "id": "795c1673",
   "metadata": {},
   "source": [
    "### Trying out spaCy NER with sample articles"
   ]
  },
  {
   "cell_type": "code",
   "execution_count": 65,
   "id": "fdea9274",
   "metadata": {},
   "outputs": [],
   "source": [
    "sample_articles = [\n",
    "    \"../../data/processed/articles/test/texts/3.txt\"\n",
    "]"
   ]
  },
  {
   "cell_type": "code",
   "execution_count": 66,
   "id": "549a6f4d",
   "metadata": {
    "scrolled": false
   },
   "outputs": [
    {
     "name": "stdout",
     "output_type": "stream",
     "text": [
      "NIO\tORG\tCompanies, agencies, institutions, etc.\n",
      "China\tGPE\tCountries, cities, states\n",
      "NIO House  Thesis  NIO Inc.\tORG\tCompanies, agencies, institutions, etc.\n",
      "the Chinese Communist Party\tORG\tCompanies, agencies, institutions, etc.\n",
      "Tesla\tPERSON\tPeople, including fictional\n",
      "BYD\tORG\tCompanies, agencies, institutions, etc.\n",
      "OTCPK\tORG\tCompanies, agencies, institutions, etc.\n",
      "BYDDY\tORG\tCompanies, agencies, institutions, etc.\n",
      "XPeng\tGPE\tCountries, cities, states\n",
      "Li Auto\tPERSON\tPeople, including fictional\n",
      "Tesla\tORG\tCompanies, agencies, institutions, etc.\n",
      "XPeng\tORG\tCompanies, agencies, institutions, etc.\n",
      "Li\tPERSON\tPeople, including fictional\n",
      "the Wuling Hong Guang\tORG\tCompanies, agencies, institutions, etc.\n",
      "SAIC-GM-Wuling\tORG\tCompanies, agencies, institutions, etc.\n",
      "ICE\tORG\tCompanies, agencies, institutions, etc.\n",
      "the NIO ES6\tORG\tCompanies, agencies, institutions, etc.\n",
      "UK\tGPE\tCountries, cities, states\n",
      "V3\tPRODUCT\tObjects, vehicles, foods, etc. (not services)\n",
      "NEDC\tORG\tCompanies, agencies, institutions, etc.\n",
      "NIO ES8\tORG\tCompanies, agencies, institutions, etc.\n",
      "Shanghai\tGPE\tCountries, cities, states\n",
      "GXC\tORG\tCompanies, agencies, institutions, etc.\n",
      "Rio Tinto\tORG\tCompanies, agencies, institutions, etc.\n",
      "RIO\tORG\tCompanies, agencies, institutions, etc.\n",
      "Columbia University\tORG\tCompanies, agencies, institutions, etc.\n",
      "US\tGPE\tCountries, cities, states\n",
      "Conclusion  NIO\tORG\tCompanies, agencies, institutions, etc.\n",
      "EV\tPRODUCT\tObjects, vehicles, foods, etc. (not services)\n",
      "CCP\tORG\tCompanies, agencies, institutions, etc.\n"
     ]
    }
   ],
   "source": [
    "for article in sample_articles:\n",
    "    with open(article, \"rt\", encoding=\"utf-8\") as fp:\n",
    "        text = fp.read().replace(\"\\n\", \" \")\n",
    "    doc = nlp(text)\n",
    "    if doc.ents:\n",
    "        distinct_entities = list()\n",
    "        for entity in doc.ents:\n",
    "            named_entity = (entity.text, entity.label_)\n",
    "            if entity.label_ in [\"ORG\", \"PERSON\", \"GPE\", \"PRODUCT\", \"EVENT\", \"WORK_OF_ART\"] \\\n",
    "                and named_entity not in distinct_entities:\n",
    "                distinct_entities.append(named_entity)\n",
    "\n",
    "for entity in distinct_entities:\n",
    "    print(\"\\t\".join([entity[0], entity[1], str(spacy.explain(entity[1]))]))"
   ]
  },
  {
   "cell_type": "code",
   "execution_count": 67,
   "id": "00984a73",
   "metadata": {},
   "outputs": [
    {
     "data": {
      "text/plain": [
       "[('NIO', 'ORG'),\n",
       " ('China', 'GPE'),\n",
       " ('NIO House  Thesis  NIO Inc.', 'ORG'),\n",
       " ('the Chinese Communist Party', 'ORG'),\n",
       " ('Tesla', 'PERSON'),\n",
       " ('BYD', 'ORG'),\n",
       " ('OTCPK', 'ORG'),\n",
       " ('BYDDY', 'ORG'),\n",
       " ('XPeng', 'GPE'),\n",
       " ('Li Auto', 'PERSON'),\n",
       " ('Tesla', 'ORG'),\n",
       " ('XPeng', 'ORG'),\n",
       " ('Li', 'PERSON'),\n",
       " ('the Wuling Hong Guang', 'ORG'),\n",
       " ('SAIC-GM-Wuling', 'ORG'),\n",
       " ('ICE', 'ORG'),\n",
       " ('the NIO ES6', 'ORG'),\n",
       " ('UK', 'GPE'),\n",
       " ('V3', 'PRODUCT'),\n",
       " ('NEDC', 'ORG'),\n",
       " ('NIO ES8', 'ORG'),\n",
       " ('Shanghai', 'GPE'),\n",
       " ('GXC', 'ORG'),\n",
       " ('Rio Tinto', 'ORG'),\n",
       " ('RIO', 'ORG'),\n",
       " ('Columbia University', 'ORG'),\n",
       " ('US', 'GPE'),\n",
       " ('Conclusion  NIO', 'ORG'),\n",
       " ('EV', 'PRODUCT'),\n",
       " ('CCP', 'ORG')]"
      ]
     },
     "execution_count": 67,
     "metadata": {},
     "output_type": "execute_result"
    }
   ],
   "source": [
    "distinct_entities"
   ]
  },
  {
   "cell_type": "code",
   "execution_count": null,
   "id": "cf69b7a4",
   "metadata": {},
   "outputs": [],
   "source": []
  }
 ],
 "metadata": {
  "kernelspec": {
   "display_name": "Python 3.9.7 64-bit ('tldr': conda)",
   "language": "python",
   "name": "python397jvsc74a57bd06853f8d60e709343e37ae0ef9edab9d01a35343cdb061b06ff5cbce9cadce0e4"
  },
  "language_info": {
   "codemirror_mode": {
    "name": "ipython",
    "version": 3
   },
   "file_extension": ".py",
   "mimetype": "text/x-python",
   "name": "python",
   "nbconvert_exporter": "python",
   "pygments_lexer": "ipython3",
   "version": "3.9.7"
  }
 },
 "nbformat": 4,
 "nbformat_minor": 5
}
