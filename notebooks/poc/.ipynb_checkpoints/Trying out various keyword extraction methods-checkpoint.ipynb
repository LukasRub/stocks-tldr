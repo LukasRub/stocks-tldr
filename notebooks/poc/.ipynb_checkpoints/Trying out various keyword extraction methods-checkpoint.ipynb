{
 "cells": [
  {
   "cell_type": "code",
   "execution_count": 1,
   "id": "618fa43f",
   "metadata": {},
   "outputs": [],
   "source": [
    "text_az = \"\"\"\n",
    "AstraZeneca plc is a British-Swedish multinational pharmaceutical and biotechnology company with its headquarters at the Cambridge Biomedical Campus in Cambridge, England. It has a portfolio of products for major diseases in areas including oncology, cardiovascular, gastrointestinal, infection, neuroscience, respiratory, and inflammation. It is perhaps best known for its involvement in developing the Oxford-AstraZeneca COVID-19 vaccine.\n",
    "\n",
    "The company was founded in 1999 through the merger of the Swedish Astra AB and the British Zeneca Group (itself formed by the demerger of the pharmaceutical operations of Imperial Chemical Industries in 1993). Since the merger it has been among the world's largest pharmaceutical companies and has made numerous corporate acquisitions, including Cambridge Antibody Technology (in 2006), MedImmune (in 2007), Spirogen (in 2013) and Definiens (by MedImmune in 2014). It has its research and development concentrated in three strategic centres: Cambridge, England; Gothenburg, Sweden and Gaithersburg in Maryland, U.S.\n",
    "\n",
    "AstraZeneca has a primary listing on the London Stock Exchange and is a constituent of the FTSE 100 Index. It has secondary listings on Nasdaq OMX Stockholm, Nasdaq New York, the Bombay Stock Exchange and on the National Stock Exchange of India.\n",
    "\"\"\""
   ]
  },
  {
   "cell_type": "code",
   "execution_count": 8,
   "id": "1c96f51d",
   "metadata": {},
   "outputs": [],
   "source": [
    "text_tesla = \"\"\"\n",
    "Tesla, Inc. is an American electric vehicle and clean energy company based in Palo Alto, California. Tesla's current products include electric cars, battery energy storage from home to grid-scale, solar panels and solar roof tiles, as well as other related products and services. In 2020, Tesla had the highest sales in the plug-in and battery electric passenger car segments, capturing 16% of the plug-in market (which includes plug-in hybrids) and 23% of the battery-electric (purely electric) market. Through its subsidiary Tesla Energy, the company develops and is a major installer of solar photovoltaic energy generation systems in the United States. Tesla Energy is also one of the largest global suppliers of battery energy storage systems, with 3 gigawatt-hour (GWh) of battery storage supplied in 2020.\n",
    "\n",
    "Founded in July 2003 by Martin Eberhard and Marc Tarpenning as Tesla Motors, the company's name is a tribute to inventor and electrical engineer Nikola Tesla. Elon Musk, who contributed most of the funding in the early days, has served as CEO since 2008. According to Musk, the purpose of Tesla is to help expedite the move to sustainable transport and energy, obtained through electric vehicles and solar power. Tesla began production of its first car model, the Roadster, in 2009. This was followed by the Model S sedan in 2012, the Model X SUV in 2015, the higher volume Model 3 sedan in 2017, and the Model Y crossover in 2020. The Model 3 is the world's all-time best-selling plug-in electric car, with more than 800,000 delivered through December 2020. Tesla's global vehicle sales were 499,550 units in 2020, a 35.8% increase over the previous year. In 2020, the company surpassed the 1 million mark of electric cars produced.\n",
    "\n",
    "Tesla has been the subject of numerous lawsuits and controversies arising from statements and acts of CEO Elon Musk and from allegations of: creative accounting, whistleblower retaliation, worker rights violations, and unresolved and dangerous technical problems with their products.\n",
    "\"\"\""
   ]
  },
  {
   "cell_type": "markdown",
   "id": "5d0ca754",
   "metadata": {},
   "source": [
    "### RAKE"
   ]
  },
  {
   "cell_type": "code",
   "execution_count": 38,
   "id": "c9f5d666",
   "metadata": {},
   "outputs": [],
   "source": [
    "from rake_nltk import Metric, Rake"
   ]
  },
  {
   "cell_type": "code",
   "execution_count": 48,
   "id": "87abb9f8",
   "metadata": {
    "scrolled": true
   },
   "outputs": [
    {
     "data": {
      "text/plain": [
       "[(9.0, 'three strategic centres'),\n",
       " (9.0, 'swedish astra ab'),\n",
       " (9.0, 'perhaps best known'),\n",
       " (9.0, 'national stock exchange'),\n",
       " (9.0, 'nasdaq omx stockholm'),\n",
       " (9.0, 'nasdaq new york'),\n",
       " (9.0, 'london stock exchange'),\n",
       " (9.0, 'imperial chemical industries'),\n",
       " (9.0, 'ftse 100 index'),\n",
       " (9.0, 'bombay stock exchange'),\n",
       " (9.0, 'areas including oncology'),\n",
       " (9.0, '2007 ), spirogen'),\n",
       " (8.666666666666666, 'swedish multinational pharmaceutical'),\n",
       " (8.666666666666666, 'largest pharmaceutical companies'),\n",
       " (8.0, 'cambridge biomedical campus'),\n",
       " (8.0, 'british zeneca group'),\n",
       " (8.0, '2006 ), medimmune'),\n",
       " (4.666666666666666, 'pharmaceutical operations'),\n",
       " (4.0, 'secondary listings'),\n",
       " (4.0, 'primary listing'),\n",
       " (4.0, 'major diseases'),\n",
       " (4.0, 'development concentrated'),\n",
       " (4.0, '2014 ).'),\n",
       " (4.0, '1993 ).'),\n",
       " (4.0, '19 vaccine'),\n",
       " (3.666666666666667, 'astrazeneca plc'),\n",
       " (3.666666666666667, 'astrazeneca covid'),\n",
       " (3.5, 'biotechnology company'),\n",
       " (2.0, 'medimmune'),\n",
       " (2.0, 'cambridge'),\n",
       " (2.0, 'british'),\n",
       " (1.6666666666666667, 'astrazeneca'),\n",
       " (1.5, 'company'),\n",
       " (1.0, 'world'),\n",
       " (1.0, 'u'),\n",
       " (1.0, 'sweden'),\n",
       " (1.0, 'since'),\n",
       " (1.0, 'respiratory'),\n",
       " (1.0, 'research'),\n",
       " (1.0, 'products'),\n",
       " (1.0, 'portfolio'),\n",
       " (1.0, 'oxford'),\n",
       " (1.0, 'neuroscience'),\n",
       " (1.0, 'merger'),\n",
       " (1.0, 'maryland'),\n",
       " (1.0, 'involvement'),\n",
       " (1.0, 'inflammation'),\n",
       " (1.0, 'infection'),\n",
       " (1.0, 'india'),\n",
       " (1.0, 'headquarters'),\n",
       " (1.0, 'gothenburg'),\n",
       " (1.0, 'gastrointestinal'),\n",
       " (1.0, 'gaithersburg'),\n",
       " (1.0, 'founded'),\n",
       " (1.0, 'formed'),\n",
       " (1.0, 'england'),\n",
       " (1.0, 'developing'),\n",
       " (1.0, 'demerger'),\n",
       " (1.0, 'definiens'),\n",
       " (1.0, 'constituent'),\n",
       " (1.0, 'cardiovascular'),\n",
       " (1.0, 'among'),\n",
       " (1.0, '2013'),\n",
       " (1.0, '1999')]"
      ]
     },
     "execution_count": 48,
     "metadata": {},
     "output_type": "execute_result"
    }
   ],
   "source": [
    "rake = Rake(min_length=1, max_length=3, ranking_metric=Metric.DEGREE_TO_FREQUENCY_RATIO)\n",
    "rake.extract_keywords_from_text(text_az)\n",
    "rake.get_ranked_phrases_with_scores()"
   ]
  },
  {
   "cell_type": "code",
   "execution_count": 49,
   "id": "2c4dd14e",
   "metadata": {
    "scrolled": true
   },
   "outputs": [
    {
     "data": {
      "text/plain": [
       "[(21.0, 'national stock exchange'),\n",
       " (21.0, 'london stock exchange'),\n",
       " (21.0, 'bombay stock exchange'),\n",
       " (17.0, 'swedish multinational pharmaceutical'),\n",
       " (14.0, 'largest pharmaceutical companies'),\n",
       " (13.0, '2006 ), medimmune'),\n",
       " (12.0, 'swedish astra ab'),\n",
       " (12.0, 'nasdaq omx stockholm'),\n",
       " (12.0, 'nasdaq new york'),\n",
       " (12.0, '2007 ), spirogen'),\n",
       " (10.0, 'pharmaceutical operations'),\n",
       " (10.0, 'cambridge biomedical campus'),\n",
       " (10.0, 'british zeneca group'),\n",
       " (9.0, 'three strategic centres'),\n",
       " (9.0, 'perhaps best known'),\n",
       " (9.0, 'imperial chemical industries'),\n",
       " (9.0, 'ftse 100 index'),\n",
       " (9.0, 'areas including oncology'),\n",
       " (7.0, 'astrazeneca plc'),\n",
       " (7.0, 'astrazeneca covid'),\n",
       " (6.0, '2014 ).'),\n",
       " (6.0, '1993 ).'),\n",
       " (5.0, 'biotechnology company'),\n",
       " (5.0, 'astrazeneca'),\n",
       " (4.0, 'secondary listings'),\n",
       " (4.0, 'primary listing'),\n",
       " (4.0, 'medimmune'),\n",
       " (4.0, 'major diseases'),\n",
       " (4.0, 'development concentrated'),\n",
       " (4.0, 'cambridge'),\n",
       " (4.0, 'british'),\n",
       " (4.0, '19 vaccine'),\n",
       " (3.0, 'company'),\n",
       " (1.0, 'world'),\n",
       " (1.0, 'u'),\n",
       " (1.0, 'sweden'),\n",
       " (1.0, 'since'),\n",
       " (1.0, 'respiratory'),\n",
       " (1.0, 'research'),\n",
       " (1.0, 'products'),\n",
       " (1.0, 'portfolio'),\n",
       " (1.0, 'oxford'),\n",
       " (1.0, 'neuroscience'),\n",
       " (1.0, 'merger'),\n",
       " (1.0, 'maryland'),\n",
       " (1.0, 'involvement'),\n",
       " (1.0, 'inflammation'),\n",
       " (1.0, 'infection'),\n",
       " (1.0, 'india'),\n",
       " (1.0, 'headquarters'),\n",
       " (1.0, 'gothenburg'),\n",
       " (1.0, 'gastrointestinal'),\n",
       " (1.0, 'gaithersburg'),\n",
       " (1.0, 'founded'),\n",
       " (1.0, 'formed'),\n",
       " (1.0, 'england'),\n",
       " (1.0, 'developing'),\n",
       " (1.0, 'demerger'),\n",
       " (1.0, 'definiens'),\n",
       " (1.0, 'constituent'),\n",
       " (1.0, 'cardiovascular'),\n",
       " (1.0, 'among'),\n",
       " (1.0, '2013'),\n",
       " (1.0, '1999')]"
      ]
     },
     "execution_count": 49,
     "metadata": {},
     "output_type": "execute_result"
    }
   ],
   "source": [
    "rake = Rake(min_length=1, max_length=3, ranking_metric=Metric.WORD_DEGREE)\n",
    "rake.extract_keywords_from_text(text_az)\n",
    "rake.get_ranked_phrases_with_scores()"
   ]
  },
  {
   "cell_type": "code",
   "execution_count": 50,
   "id": "f4620480",
   "metadata": {
    "scrolled": true
   },
   "outputs": [
    {
     "data": {
      "text/plain": [
       "[(7.0, 'national stock exchange'),\n",
       " (7.0, 'london stock exchange'),\n",
       " (7.0, 'bombay stock exchange'),\n",
       " (6.0, 'swedish multinational pharmaceutical'),\n",
       " (5.0, 'largest pharmaceutical companies'),\n",
       " (5.0, '2006 ), medimmune'),\n",
       " (4.0, 'swedish astra ab'),\n",
       " (4.0, 'pharmaceutical operations'),\n",
       " (4.0, 'nasdaq omx stockholm'),\n",
       " (4.0, 'nasdaq new york'),\n",
       " (4.0, 'cambridge biomedical campus'),\n",
       " (4.0, 'british zeneca group'),\n",
       " (4.0, 'astrazeneca plc'),\n",
       " (4.0, 'astrazeneca covid'),\n",
       " (4.0, '2007 ), spirogen'),\n",
       " (3.0, 'three strategic centres'),\n",
       " (3.0, 'perhaps best known'),\n",
       " (3.0, 'imperial chemical industries'),\n",
       " (3.0, 'ftse 100 index'),\n",
       " (3.0, 'biotechnology company'),\n",
       " (3.0, 'astrazeneca'),\n",
       " (3.0, 'areas including oncology'),\n",
       " (3.0, '2014 ).'),\n",
       " (3.0, '1993 ).'),\n",
       " (2.0, 'secondary listings'),\n",
       " (2.0, 'primary listing'),\n",
       " (2.0, 'medimmune'),\n",
       " (2.0, 'major diseases'),\n",
       " (2.0, 'development concentrated'),\n",
       " (2.0, 'company'),\n",
       " (2.0, 'cambridge'),\n",
       " (2.0, 'british'),\n",
       " (2.0, '19 vaccine'),\n",
       " (1.0, 'world'),\n",
       " (1.0, 'u'),\n",
       " (1.0, 'sweden'),\n",
       " (1.0, 'since'),\n",
       " (1.0, 'respiratory'),\n",
       " (1.0, 'research'),\n",
       " (1.0, 'products'),\n",
       " (1.0, 'portfolio'),\n",
       " (1.0, 'oxford'),\n",
       " (1.0, 'neuroscience'),\n",
       " (1.0, 'merger'),\n",
       " (1.0, 'maryland'),\n",
       " (1.0, 'involvement'),\n",
       " (1.0, 'inflammation'),\n",
       " (1.0, 'infection'),\n",
       " (1.0, 'india'),\n",
       " (1.0, 'headquarters'),\n",
       " (1.0, 'gothenburg'),\n",
       " (1.0, 'gastrointestinal'),\n",
       " (1.0, 'gaithersburg'),\n",
       " (1.0, 'founded'),\n",
       " (1.0, 'formed'),\n",
       " (1.0, 'england'),\n",
       " (1.0, 'developing'),\n",
       " (1.0, 'demerger'),\n",
       " (1.0, 'definiens'),\n",
       " (1.0, 'constituent'),\n",
       " (1.0, 'cardiovascular'),\n",
       " (1.0, 'among'),\n",
       " (1.0, '2013'),\n",
       " (1.0, '1999')]"
      ]
     },
     "execution_count": 50,
     "metadata": {},
     "output_type": "execute_result"
    }
   ],
   "source": [
    "rake = Rake(min_length=1, max_length=3, ranking_metric=Metric.WORD_FREQUENCY)\n",
    "rake.extract_keywords_from_text(text_az)\n",
    "rake.get_ranked_phrases_with_scores()"
   ]
  },
  {
   "cell_type": "markdown",
   "id": "bd5ce1dd",
   "metadata": {},
   "source": [
    "### spaCy\n"
   ]
  },
  {
   "cell_type": "code",
   "execution_count": 2,
   "id": "0dec1c7f",
   "metadata": {},
   "outputs": [],
   "source": [
    "import spacy"
   ]
  },
  {
   "cell_type": "code",
   "execution_count": 7,
   "id": "0c1b508f",
   "metadata": {
    "scrolled": true
   },
   "outputs": [
    {
     "data": {
      "text/plain": [
       "(AstraZeneca plc,\n",
       " British,\n",
       " the Cambridge Biomedical Campus,\n",
       " Cambridge,\n",
       " England,\n",
       " Oxford-AstraZeneca,\n",
       " 1999,\n",
       " the Swedish Astra AB,\n",
       " the British Zeneca Group,\n",
       " Imperial Chemical Industries,\n",
       " 1993,\n",
       " Cambridge Antibody Technology,\n",
       " 2006,\n",
       " MedImmune,\n",
       " 2007,\n",
       " Spirogen,\n",
       " 2013,\n",
       " Definiens,\n",
       " MedImmune,\n",
       " 2014,\n",
       " three,\n",
       " Cambridge,\n",
       " England,\n",
       " Gothenburg,\n",
       " Sweden,\n",
       " Gaithersburg,\n",
       " Maryland,\n",
       " U.S.,\n",
       " AstraZeneca,\n",
       " the London Stock Exchange,\n",
       " Nasdaq OMX Stockholm,\n",
       " Nasdaq,\n",
       " the Bombay Stock Exchange,\n",
       " the National Stock Exchange of India)"
      ]
     },
     "execution_count": 7,
     "metadata": {},
     "output_type": "execute_result"
    }
   ],
   "source": [
    "nlp = spacy.load(\"en_core_web_trf\")\n",
    "doc = nlp(text_az)\n",
    "\n",
    "doc.ents"
   ]
  },
  {
   "cell_type": "code",
   "execution_count": 9,
   "id": "8f8a8f27",
   "metadata": {
    "scrolled": true
   },
   "outputs": [
    {
     "data": {
      "text/plain": [
       "(Tesla, Inc.,\n",
       " American,\n",
       " Palo Alto,\n",
       " California,\n",
       " Tesla,\n",
       " 2020,\n",
       " Tesla,\n",
       " 16%,\n",
       " 23%,\n",
       " Tesla Energy,\n",
       " the United States,\n",
       " Tesla Energy,\n",
       " one,\n",
       " 3 gigawatt-hour,\n",
       " 2020,\n",
       " July 2003,\n",
       " Martin Eberhard,\n",
       " Marc Tarpenning,\n",
       " Tesla Motors,\n",
       " Nikola Tesla,\n",
       " Elon Musk,\n",
       " the early days,\n",
       " 2008,\n",
       " Musk,\n",
       " Tesla,\n",
       " Tesla,\n",
       " first,\n",
       " Roadster,\n",
       " 2009,\n",
       " Model S,\n",
       " 2012,\n",
       " Model X,\n",
       " 2015,\n",
       " Model 3,\n",
       " 2017,\n",
       " Model Y,\n",
       " 2020,\n",
       " The Model 3,\n",
       " more than 800,000,\n",
       " December 2020,\n",
       " Tesla,\n",
       " 499,550,\n",
       " 2020,\n",
       " 35.8%,\n",
       " the previous year,\n",
       " 2020,\n",
       " 1 million,\n",
       " Tesla,\n",
       " Elon Musk)"
      ]
     },
     "execution_count": 9,
     "metadata": {},
     "output_type": "execute_result"
    }
   ],
   "source": [
    "doc = nlp(text_tesla)\n",
    "\n",
    "doc.ents"
   ]
  },
  {
   "cell_type": "markdown",
   "id": "9de8acc1",
   "metadata": {},
   "source": [
    "### YAKE"
   ]
  },
  {
   "cell_type": "code",
   "execution_count": 1,
   "id": "a62a2879",
   "metadata": {},
   "outputs": [],
   "source": [
    "import yake"
   ]
  },
  {
   "cell_type": "code",
   "execution_count": null,
   "id": "fbe51de9",
   "metadata": {},
   "outputs": [],
   "source": []
  }
 ],
 "metadata": {
  "kernelspec": {
   "display_name": "Python 3 (ipykernel)",
   "language": "python",
   "name": "python3"
  },
  "language_info": {
   "codemirror_mode": {
    "name": "ipython",
    "version": 3
   },
   "file_extension": ".py",
   "mimetype": "text/x-python",
   "name": "python",
   "nbconvert_exporter": "python",
   "pygments_lexer": "ipython3",
   "version": "3.9.6"
  }
 },
 "nbformat": 4,
 "nbformat_minor": 5
}
