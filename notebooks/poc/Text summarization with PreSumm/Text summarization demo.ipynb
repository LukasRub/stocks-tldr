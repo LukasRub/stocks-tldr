{
 "cells": [
  {
   "cell_type": "code",
   "execution_count": 16,
   "id": "51769a39",
   "metadata": {},
   "outputs": [],
   "source": [
    "from pathlib import Path\n",
    "\n",
    "def read_summaries():\n",
    "    abstractive_default = list()\n",
    "    with open(\"results/bertsumextabs_cnndm.abstractive.default.txt\", \"r\") as fp:\n",
    "        for line in fp:\n",
    "            abstractive_default.append(line)\n",
    "            \n",
    "    abstractive_min80 = list()\n",
    "    with open(\"results/bertsumextabs_cnndm.abstractive.min80.txt\", \"r\") as fp:\n",
    "        for line in fp:\n",
    "            abstractive_min80.append(line)   \n",
    "          \n",
    "    extractive_default = list()   \n",
    "    with open(\"results/bertsumext_cnndm.extractive.default.txt\", \"r\") as fp:\n",
    "        for line in fp:\n",
    "            extractive_default.append(line)\n",
    "            \n",
    "    return abstractive_default, abstractive_min80, extractive_default\n",
    "\n",
    "abstractive_default, abstractive_min80, extractive_default = read_summaries()\n",
    "\n",
    "def compare_articles_summaries(article_id, \n",
    "                               abstractive_default=abstractive_default, \n",
    "                               abstractive_min80=abstractive_min80, \n",
    "                               extractive_default=extractive_default):\n",
    "    articles_path = Path(\"./articles/\")\n",
    "    with open(articles_path / (str(article_id) + \".txt\"), \"r\") as fp:\n",
    "        article = fp.read()\n",
    "    \n",
    "    # Print full article\n",
    "    print(article)\n",
    "    \n",
    "    print(\"\\n\\n\\n\\n\")\n",
    "    \n",
    "    print(\"bertsumextabs_cnndm.abstractive.default\\n\")\n",
    "    print(abstractive_default[article_id].replace(\"<q>\", \"\\n\"))\n",
    "    \n",
    "    print(\"bertsumextabs_cnndm.abstractive.min80\\n\")\n",
    "    print(abstractive_min80[article_id].replace(\"<q>\", \"\\n\"))\n",
    "    \n",
    "    print(\"bertsumext_cnndm.extractive.default\\n\")\n",
    "    print(extractive_default[article_id].replace(\"<q>\", \"\\n\"))"
   ]
  },
  {
   "cell_type": "code",
   "execution_count": 21,
   "id": "21556980",
   "metadata": {
    "scrolled": false
   },
   "outputs": [
    {
     "name": "stdout",
     "output_type": "stream",
     "text": [
      "Can India’s proposed semiconductor deal with Taiwan be a gamechanger?\n",
      "\n",
      "Moore's Law states that the number of transistors on a microchip will double every two years, even while costs go down. Mister Moore, God bless him, surely may not have accounted for COVID-19, developments in artificial intelligence and the perfect storm of it all coming together, leading to a global shortage of semiconductors threatening industries from automobiles to smartphones and consumer electronics.\n",
      "\n",
      "Moore's Law will also be put to test as India doubles down on closing a reported deal with Taiwan, the big daddy in the semiconductor scene. The deal, worth Rs 55,000 crore in today's dollar value, envisages a big-scale chip production facility with Taiwanese technology in the sub continent. The larger trade deal (that will, of course, make big bro Beijing see red) in the offing could see duty cuts on components and other raw materials. A mega IT park with space for 100 Taiwanese companies is also on the anvil.\n",
      "\n",
      "While it fits in with the whole 'Atmanirbhar Bharat' narrative of the government, the project really would not solve the semiconductor crisis right now. Even if the deal is signed on in the coming days, the whole process is likely to take years before it starts functioning. A Gartner report says the present semiconductor shortage is likely to last till the second half of next year, while the India-Taiwan project, even if it moves at lightning speed, may not be able to start production before 2023 at best.\n",
      "\n",
      "Not to forget, the logistics are daunting. First the government has to find the right location, and this is not just a matter of providing land. Even if one were to ignore the requirement of a seaport for easy access to imported components, any such facility will need a steady source of highly skilled workforce.\n",
      "\n",
      "“The semiconductor industry hires a lot of STEM PhDs with highly specialised training, and good semiconductor engineers are very rare,” according to semiconductor theorist Karan Mehta on Quora. “Semiconductor companies need a far better educated workforce than other industries.”\n",
      "\n",
      "Then there is the whole issue of scale. One of the reasons why there is a global shortage in semiconductors right now is because of the very nature of this product. First is the requirement of highly-skilled expertise. And Moore's law, if it still applies, ensures that with more chips being packed into even more smaller circuits, not only is technology getting extremely advanced, the cost factor is becoming a deterrent for non-mega-size players.\n",
      "\n",
      "On top of that, any semiconductor manufacturing facility requires massive investments. For example, this weekend, Intel announced two new chip fabrication plants (fobs) in Arizona, USA. The cost? Rs 1.4 lakh crore. The world's leading semiconductor manufacturer, Taiwan's TSMC, also started work on its new fob in Arizona back in June. The estimated cost of the project, TSMC's first outside of its home country in 20 years (India would definitely be hoping to be the second) is at least 88,000 crore rupees. The India-Taiwan figure of 55,000 actually fades in comparison to these.\n",
      "\n",
      "Such massive investment and infra only makes sense when any project has enough clients and orders to make good on the money spent – the reason why semiconductor industry has been limited to few giga-sized projects present in just a handful of countries. Explains a systems architect, “To be a winner, you must have both a long-term strategy and an excellent 'this-year' product. It is challenging and once you hit the top in your area, you will attract huge competition. It is a winner-takes-all industry.”\n",
      "\n",
      "On one level, the Indian project does seem sorted on that front, with companies ranging from local car makers to smartphone manufacturers being crippled in recent months due to shortage of semiconductors being imported – Maruti Suzuki, for example, curtailed production by more than half this month due to lack of semiconductors for use. But as the new Indian plant kickstarts operation, whenever it might be, it could rest assured with even more newer areas where its chipsets could come into play – the advent of 5G, for example. But the sailing is not going to be exactly smooth, with the advent of newer technology, especially AI, threatening to upend the field.\n",
      "\n",
      "\n",
      "\n",
      "\n",
      "\n",
      "bertsumextabs_cnndm.abstractive.default\n",
      "can india+s proposed semiconductor deal with taiwan be a gamechanger\n",
      "moore's law states that the number of transistors on a microchip will double every two years\n",
      "a mega it park with 100 taiwanese companies is also on the anvil\n",
      "\n",
      "bertsumextabs_cnndm.abstractive.min80\n",
      "can india+s proposed semiconductor deal with taiwan be a gamechanger\n",
      "moore's law states that the number of transistors on a microchip will double every two years\n",
      "a mega it park with 100 taiwanese companies is also on the anvil\n",
      "the current semiconductor shortage is likely to last till the second half of next year , while the india-taiwan project could not start production before 2023\n",
      "\n",
      "bertsumext_cnndm.extractive.default\n",
      "Can India’s proposed semiconductor deal with Taiwan be a gamechanger?\n",
      "Moore's Law states that the number of transistors on a microchip will double every two years, even while costs go down. Mister Moore, God bless him, surely may not have accounted for COVID-19, developments in artificial intelligence and the perfect storm of it all coming together, leading to a global shortage of semiconductors threatening industries from automobiles to smartphones and consumer electronics.\n",
      "Moore's Law will also be put to test as India doubles down on closing a reported deal with Taiwan, the big daddy in the semiconductor scene. The deal, worth Rs 55,000 crore in today's dollar value, envisages a big-scale chip production facility with Taiwanese technology in the sub continent. The larger trade deal (that will, of course, make big bro Beijing see red) in the offing could see duty cuts on components and other raw materials. A mega IT park with space for 100 Taiwanese companies is also on the anvil.\n",
      "\n"
     ]
    }
   ],
   "source": [
    "compare_articles_summaries(15)"
   ]
  },
  {
   "cell_type": "code",
   "execution_count": null,
   "id": "35c9048c",
   "metadata": {},
   "outputs": [],
   "source": []
  }
 ],
 "metadata": {
  "kernelspec": {
   "display_name": "Python 3.9.6 64-bit ('tldr': conda)",
   "language": "python",
   "name": "python396jvsc74a57bd0e4c6f9ab0afc44c5c63e1b233fc90c970e43406a17ee57d06d7c91febfb3a0f7"
  },
  "language_info": {
   "codemirror_mode": {
    "name": "ipython",
    "version": 3
   },
   "file_extension": ".py",
   "mimetype": "text/x-python",
   "name": "python",
   "nbconvert_exporter": "python",
   "pygments_lexer": "ipython3",
   "version": "3.9.6"
  }
 },
 "nbformat": 4,
 "nbformat_minor": 5
}
