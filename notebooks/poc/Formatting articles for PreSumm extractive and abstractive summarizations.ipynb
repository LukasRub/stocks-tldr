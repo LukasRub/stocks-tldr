{
 "cells": [
  {
   "cell_type": "code",
   "execution_count": 1,
   "id": "293f3423",
   "metadata": {},
   "outputs": [],
   "source": [
    "from pathlib import Path"
   ]
  },
  {
   "cell_type": "code",
   "execution_count": 2,
   "id": "15f653e0",
   "metadata": {},
   "outputs": [],
   "source": [
    "article_files = sorted(list(Path(\"./articles\").glob(\"*.txt\")),\n",
    "                       key=lambda x: int(x.name.split(\".\")[0]))"
   ]
  },
  {
   "cell_type": "code",
   "execution_count": 3,
   "id": "84dd892b",
   "metadata": {},
   "outputs": [],
   "source": [
    "all_articles_abstractive = list()\n",
    "all_articles_extractive = list()\n",
    "\n",
    "for i, file in enumerate(article_files):\n",
    "    assert i == int(file.name.split(\".\")[0])\n",
    "    \n",
    "    with open(file, \"r\") as fp:\n",
    "        lines = [line.rstrip() for line in fp.readlines() if line != \"\\n\"]\n",
    "        all_articles_abstractive.append(\" \".join(lines))\n",
    "        all_articles_extractive.append(\" [CLS] [SEP] \".join(lines))"
   ]
  },
  {
   "cell_type": "code",
   "execution_count": 4,
   "id": "ead042c3",
   "metadata": {},
   "outputs": [],
   "source": [
    "def write_to_file(lines, filename):\n",
    "    with open(Path(\"PreSumm.data\") / filename, \"w\") as fp:\n",
    "        fp.write(\"\\n\".join(lines))"
   ]
  },
  {
   "cell_type": "code",
   "execution_count": 5,
   "id": "00e4997e",
   "metadata": {},
   "outputs": [],
   "source": [
    "write_to_file(all_articles_abstractive, \"doc2vec_test_articles.txt\")\n",
    "write_to_file(all_articles_extractive, \"doc2vec_test_articles.tagged.txt\")"
   ]
  },
  {
   "cell_type": "code",
   "execution_count": null,
   "id": "2f6bcd5e",
   "metadata": {},
   "outputs": [],
   "source": []
  }
 ],
 "metadata": {
  "kernelspec": {
   "display_name": "Python 3.9.6 64-bit ('tldr': conda)",
   "language": "python",
   "name": "python396jvsc74a57bd0e4c6f9ab0afc44c5c63e1b233fc90c970e43406a17ee57d06d7c91febfb3a0f7"
  },
  "language_info": {
   "codemirror_mode": {
    "name": "ipython",
    "version": 3
   },
   "file_extension": ".py",
   "mimetype": "text/x-python",
   "name": "python",
   "nbconvert_exporter": "python",
   "pygments_lexer": "ipython3",
   "version": "3.9.6"
  }
 },
 "nbformat": 4,
 "nbformat_minor": 5
}
